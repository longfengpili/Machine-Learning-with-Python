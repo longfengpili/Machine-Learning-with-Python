{
 "cells": [
  {
   "cell_type": "markdown",
   "metadata": {},
   "source": [
    "[dataset](https://www.kaggle.com/c/avazu-ctr-prediction/data)"
   ]
  },
  {
   "cell_type": "markdown",
   "metadata": {},
   "source": [
    "# Click-Through Rate Prediction"
   ]
  },
  {
   "cell_type": "code",
   "execution_count": 1,
   "metadata": {
    "ExecuteTime": {
     "end_time": "2019-06-10T02:11:05.873413Z",
     "start_time": "2019-06-10T02:10:09.051783Z"
    }
   },
   "outputs": [],
   "source": [
    "import numpy as np\n",
    "import random\n",
    "n = 40428967  #total number of records in the clickstream data \n",
    "sample_size = 1000000\n",
    "skip_values = sorted(random.sample(range(1,n), n-sample_size)) \n",
    "\n",
    "types_train = {\n",
    "    'id': np.dtype(int),\n",
    "    'click': np.dtype(int),\n",
    "    'hour': np.dtype(int),\n",
    "    'C1': np.dtype(int),\n",
    "    'banner_pos': np.dtype(int),\n",
    "    'site_id': np.dtype(str),\n",
    "    'site_domain': np.dtype(str), \n",
    "    'site_category': np.dtype(str),\n",
    "    'app_id': np.dtype(str),\n",
    "    'app_domain': np.dtype(str),\n",
    "    'app_category': np.dtype(str),\n",
    "    'device_id': np.dtype(str),\n",
    "    'device_ip': np.dtype(str),\n",
    "    'device_model': np.dtype(str),\n",
    "    'device_type': np.dtype(int),\n",
    "    'device_conn_type': np.dtype(int),\n",
    "    'C14': np.dtype(int),\n",
    "    'C15': np.dtype(int),\n",
    "    'C16': np.dtype(int),\n",
    "    'C17': np.dtype(int),\n",
    "    'C18': np.dtype(int),\n",
    "    'C19': np.dtype(int),\n",
    "    'C20': np.dtype(int),\n",
    "    'C21':np.dtype(int)\n",
    "}\n",
    "\n",
    "types_test = {\n",
    "    'id': np.dtype(int),\n",
    "    'hour': np.dtype(int),\n",
    "    'C1': np.dtype(int),\n",
    "    'banner_pos': np.dtype(int),\n",
    "    'site_id': np.dtype(str),\n",
    "    'site_domain': np.dtype(str), \n",
    "    'site_category': np.dtype(str),\n",
    "    'app_id': np.dtype(str),\n",
    "    'app_domain': np.dtype(str),\n",
    "    'app_category': np.dtype(str),\n",
    "    'device_id': np.dtype(str),\n",
    "    'device_ip': np.dtype(str),\n",
    "    'device_model': np.dtype(str),\n",
    "    'device_type': np.dtype(int),\n",
    "    'device_conn_type': np.dtype(int),\n",
    "    'C14': np.dtype(int),\n",
    "    'C15': np.dtype(int),\n",
    "    'C16': np.dtype(int),\n",
    "    'C17': np.dtype(int),\n",
    "    'C18': np.dtype(int),\n",
    "    'C19': np.dtype(int),\n",
    "    'C20': np.dtype(int),\n",
    "    'C21':np.dtype(int)\n",
    "}"
   ]
  },
  {
   "cell_type": "code",
   "execution_count": 2,
   "metadata": {
    "ExecuteTime": {
     "end_time": "2019-06-10T02:12:02.875016Z",
     "start_time": "2019-06-10T02:11:09.030876Z"
    }
   },
   "outputs": [
    {
     "data": {
      "text/html": [
       "<div>\n",
       "<style scoped>\n",
       "    .dataframe tbody tr th:only-of-type {\n",
       "        vertical-align: middle;\n",
       "    }\n",
       "\n",
       "    .dataframe tbody tr th {\n",
       "        vertical-align: top;\n",
       "    }\n",
       "\n",
       "    .dataframe thead th {\n",
       "        text-align: right;\n",
       "    }\n",
       "</style>\n",
       "<table border=\"1\" class=\"dataframe\">\n",
       "  <thead>\n",
       "    <tr style=\"text-align: right;\">\n",
       "      <th></th>\n",
       "      <th>id</th>\n",
       "      <th>click</th>\n",
       "      <th>hour</th>\n",
       "      <th>C1</th>\n",
       "      <th>banner_pos</th>\n",
       "      <th>site_id</th>\n",
       "      <th>site_domain</th>\n",
       "      <th>site_category</th>\n",
       "      <th>app_id</th>\n",
       "      <th>app_domain</th>\n",
       "      <th>...</th>\n",
       "      <th>device_type</th>\n",
       "      <th>device_conn_type</th>\n",
       "      <th>C14</th>\n",
       "      <th>C15</th>\n",
       "      <th>C16</th>\n",
       "      <th>C17</th>\n",
       "      <th>C18</th>\n",
       "      <th>C19</th>\n",
       "      <th>C20</th>\n",
       "      <th>C21</th>\n",
       "    </tr>\n",
       "  </thead>\n",
       "  <tbody>\n",
       "    <tr>\n",
       "      <th>0</th>\n",
       "      <td>39259272</td>\n",
       "      <td>1</td>\n",
       "      <td>2014-10-21</td>\n",
       "      <td>1005</td>\n",
       "      <td>0</td>\n",
       "      <td>1fbe01fe</td>\n",
       "      <td>f3845767</td>\n",
       "      <td>28905ebd</td>\n",
       "      <td>ecad2386</td>\n",
       "      <td>7801e8d9</td>\n",
       "      <td>...</td>\n",
       "      <td>1</td>\n",
       "      <td>0</td>\n",
       "      <td>15708</td>\n",
       "      <td>320</td>\n",
       "      <td>50</td>\n",
       "      <td>1722</td>\n",
       "      <td>0</td>\n",
       "      <td>35</td>\n",
       "      <td>100084</td>\n",
       "      <td>79</td>\n",
       "    </tr>\n",
       "    <tr>\n",
       "      <th>1</th>\n",
       "      <td>1922594537</td>\n",
       "      <td>0</td>\n",
       "      <td>2014-10-21</td>\n",
       "      <td>1005</td>\n",
       "      <td>0</td>\n",
       "      <td>1fbe01fe</td>\n",
       "      <td>f3845767</td>\n",
       "      <td>28905ebd</td>\n",
       "      <td>ecad2386</td>\n",
       "      <td>7801e8d9</td>\n",
       "      <td>...</td>\n",
       "      <td>1</td>\n",
       "      <td>0</td>\n",
       "      <td>15701</td>\n",
       "      <td>320</td>\n",
       "      <td>50</td>\n",
       "      <td>1722</td>\n",
       "      <td>0</td>\n",
       "      <td>35</td>\n",
       "      <td>-1</td>\n",
       "      <td>79</td>\n",
       "    </tr>\n",
       "    <tr>\n",
       "      <th>2</th>\n",
       "      <td>886239130</td>\n",
       "      <td>0</td>\n",
       "      <td>2014-10-21</td>\n",
       "      <td>1005</td>\n",
       "      <td>1</td>\n",
       "      <td>e151e245</td>\n",
       "      <td>7e091613</td>\n",
       "      <td>f028772b</td>\n",
       "      <td>ecad2386</td>\n",
       "      <td>7801e8d9</td>\n",
       "      <td>...</td>\n",
       "      <td>1</td>\n",
       "      <td>0</td>\n",
       "      <td>17264</td>\n",
       "      <td>320</td>\n",
       "      <td>50</td>\n",
       "      <td>1872</td>\n",
       "      <td>3</td>\n",
       "      <td>39</td>\n",
       "      <td>-1</td>\n",
       "      <td>23</td>\n",
       "    </tr>\n",
       "    <tr>\n",
       "      <th>3</th>\n",
       "      <td>-440361648</td>\n",
       "      <td>0</td>\n",
       "      <td>2014-10-21</td>\n",
       "      <td>1005</td>\n",
       "      <td>1</td>\n",
       "      <td>faf9c1c2</td>\n",
       "      <td>c8223ee3</td>\n",
       "      <td>f028772b</td>\n",
       "      <td>ecad2386</td>\n",
       "      <td>7801e8d9</td>\n",
       "      <td>...</td>\n",
       "      <td>1</td>\n",
       "      <td>0</td>\n",
       "      <td>18993</td>\n",
       "      <td>320</td>\n",
       "      <td>50</td>\n",
       "      <td>2161</td>\n",
       "      <td>0</td>\n",
       "      <td>35</td>\n",
       "      <td>-1</td>\n",
       "      <td>157</td>\n",
       "    </tr>\n",
       "    <tr>\n",
       "      <th>4</th>\n",
       "      <td>-1859646727</td>\n",
       "      <td>0</td>\n",
       "      <td>2014-10-21</td>\n",
       "      <td>1005</td>\n",
       "      <td>0</td>\n",
       "      <td>6c5b482c</td>\n",
       "      <td>7687a86e</td>\n",
       "      <td>3e814130</td>\n",
       "      <td>ecad2386</td>\n",
       "      <td>7801e8d9</td>\n",
       "      <td>...</td>\n",
       "      <td>1</td>\n",
       "      <td>0</td>\n",
       "      <td>17654</td>\n",
       "      <td>300</td>\n",
       "      <td>250</td>\n",
       "      <td>1994</td>\n",
       "      <td>2</td>\n",
       "      <td>39</td>\n",
       "      <td>100083</td>\n",
       "      <td>33</td>\n",
       "    </tr>\n",
       "  </tbody>\n",
       "</table>\n",
       "<p>5 rows × 24 columns</p>\n",
       "</div>"
      ],
      "text/plain": [
       "           id  click       hour    C1  banner_pos   site_id site_domain  \\\n",
       "0    39259272      1 2014-10-21  1005           0  1fbe01fe    f3845767   \n",
       "1  1922594537      0 2014-10-21  1005           0  1fbe01fe    f3845767   \n",
       "2   886239130      0 2014-10-21  1005           1  e151e245    7e091613   \n",
       "3  -440361648      0 2014-10-21  1005           1  faf9c1c2    c8223ee3   \n",
       "4 -1859646727      0 2014-10-21  1005           0  6c5b482c    7687a86e   \n",
       "\n",
       "  site_category    app_id app_domain  ... device_type device_conn_type    C14  \\\n",
       "0      28905ebd  ecad2386   7801e8d9  ...           1                0  15708   \n",
       "1      28905ebd  ecad2386   7801e8d9  ...           1                0  15701   \n",
       "2      f028772b  ecad2386   7801e8d9  ...           1                0  17264   \n",
       "3      f028772b  ecad2386   7801e8d9  ...           1                0  18993   \n",
       "4      3e814130  ecad2386   7801e8d9  ...           1                0  17654   \n",
       "\n",
       "   C15  C16   C17  C18  C19     C20  C21  \n",
       "0  320   50  1722    0   35  100084   79  \n",
       "1  320   50  1722    0   35      -1   79  \n",
       "2  320   50  1872    3   39      -1   23  \n",
       "3  320   50  2161    0   35      -1  157  \n",
       "4  300  250  1994    2   39  100083   33  \n",
       "\n",
       "[5 rows x 24 columns]"
      ]
     },
     "execution_count": 2,
     "metadata": {},
     "output_type": "execute_result"
    }
   ],
   "source": [
    "import pandas as pd\n",
    "import gzip\n",
    "\n",
    "parse_date = lambda val : pd.datetime.strptime(val, '%y%m%d%H')\n",
    "\n",
    "with gzip.open('e:/data/avazu-ctr-prediction/train.gz') as f:\n",
    "    train = pd.read_csv(f, parse_dates = ['hour'], date_parser = parse_date, dtype=types_train, skiprows = skip_values)\n",
    "\n",
    "train.head()"
   ]
  },
  {
   "cell_type": "code",
   "execution_count": 3,
   "metadata": {
    "ExecuteTime": {
     "end_time": "2019-06-10T02:18:34.167630Z",
     "start_time": "2019-06-10T02:18:34.162644Z"
    }
   },
   "outputs": [
    {
     "data": {
      "text/plain": [
       "(1000000, 24)"
      ]
     },
     "execution_count": 3,
     "metadata": {},
     "output_type": "execute_result"
    }
   ],
   "source": [
    "train.shape"
   ]
  },
  {
   "cell_type": "code",
   "execution_count": 4,
   "metadata": {
    "ExecuteTime": {
     "end_time": "2019-06-10T02:18:37.441872Z",
     "start_time": "2019-06-10T02:18:37.437856Z"
    }
   },
   "outputs": [
    {
     "data": {
      "text/plain": [
       "id                           int32\n",
       "click                        int32\n",
       "hour                datetime64[ns]\n",
       "C1                           int32\n",
       "banner_pos                   int32\n",
       "site_id                     object\n",
       "site_domain                 object\n",
       "site_category               object\n",
       "app_id                      object\n",
       "app_domain                  object\n",
       "app_category                object\n",
       "device_id                   object\n",
       "device_ip                   object\n",
       "device_model                object\n",
       "device_type                  int32\n",
       "device_conn_type             int32\n",
       "C14                          int32\n",
       "C15                          int32\n",
       "C16                          int32\n",
       "C17                          int32\n",
       "C18                          int32\n",
       "C19                          int32\n",
       "C20                          int32\n",
       "C21                          int32\n",
       "dtype: object"
      ]
     },
     "execution_count": 4,
     "metadata": {},
     "output_type": "execute_result"
    }
   ],
   "source": [
    "train.dtypes"
   ]
  },
  {
   "cell_type": "markdown",
   "metadata": {},
   "source": [
    "Target feature -> click\n",
    "\n",
    "site features -> site_id, site_domain, site_category\n",
    "\n",
    "app feature -> app_id, app_domain, app_category\n",
    "\n",
    "device feature -> device_id, device_ip, device_model, device_type, device_conn_type\n",
    "\n",
    "anonymized categorical features -> C14-C21"
   ]
  },
  {
   "cell_type": "code",
   "execution_count": 5,
   "metadata": {
    "ExecuteTime": {
     "end_time": "2019-06-10T02:18:41.914678Z",
     "start_time": "2019-06-10T02:18:41.873788Z"
    }
   },
   "outputs": [
    {
     "data": {
      "text/plain": [
       "0    829728\n",
       "1    170272\n",
       "Name: click, dtype: int64"
      ]
     },
     "execution_count": 5,
     "metadata": {},
     "output_type": "execute_result"
    }
   ],
   "source": [
    "train['click'].value_counts()"
   ]
  },
  {
   "cell_type": "code",
   "execution_count": 6,
   "metadata": {
    "ExecuteTime": {
     "end_time": "2019-06-10T02:18:45.986878Z",
     "start_time": "2019-06-10T02:18:45.150024Z"
    }
   },
   "outputs": [
    {
     "data": {
      "text/plain": [
       "<matplotlib.axes._subplots.AxesSubplot at 0x1ecc0e291d0>"
      ]
     },
     "execution_count": 6,
     "metadata": {},
     "output_type": "execute_result"
    },
    {
     "data": {
      "image/png": "[encoded data removed]",
      "text/plain": [
       "<Figure size 432x288 with 1 Axes>"
      ]
     },
     "metadata": {
      "needs_background": "light"
     },
     "output_type": "display_data"
    }
   ],
   "source": [
    "import seaborn as sns\n",
    "import matplotlib.pyplot as plt\n",
    "\n",
    "sns.countplot(x='click',data=train, palette='hls')"
   ]
  },
  {
   "cell_type": "code",
   "execution_count": 7,
   "metadata": {
    "ExecuteTime": {
     "end_time": "2019-06-10T02:18:49.115616Z",
     "start_time": "2019-06-10T02:18:49.067638Z"
    }
   },
   "outputs": [
    {
     "data": {
      "text/plain": [
       "0    0.829728\n",
       "1    0.170272\n",
       "Name: click, dtype: float64"
      ]
     },
     "execution_count": 7,
     "metadata": {},
     "output_type": "execute_result"
    }
   ],
   "source": [
    "train['click'].value_counts()/len(train)"
   ]
  },
  {
   "cell_type": "markdown",
   "metadata": {},
   "source": [
    "Click through rate is approx. 17%, and approx. 83% is not clicked. "
   ]
  },
  {
   "cell_type": "code",
   "execution_count": 8,
   "metadata": {
    "ExecuteTime": {
     "end_time": "2019-06-10T02:19:04.783786Z",
     "start_time": "2019-06-10T02:19:02.564307Z"
    }
   },
   "outputs": [
    {
     "data": {
      "text/html": [
       "<div>\n",
       "<style scoped>\n",
       "    .dataframe tbody tr th:only-of-type {\n",
       "        vertical-align: middle;\n",
       "    }\n",
       "\n",
       "    .dataframe tbody tr th {\n",
       "        vertical-align: top;\n",
       "    }\n",
       "\n",
       "    .dataframe thead th {\n",
       "        text-align: right;\n",
       "    }\n",
       "</style>\n",
       "<table border=\"1\" class=\"dataframe\">\n",
       "  <thead>\n",
       "    <tr style=\"text-align: right;\">\n",
       "      <th></th>\n",
       "      <th>count</th>\n",
       "      <th>unique</th>\n",
       "      <th>top</th>\n",
       "      <th>freq</th>\n",
       "      <th>first</th>\n",
       "      <th>last</th>\n",
       "      <th>mean</th>\n",
       "      <th>std</th>\n",
       "      <th>min</th>\n",
       "      <th>25%</th>\n",
       "      <th>50%</th>\n",
       "      <th>75%</th>\n",
       "      <th>max</th>\n",
       "    </tr>\n",
       "  </thead>\n",
       "  <tbody>\n",
       "    <tr>\n",
       "      <th>id</th>\n",
       "      <td>1e+06</td>\n",
       "      <td>NaN</td>\n",
       "      <td>NaN</td>\n",
       "      <td>NaN</td>\n",
       "      <td>NaN</td>\n",
       "      <td>NaN</td>\n",
       "      <td>2.86913e+06</td>\n",
       "      <td>1.23933e+09</td>\n",
       "      <td>-2.14748e+09</td>\n",
       "      <td>-1.06909e+09</td>\n",
       "      <td>2.8665e+06</td>\n",
       "      <td>1.07652e+09</td>\n",
       "      <td>2.14748e+09</td>\n",
       "    </tr>\n",
       "    <tr>\n",
       "      <th>click</th>\n",
       "      <td>1e+06</td>\n",
       "      <td>NaN</td>\n",
       "      <td>NaN</td>\n",
       "      <td>NaN</td>\n",
       "      <td>NaN</td>\n",
       "      <td>NaN</td>\n",
       "      <td>0.170272</td>\n",
       "      <td>0.375872</td>\n",
       "      <td>0</td>\n",
       "      <td>0</td>\n",
       "      <td>0</td>\n",
       "      <td>0</td>\n",
       "      <td>1</td>\n",
       "    </tr>\n",
       "    <tr>\n",
       "      <th>hour</th>\n",
       "      <td>1000000</td>\n",
       "      <td>240</td>\n",
       "      <td>2014-10-22 09:00:00</td>\n",
       "      <td>11210</td>\n",
       "      <td>2014-10-21 00:00:00</td>\n",
       "      <td>2014-10-30 23:00:00</td>\n",
       "      <td>NaN</td>\n",
       "      <td>NaN</td>\n",
       "      <td>NaN</td>\n",
       "      <td>NaN</td>\n",
       "      <td>NaN</td>\n",
       "      <td>NaN</td>\n",
       "      <td>NaN</td>\n",
       "    </tr>\n",
       "    <tr>\n",
       "      <th>C1</th>\n",
       "      <td>1e+06</td>\n",
       "      <td>NaN</td>\n",
       "      <td>NaN</td>\n",
       "      <td>NaN</td>\n",
       "      <td>NaN</td>\n",
       "      <td>NaN</td>\n",
       "      <td>1004.97</td>\n",
       "      <td>1.09177</td>\n",
       "      <td>1001</td>\n",
       "      <td>1005</td>\n",
       "      <td>1005</td>\n",
       "      <td>1005</td>\n",
       "      <td>1012</td>\n",
       "    </tr>\n",
       "    <tr>\n",
       "      <th>banner_pos</th>\n",
       "      <td>1e+06</td>\n",
       "      <td>NaN</td>\n",
       "      <td>NaN</td>\n",
       "      <td>NaN</td>\n",
       "      <td>NaN</td>\n",
       "      <td>NaN</td>\n",
       "      <td>0.287764</td>\n",
       "      <td>0.503432</td>\n",
       "      <td>0</td>\n",
       "      <td>0</td>\n",
       "      <td>0</td>\n",
       "      <td>1</td>\n",
       "      <td>7</td>\n",
       "    </tr>\n",
       "    <tr>\n",
       "      <th>site_id</th>\n",
       "      <td>1000000</td>\n",
       "      <td>2629</td>\n",
       "      <td>85f751fd</td>\n",
       "      <td>360827</td>\n",
       "      <td>NaN</td>\n",
       "      <td>NaN</td>\n",
       "      <td>NaN</td>\n",
       "      <td>NaN</td>\n",
       "      <td>NaN</td>\n",
       "      <td>NaN</td>\n",
       "      <td>NaN</td>\n",
       "      <td>NaN</td>\n",
       "      <td>NaN</td>\n",
       "    </tr>\n",
       "    <tr>\n",
       "      <th>site_domain</th>\n",
       "      <td>1000000</td>\n",
       "      <td>2858</td>\n",
       "      <td>c4e18dd6</td>\n",
       "      <td>373875</td>\n",
       "      <td>NaN</td>\n",
       "      <td>NaN</td>\n",
       "      <td>NaN</td>\n",
       "      <td>NaN</td>\n",
       "      <td>NaN</td>\n",
       "      <td>NaN</td>\n",
       "      <td>NaN</td>\n",
       "      <td>NaN</td>\n",
       "      <td>NaN</td>\n",
       "    </tr>\n",
       "    <tr>\n",
       "      <th>site_category</th>\n",
       "      <td>1000000</td>\n",
       "      <td>20</td>\n",
       "      <td>50e219e0</td>\n",
       "      <td>408706</td>\n",
       "      <td>NaN</td>\n",
       "      <td>NaN</td>\n",
       "      <td>NaN</td>\n",
       "      <td>NaN</td>\n",
       "      <td>NaN</td>\n",
       "      <td>NaN</td>\n",
       "      <td>NaN</td>\n",
       "      <td>NaN</td>\n",
       "      <td>NaN</td>\n",
       "    </tr>\n",
       "    <tr>\n",
       "      <th>app_id</th>\n",
       "      <td>1000000</td>\n",
       "      <td>3182</td>\n",
       "      <td>ecad2386</td>\n",
       "      <td>639173</td>\n",
       "      <td>NaN</td>\n",
       "      <td>NaN</td>\n",
       "      <td>NaN</td>\n",
       "      <td>NaN</td>\n",
       "      <td>NaN</td>\n",
       "      <td>NaN</td>\n",
       "      <td>NaN</td>\n",
       "      <td>NaN</td>\n",
       "      <td>NaN</td>\n",
       "    </tr>\n",
       "    <tr>\n",
       "      <th>app_domain</th>\n",
       "      <td>1000000</td>\n",
       "      <td>204</td>\n",
       "      <td>7801e8d9</td>\n",
       "      <td>673784</td>\n",
       "      <td>NaN</td>\n",
       "      <td>NaN</td>\n",
       "      <td>NaN</td>\n",
       "      <td>NaN</td>\n",
       "      <td>NaN</td>\n",
       "      <td>NaN</td>\n",
       "      <td>NaN</td>\n",
       "      <td>NaN</td>\n",
       "      <td>NaN</td>\n",
       "    </tr>\n",
       "    <tr>\n",
       "      <th>app_category</th>\n",
       "      <td>1000000</td>\n",
       "      <td>27</td>\n",
       "      <td>07d7df22</td>\n",
       "      <td>647214</td>\n",
       "      <td>NaN</td>\n",
       "      <td>NaN</td>\n",
       "      <td>NaN</td>\n",
       "      <td>NaN</td>\n",
       "      <td>NaN</td>\n",
       "      <td>NaN</td>\n",
       "      <td>NaN</td>\n",
       "      <td>NaN</td>\n",
       "      <td>NaN</td>\n",
       "    </tr>\n",
       "    <tr>\n",
       "      <th>device_id</th>\n",
       "      <td>1000000</td>\n",
       "      <td>150505</td>\n",
       "      <td>a99f214a</td>\n",
       "      <td>825239</td>\n",
       "      <td>NaN</td>\n",
       "      <td>NaN</td>\n",
       "      <td>NaN</td>\n",
       "      <td>NaN</td>\n",
       "      <td>NaN</td>\n",
       "      <td>NaN</td>\n",
       "      <td>NaN</td>\n",
       "      <td>NaN</td>\n",
       "      <td>NaN</td>\n",
       "    </tr>\n",
       "    <tr>\n",
       "      <th>device_ip</th>\n",
       "      <td>1000000</td>\n",
       "      <td>555401</td>\n",
       "      <td>6b9769f2</td>\n",
       "      <td>5199</td>\n",
       "      <td>NaN</td>\n",
       "      <td>NaN</td>\n",
       "      <td>NaN</td>\n",
       "      <td>NaN</td>\n",
       "      <td>NaN</td>\n",
       "      <td>NaN</td>\n",
       "      <td>NaN</td>\n",
       "      <td>NaN</td>\n",
       "      <td>NaN</td>\n",
       "    </tr>\n",
       "    <tr>\n",
       "      <th>device_model</th>\n",
       "      <td>1000000</td>\n",
       "      <td>5172</td>\n",
       "      <td>8a4875bd</td>\n",
       "      <td>60823</td>\n",
       "      <td>NaN</td>\n",
       "      <td>NaN</td>\n",
       "      <td>NaN</td>\n",
       "      <td>NaN</td>\n",
       "      <td>NaN</td>\n",
       "      <td>NaN</td>\n",
       "      <td>NaN</td>\n",
       "      <td>NaN</td>\n",
       "      <td>NaN</td>\n",
       "    </tr>\n",
       "    <tr>\n",
       "      <th>device_type</th>\n",
       "      <td>1e+06</td>\n",
       "      <td>NaN</td>\n",
       "      <td>NaN</td>\n",
       "      <td>NaN</td>\n",
       "      <td>NaN</td>\n",
       "      <td>NaN</td>\n",
       "      <td>1.01561</td>\n",
       "      <td>0.527572</td>\n",
       "      <td>0</td>\n",
       "      <td>1</td>\n",
       "      <td>1</td>\n",
       "      <td>1</td>\n",
       "      <td>5</td>\n",
       "    </tr>\n",
       "    <tr>\n",
       "      <th>device_conn_type</th>\n",
       "      <td>1e+06</td>\n",
       "      <td>NaN</td>\n",
       "      <td>NaN</td>\n",
       "      <td>NaN</td>\n",
       "      <td>NaN</td>\n",
       "      <td>NaN</td>\n",
       "      <td>0.33144</td>\n",
       "      <td>0.855171</td>\n",
       "      <td>0</td>\n",
       "      <td>0</td>\n",
       "      <td>0</td>\n",
       "      <td>0</td>\n",
       "      <td>5</td>\n",
       "    </tr>\n",
       "    <tr>\n",
       "      <th>C14</th>\n",
       "      <td>1e+06</td>\n",
       "      <td>NaN</td>\n",
       "      <td>NaN</td>\n",
       "      <td>NaN</td>\n",
       "      <td>NaN</td>\n",
       "      <td>NaN</td>\n",
       "      <td>18847.9</td>\n",
       "      <td>4954.85</td>\n",
       "      <td>375</td>\n",
       "      <td>16920</td>\n",
       "      <td>20346</td>\n",
       "      <td>21894</td>\n",
       "      <td>24052</td>\n",
       "    </tr>\n",
       "    <tr>\n",
       "      <th>C15</th>\n",
       "      <td>1e+06</td>\n",
       "      <td>NaN</td>\n",
       "      <td>NaN</td>\n",
       "      <td>NaN</td>\n",
       "      <td>NaN</td>\n",
       "      <td>NaN</td>\n",
       "      <td>318.868</td>\n",
       "      <td>21.2192</td>\n",
       "      <td>120</td>\n",
       "      <td>320</td>\n",
       "      <td>320</td>\n",
       "      <td>320</td>\n",
       "      <td>1024</td>\n",
       "    </tr>\n",
       "    <tr>\n",
       "      <th>C16</th>\n",
       "      <td>1e+06</td>\n",
       "      <td>NaN</td>\n",
       "      <td>NaN</td>\n",
       "      <td>NaN</td>\n",
       "      <td>NaN</td>\n",
       "      <td>NaN</td>\n",
       "      <td>60.0721</td>\n",
       "      <td>47.1282</td>\n",
       "      <td>20</td>\n",
       "      <td>50</td>\n",
       "      <td>50</td>\n",
       "      <td>50</td>\n",
       "      <td>1024</td>\n",
       "    </tr>\n",
       "    <tr>\n",
       "      <th>C17</th>\n",
       "      <td>1e+06</td>\n",
       "      <td>NaN</td>\n",
       "      <td>NaN</td>\n",
       "      <td>NaN</td>\n",
       "      <td>NaN</td>\n",
       "      <td>NaN</td>\n",
       "      <td>2113.12</td>\n",
       "      <td>609.233</td>\n",
       "      <td>112</td>\n",
       "      <td>1863</td>\n",
       "      <td>2323</td>\n",
       "      <td>2526</td>\n",
       "      <td>2758</td>\n",
       "    </tr>\n",
       "    <tr>\n",
       "      <th>C18</th>\n",
       "      <td>1e+06</td>\n",
       "      <td>NaN</td>\n",
       "      <td>NaN</td>\n",
       "      <td>NaN</td>\n",
       "      <td>NaN</td>\n",
       "      <td>NaN</td>\n",
       "      <td>1.4301</td>\n",
       "      <td>1.32627</td>\n",
       "      <td>0</td>\n",
       "      <td>0</td>\n",
       "      <td>2</td>\n",
       "      <td>3</td>\n",
       "      <td>3</td>\n",
       "    </tr>\n",
       "    <tr>\n",
       "      <th>C19</th>\n",
       "      <td>1e+06</td>\n",
       "      <td>NaN</td>\n",
       "      <td>NaN</td>\n",
       "      <td>NaN</td>\n",
       "      <td>NaN</td>\n",
       "      <td>NaN</td>\n",
       "      <td>227.021</td>\n",
       "      <td>350.858</td>\n",
       "      <td>33</td>\n",
       "      <td>35</td>\n",
       "      <td>39</td>\n",
       "      <td>171</td>\n",
       "      <td>1839</td>\n",
       "    </tr>\n",
       "    <tr>\n",
       "      <th>C20</th>\n",
       "      <td>1e+06</td>\n",
       "      <td>NaN</td>\n",
       "      <td>NaN</td>\n",
       "      <td>NaN</td>\n",
       "      <td>NaN</td>\n",
       "      <td>NaN</td>\n",
       "      <td>53263.6</td>\n",
       "      <td>49953.9</td>\n",
       "      <td>-1</td>\n",
       "      <td>-1</td>\n",
       "      <td>100050</td>\n",
       "      <td>100094</td>\n",
       "      <td>100248</td>\n",
       "    </tr>\n",
       "    <tr>\n",
       "      <th>C21</th>\n",
       "      <td>1e+06</td>\n",
       "      <td>NaN</td>\n",
       "      <td>NaN</td>\n",
       "      <td>NaN</td>\n",
       "      <td>NaN</td>\n",
       "      <td>NaN</td>\n",
       "      <td>83.4567</td>\n",
       "      <td>70.281</td>\n",
       "      <td>1</td>\n",
       "      <td>23</td>\n",
       "      <td>61</td>\n",
       "      <td>101</td>\n",
       "      <td>255</td>\n",
       "    </tr>\n",
       "  </tbody>\n",
       "</table>\n",
       "</div>"
      ],
      "text/plain": [
       "                    count  unique                  top    freq  \\\n",
       "id                  1e+06     NaN                  NaN     NaN   \n",
       "click               1e+06     NaN                  NaN     NaN   \n",
       "hour              1000000     240  2014-10-22 09:00:00   11210   \n",
       "C1                  1e+06     NaN                  NaN     NaN   \n",
       "banner_pos          1e+06     NaN                  NaN     NaN   \n",
       "site_id           1000000    2629             85f751fd  360827   \n",
       "site_domain       1000000    2858             c4e18dd6  373875   \n",
       "site_category     1000000      20             50e219e0  408706   \n",
       "app_id            1000000    3182             ecad2386  639173   \n",
       "app_domain        1000000     204             7801e8d9  673784   \n",
       "app_category      1000000      27             07d7df22  647214   \n",
       "device_id         1000000  150505             a99f214a  825239   \n",
       "device_ip         1000000  555401             6b9769f2    5199   \n",
       "device_model      1000000    5172             8a4875bd   60823   \n",
       "device_type         1e+06     NaN                  NaN     NaN   \n",
       "device_conn_type    1e+06     NaN                  NaN     NaN   \n",
       "C14                 1e+06     NaN                  NaN     NaN   \n",
       "C15                 1e+06     NaN                  NaN     NaN   \n",
       "C16                 1e+06     NaN                  NaN     NaN   \n",
       "C17                 1e+06     NaN                  NaN     NaN   \n",
       "C18                 1e+06     NaN                  NaN     NaN   \n",
       "C19                 1e+06     NaN                  NaN     NaN   \n",
       "C20                 1e+06     NaN                  NaN     NaN   \n",
       "C21                 1e+06     NaN                  NaN     NaN   \n",
       "\n",
       "                                first                 last         mean  \\\n",
       "id                                NaN                  NaN  2.86913e+06   \n",
       "click                             NaN                  NaN     0.170272   \n",
       "hour              2014-10-21 00:00:00  2014-10-30 23:00:00          NaN   \n",
       "C1                                NaN                  NaN      1004.97   \n",
       "banner_pos                        NaN                  NaN     0.287764   \n",
       "site_id                           NaN                  NaN          NaN   \n",
       "site_domain                       NaN                  NaN          NaN   \n",
       "site_category                     NaN                  NaN          NaN   \n",
       "app_id                            NaN                  NaN          NaN   \n",
       "app_domain                        NaN                  NaN          NaN   \n",
       "app_category                      NaN                  NaN          NaN   \n",
       "device_id                         NaN                  NaN          NaN   \n",
       "device_ip                         NaN                  NaN          NaN   \n",
       "device_model                      NaN                  NaN          NaN   \n",
       "device_type                       NaN                  NaN      1.01561   \n",
       "device_conn_type                  NaN                  NaN      0.33144   \n",
       "C14                               NaN                  NaN      18847.9   \n",
       "C15                               NaN                  NaN      318.868   \n",
       "C16                               NaN                  NaN      60.0721   \n",
       "C17                               NaN                  NaN      2113.12   \n",
       "C18                               NaN                  NaN       1.4301   \n",
       "C19                               NaN                  NaN      227.021   \n",
       "C20                               NaN                  NaN      53263.6   \n",
       "C21                               NaN                  NaN      83.4567   \n",
       "\n",
       "                          std          min          25%         50%  \\\n",
       "id                1.23933e+09 -2.14748e+09 -1.06909e+09  2.8665e+06   \n",
       "click                0.375872            0            0           0   \n",
       "hour                      NaN          NaN          NaN         NaN   \n",
       "C1                    1.09177         1001         1005        1005   \n",
       "banner_pos           0.503432            0            0           0   \n",
       "site_id                   NaN          NaN          NaN         NaN   \n",
       "site_domain               NaN          NaN          NaN         NaN   \n",
       "site_category             NaN          NaN          NaN         NaN   \n",
       "app_id                    NaN          NaN          NaN         NaN   \n",
       "app_domain                NaN          NaN          NaN         NaN   \n",
       "app_category              NaN          NaN          NaN         NaN   \n",
       "device_id                 NaN          NaN          NaN         NaN   \n",
       "device_ip                 NaN          NaN          NaN         NaN   \n",
       "device_model              NaN          NaN          NaN         NaN   \n",
       "device_type          0.527572            0            1           1   \n",
       "device_conn_type     0.855171            0            0           0   \n",
       "C14                   4954.85          375        16920       20346   \n",
       "C15                   21.2192          120          320         320   \n",
       "C16                   47.1282           20           50          50   \n",
       "C17                   609.233          112         1863        2323   \n",
       "C18                   1.32627            0            0           2   \n",
       "C19                   350.858           33           35          39   \n",
       "C20                   49953.9           -1           -1      100050   \n",
       "C21                    70.281            1           23          61   \n",
       "\n",
       "                          75%          max  \n",
       "id                1.07652e+09  2.14748e+09  \n",
       "click                       0            1  \n",
       "hour                      NaN          NaN  \n",
       "C1                       1005         1012  \n",
       "banner_pos                  1            7  \n",
       "site_id                   NaN          NaN  \n",
       "site_domain               NaN          NaN  \n",
       "site_category             NaN          NaN  \n",
       "app_id                    NaN          NaN  \n",
       "app_domain                NaN          NaN  \n",
       "app_category              NaN          NaN  \n",
       "device_id                 NaN          NaN  \n",
       "device_ip                 NaN          NaN  \n",
       "device_model              NaN          NaN  \n",
       "device_type                 1            5  \n",
       "device_conn_type            0            5  \n",
       "C14                     21894        24052  \n",
       "C15                       320         1024  \n",
       "C16                        50         1024  \n",
       "C17                      2526         2758  \n",
       "C18                         3            3  \n",
       "C19                       171         1839  \n",
       "C20                    100094       100248  \n",
       "C21                       101          255  "
      ]
     },
     "execution_count": 8,
     "metadata": {},
     "output_type": "execute_result"
    }
   ],
   "source": [
    "train.describe(include='all').T"
   ]
  },
  {
   "cell_type": "markdown",
   "metadata": {},
   "source": [
    "The data covers 10 days of click streams data from 2014-10-21 to 2014-10-30, that is 240 hours."
   ]
  },
  {
   "cell_type": "code",
   "execution_count": 9,
   "metadata": {
    "ExecuteTime": {
     "end_time": "2019-06-10T02:19:17.060307Z",
     "start_time": "2019-06-10T02:19:16.779871Z"
    }
   },
   "outputs": [
    {
     "data": {
      "image/png": "[encoded data removed]",
      "text/plain": [
       "<Figure size 864x432 with 1 Axes>"
      ]
     },
     "metadata": {
      "needs_background": "light"
     },
     "output_type": "display_data"
    }
   ],
   "source": [
    "train.groupby('hour').agg({'click':'sum'}).plot(figsize=(12,6))\n",
    "plt.ylabel('Number of clicks')\n",
    "plt.title('Number of clicks by hour');"
   ]
  },
  {
   "cell_type": "markdown",
   "metadata": {},
   "source": [
    "The hourly clicks pattern looks pretty similar every day. However, there were a couple of peak hours, one is sometime in the mid of the day on Oct 22, and another is sometime in the mid of the day on Oct 28. And one off-peak hour is close to mid-night on Oct 24."
   ]
  },
  {
   "cell_type": "markdown",
   "metadata": {},
   "source": [
    "###  Feature engineering for date time features\n",
    "\n",
    "#### Hour\n",
    "\n",
    "Extract hour from date time feature."
   ]
  },
  {
   "cell_type": "code",
   "execution_count": 10,
   "metadata": {
    "ExecuteTime": {
     "end_time": "2019-06-10T02:19:25.683486Z",
     "start_time": "2019-06-10T02:19:22.681841Z"
    }
   },
   "outputs": [
    {
     "data": {
      "image/png": "[encoded data removed]",
      "text/plain": [
       "<Figure size 864x432 with 1 Axes>"
      ]
     },
     "metadata": {
      "needs_background": "light"
     },
     "output_type": "display_data"
    }
   ],
   "source": [
    "train['hour_of_day'] = train.hour.apply(lambda x: x.hour)\n",
    "train.groupby('hour_of_day').agg({'click':['sum']}).plot(figsize=(12,6))\n",
    "plt.ylabel('Number of clicks')\n",
    "plt.title('click trends by hour of day');"
   ]
  },
  {
   "cell_type": "markdown",
   "metadata": {},
   "source": [
    "In general, the highest number of clicks is at hour 13 and 14 (1pm and 2pm), and the least number of clicks is at hour 0 (mid-night). It seems a useful feature for roughly estimation."
   ]
  },
  {
   "cell_type": "code",
   "execution_count": 11,
   "metadata": {
    "ExecuteTime": {
     "end_time": "2019-06-10T02:19:29.210919Z",
     "start_time": "2019-06-10T02:19:29.194962Z"
    }
   },
   "outputs": [
    {
     "data": {
      "text/html": [
       "<div>\n",
       "<style scoped>\n",
       "    .dataframe tbody tr th:only-of-type {\n",
       "        vertical-align: middle;\n",
       "    }\n",
       "\n",
       "    .dataframe tbody tr th {\n",
       "        vertical-align: top;\n",
       "    }\n",
       "\n",
       "    .dataframe thead th {\n",
       "        text-align: right;\n",
       "    }\n",
       "</style>\n",
       "<table border=\"1\" class=\"dataframe\">\n",
       "  <thead>\n",
       "    <tr style=\"text-align: right;\">\n",
       "      <th></th>\n",
       "      <th>id</th>\n",
       "      <th>click</th>\n",
       "      <th>hour</th>\n",
       "      <th>C1</th>\n",
       "      <th>banner_pos</th>\n",
       "      <th>site_id</th>\n",
       "      <th>site_domain</th>\n",
       "      <th>site_category</th>\n",
       "      <th>app_id</th>\n",
       "      <th>app_domain</th>\n",
       "      <th>...</th>\n",
       "      <th>device_conn_type</th>\n",
       "      <th>C14</th>\n",
       "      <th>C15</th>\n",
       "      <th>C16</th>\n",
       "      <th>C17</th>\n",
       "      <th>C18</th>\n",
       "      <th>C19</th>\n",
       "      <th>C20</th>\n",
       "      <th>C21</th>\n",
       "      <th>hour_of_day</th>\n",
       "    </tr>\n",
       "  </thead>\n",
       "  <tbody>\n",
       "    <tr>\n",
       "      <th>0</th>\n",
       "      <td>39259272</td>\n",
       "      <td>1</td>\n",
       "      <td>2014-10-21</td>\n",
       "      <td>1005</td>\n",
       "      <td>0</td>\n",
       "      <td>1fbe01fe</td>\n",
       "      <td>f3845767</td>\n",
       "      <td>28905ebd</td>\n",
       "      <td>ecad2386</td>\n",
       "      <td>7801e8d9</td>\n",
       "      <td>...</td>\n",
       "      <td>0</td>\n",
       "      <td>15708</td>\n",
       "      <td>320</td>\n",
       "      <td>50</td>\n",
       "      <td>1722</td>\n",
       "      <td>0</td>\n",
       "      <td>35</td>\n",
       "      <td>100084</td>\n",
       "      <td>79</td>\n",
       "      <td>0</td>\n",
       "    </tr>\n",
       "    <tr>\n",
       "      <th>1</th>\n",
       "      <td>1922594537</td>\n",
       "      <td>0</td>\n",
       "      <td>2014-10-21</td>\n",
       "      <td>1005</td>\n",
       "      <td>0</td>\n",
       "      <td>1fbe01fe</td>\n",
       "      <td>f3845767</td>\n",
       "      <td>28905ebd</td>\n",
       "      <td>ecad2386</td>\n",
       "      <td>7801e8d9</td>\n",
       "      <td>...</td>\n",
       "      <td>0</td>\n",
       "      <td>15701</td>\n",
       "      <td>320</td>\n",
       "      <td>50</td>\n",
       "      <td>1722</td>\n",
       "      <td>0</td>\n",
       "      <td>35</td>\n",
       "      <td>-1</td>\n",
       "      <td>79</td>\n",
       "      <td>0</td>\n",
       "    </tr>\n",
       "    <tr>\n",
       "      <th>2</th>\n",
       "      <td>886239130</td>\n",
       "      <td>0</td>\n",
       "      <td>2014-10-21</td>\n",
       "      <td>1005</td>\n",
       "      <td>1</td>\n",
       "      <td>e151e245</td>\n",
       "      <td>7e091613</td>\n",
       "      <td>f028772b</td>\n",
       "      <td>ecad2386</td>\n",
       "      <td>7801e8d9</td>\n",
       "      <td>...</td>\n",
       "      <td>0</td>\n",
       "      <td>17264</td>\n",
       "      <td>320</td>\n",
       "      <td>50</td>\n",
       "      <td>1872</td>\n",
       "      <td>3</td>\n",
       "      <td>39</td>\n",
       "      <td>-1</td>\n",
       "      <td>23</td>\n",
       "      <td>0</td>\n",
       "    </tr>\n",
       "  </tbody>\n",
       "</table>\n",
       "<p>3 rows × 25 columns</p>\n",
       "</div>"
      ],
      "text/plain": [
       "           id  click       hour    C1  banner_pos   site_id site_domain  \\\n",
       "0    39259272      1 2014-10-21  1005           0  1fbe01fe    f3845767   \n",
       "1  1922594537      0 2014-10-21  1005           0  1fbe01fe    f3845767   \n",
       "2   886239130      0 2014-10-21  1005           1  e151e245    7e091613   \n",
       "\n",
       "  site_category    app_id app_domain  ... device_conn_type    C14  C15 C16  \\\n",
       "0      28905ebd  ecad2386   7801e8d9  ...                0  15708  320  50   \n",
       "1      28905ebd  ecad2386   7801e8d9  ...                0  15701  320  50   \n",
       "2      f028772b  ecad2386   7801e8d9  ...                0  17264  320  50   \n",
       "\n",
       "    C17  C18  C19     C20  C21  hour_of_day  \n",
       "0  1722    0   35  100084   79            0  \n",
       "1  1722    0   35      -1   79            0  \n",
       "2  1872    3   39      -1   23            0  \n",
       "\n",
       "[3 rows x 25 columns]"
      ]
     },
     "execution_count": 11,
     "metadata": {},
     "output_type": "execute_result"
    }
   ],
   "source": [
    "train.head(3)"
   ]
  },
  {
   "cell_type": "markdown",
   "metadata": {},
   "source": [
    "Let's take impressions into consideration."
   ]
  },
  {
   "cell_type": "code",
   "execution_count": 12,
   "metadata": {
    "ExecuteTime": {
     "end_time": "2019-06-10T02:19:32.765675Z",
     "start_time": "2019-06-10T02:19:32.452249Z"
    }
   },
   "outputs": [
    {
     "data": {
      "image/png": "[encoded data removed]",
      "text/plain": [
       "<Figure size 864x432 with 1 Axes>"
      ]
     },
     "metadata": {
      "needs_background": "light"
     },
     "output_type": "display_data"
    }
   ],
   "source": [
    "train.groupby(['hour_of_day', 'click']).size().unstack().plot(kind='bar', title=\"Hour of Day\", figsize=(12,6))\n",
    "plt.ylabel('count')\n",
    "plt.title('Hourly impressions vs. clicks');"
   ]
  },
  {
   "cell_type": "code",
   "execution_count": 13,
   "metadata": {
    "ExecuteTime": {
     "end_time": "2019-06-10T02:19:36.359034Z",
     "start_time": "2019-06-10T02:19:36.063823Z"
    }
   },
   "outputs": [
    {
     "data": {
      "text/plain": [
       "<matplotlib.axes._subplots.AxesSubplot at 0x1ecc0f2d048>"
      ]
     },
     "execution_count": 13,
     "metadata": {},
     "output_type": "execute_result"
    },
    {
     "data": {
      "image/png": "[encoded data removed]",
      "text/plain": [
       "<Figure size 1152x432 with 1 Axes>"
      ]
     },
     "metadata": {
      "needs_background": "light"
     },
     "output_type": "display_data"
    }
   ],
   "source": [
    "df_t = train.groupby(['hour_of_day', 'click']).size().unstack()\n",
    "df_t.div(df_t.sum(axis=1),axis=0).plot(kind='bar',stacked=True,figsize=(16,6))"
   ]
  },
  {
   "cell_type": "markdown",
   "metadata": {},
   "source": [
    "There is nothing shocking here."
   ]
  },
  {
   "cell_type": "code",
   "execution_count": 14,
   "metadata": {
    "ExecuteTime": {
     "end_time": "2019-06-10T02:19:39.527582Z",
     "start_time": "2019-06-10T02:19:39.512599Z"
    }
   },
   "outputs": [
    {
     "data": {
      "text/html": [
       "<div>\n",
       "<style scoped>\n",
       "    .dataframe tbody tr th:only-of-type {\n",
       "        vertical-align: middle;\n",
       "    }\n",
       "\n",
       "    .dataframe tbody tr th {\n",
       "        vertical-align: top;\n",
       "    }\n",
       "\n",
       "    .dataframe thead th {\n",
       "        text-align: right;\n",
       "    }\n",
       "</style>\n",
       "<table border=\"1\" class=\"dataframe\">\n",
       "  <thead>\n",
       "    <tr style=\"text-align: right;\">\n",
       "      <th></th>\n",
       "      <th>id</th>\n",
       "      <th>click</th>\n",
       "      <th>hour</th>\n",
       "      <th>C1</th>\n",
       "      <th>banner_pos</th>\n",
       "      <th>site_id</th>\n",
       "      <th>site_domain</th>\n",
       "      <th>site_category</th>\n",
       "      <th>app_id</th>\n",
       "      <th>app_domain</th>\n",
       "      <th>...</th>\n",
       "      <th>device_conn_type</th>\n",
       "      <th>C14</th>\n",
       "      <th>C15</th>\n",
       "      <th>C16</th>\n",
       "      <th>C17</th>\n",
       "      <th>C18</th>\n",
       "      <th>C19</th>\n",
       "      <th>C20</th>\n",
       "      <th>C21</th>\n",
       "      <th>hour_of_day</th>\n",
       "    </tr>\n",
       "  </thead>\n",
       "  <tbody>\n",
       "    <tr>\n",
       "      <th>0</th>\n",
       "      <td>39259272</td>\n",
       "      <td>1</td>\n",
       "      <td>2014-10-21</td>\n",
       "      <td>1005</td>\n",
       "      <td>0</td>\n",
       "      <td>1fbe01fe</td>\n",
       "      <td>f3845767</td>\n",
       "      <td>28905ebd</td>\n",
       "      <td>ecad2386</td>\n",
       "      <td>7801e8d9</td>\n",
       "      <td>...</td>\n",
       "      <td>0</td>\n",
       "      <td>15708</td>\n",
       "      <td>320</td>\n",
       "      <td>50</td>\n",
       "      <td>1722</td>\n",
       "      <td>0</td>\n",
       "      <td>35</td>\n",
       "      <td>100084</td>\n",
       "      <td>79</td>\n",
       "      <td>0</td>\n",
       "    </tr>\n",
       "    <tr>\n",
       "      <th>1</th>\n",
       "      <td>1922594537</td>\n",
       "      <td>0</td>\n",
       "      <td>2014-10-21</td>\n",
       "      <td>1005</td>\n",
       "      <td>0</td>\n",
       "      <td>1fbe01fe</td>\n",
       "      <td>f3845767</td>\n",
       "      <td>28905ebd</td>\n",
       "      <td>ecad2386</td>\n",
       "      <td>7801e8d9</td>\n",
       "      <td>...</td>\n",
       "      <td>0</td>\n",
       "      <td>15701</td>\n",
       "      <td>320</td>\n",
       "      <td>50</td>\n",
       "      <td>1722</td>\n",
       "      <td>0</td>\n",
       "      <td>35</td>\n",
       "      <td>-1</td>\n",
       "      <td>79</td>\n",
       "      <td>0</td>\n",
       "    </tr>\n",
       "    <tr>\n",
       "      <th>2</th>\n",
       "      <td>886239130</td>\n",
       "      <td>0</td>\n",
       "      <td>2014-10-21</td>\n",
       "      <td>1005</td>\n",
       "      <td>1</td>\n",
       "      <td>e151e245</td>\n",
       "      <td>7e091613</td>\n",
       "      <td>f028772b</td>\n",
       "      <td>ecad2386</td>\n",
       "      <td>7801e8d9</td>\n",
       "      <td>...</td>\n",
       "      <td>0</td>\n",
       "      <td>17264</td>\n",
       "      <td>320</td>\n",
       "      <td>50</td>\n",
       "      <td>1872</td>\n",
       "      <td>3</td>\n",
       "      <td>39</td>\n",
       "      <td>-1</td>\n",
       "      <td>23</td>\n",
       "      <td>0</td>\n",
       "    </tr>\n",
       "  </tbody>\n",
       "</table>\n",
       "<p>3 rows × 25 columns</p>\n",
       "</div>"
      ],
      "text/plain": [
       "           id  click       hour    C1  banner_pos   site_id site_domain  \\\n",
       "0    39259272      1 2014-10-21  1005           0  1fbe01fe    f3845767   \n",
       "1  1922594537      0 2014-10-21  1005           0  1fbe01fe    f3845767   \n",
       "2   886239130      0 2014-10-21  1005           1  e151e245    7e091613   \n",
       "\n",
       "  site_category    app_id app_domain  ... device_conn_type    C14  C15 C16  \\\n",
       "0      28905ebd  ecad2386   7801e8d9  ...                0  15708  320  50   \n",
       "1      28905ebd  ecad2386   7801e8d9  ...                0  15701  320  50   \n",
       "2      f028772b  ecad2386   7801e8d9  ...                0  17264  320  50   \n",
       "\n",
       "    C17  C18  C19     C20  C21  hour_of_day  \n",
       "0  1722    0   35  100084   79            0  \n",
       "1  1722    0   35      -1   79            0  \n",
       "2  1872    3   39      -1   23            0  \n",
       "\n",
       "[3 rows x 25 columns]"
      ]
     },
     "execution_count": 14,
     "metadata": {},
     "output_type": "execute_result"
    }
   ],
   "source": [
    "train.head(3)"
   ]
  },
  {
   "cell_type": "markdown",
   "metadata": {},
   "source": [
    "Now that we have click and impression. We can calculate Click-through rate (CTR). CTR is the ratio of ad clicks to impressions. It measures the rate of clicks on each ad."
   ]
  },
  {
   "cell_type": "markdown",
   "metadata": {},
   "source": [
    "#### Hourly CTR"
   ]
  },
  {
   "cell_type": "code",
   "execution_count": 15,
   "metadata": {
    "ExecuteTime": {
     "end_time": "2019-06-10T02:19:43.802984Z",
     "start_time": "2019-06-10T02:19:43.488819Z"
    }
   },
   "outputs": [
    {
     "data": {
      "image/png": "[encoded data removed]",
      "text/plain": [
       "<Figure size 864x432 with 1 Axes>"
      ]
     },
     "metadata": {
      "needs_background": "light"
     },
     "output_type": "display_data"
    }
   ],
   "source": [
    "import seaborn as sns\n",
    "\n",
    "df_click = train[train['click'] == 1]\n",
    "df_hour = train[['hour_of_day','click']].groupby(['hour_of_day']).count().reset_index()\n",
    "df_hour = df_hour.rename(columns={'click': 'impressions'})\n",
    "df_hour['clicks'] = df_click[['hour_of_day','click']].groupby(['hour_of_day']).count().reset_index()['click']\n",
    "df_hour['CTR'] = df_hour['clicks']/df_hour['impressions']*100\n",
    "\n",
    "plt.figure(figsize=(12,6))\n",
    "sns.barplot(y='CTR', x='hour_of_day', data=df_hour)\n",
    "plt.title('Hourly CTR');"
   ]
  },
  {
   "cell_type": "markdown",
   "metadata": {},
   "source": [
    "One of the interesting observations here is that the highest CTR happened in the hour of mid-night, 1, 7 and 15. If you remember, around mid-night has the least number of impressions and clicks."
   ]
  },
  {
   "cell_type": "markdown",
   "metadata": {},
   "source": [
    "#### Day of week"
   ]
  },
  {
   "cell_type": "code",
   "execution_count": 16,
   "metadata": {
    "ExecuteTime": {
     "end_time": "2019-06-10T02:20:02.282122Z",
     "start_time": "2019-06-10T02:19:50.977464Z"
    }
   },
   "outputs": [
    {
     "name": "stderr",
     "output_type": "stream",
     "text": [
      "D:\\ProgramData\\Anaconda3\\envs\\normal\\lib\\site-packages\\ipykernel_launcher.py:1: FutureWarning: `weekday_name` is deprecated and will be removed in a future version. Use `day_name` instead\n",
      "  \"\"\"Entry point for launching an IPython kernel.\n"
     ]
    },
    {
     "data": {
      "image/png": "[encoded data removed]",
      "text/plain": [
       "<Figure size 864x432 with 1 Axes>"
      ]
     },
     "metadata": {
      "needs_background": "light"
     },
     "output_type": "display_data"
    }
   ],
   "source": [
    "train['day_of_week'] = train['hour'].apply(lambda val: val.weekday_name)\n",
    "cats = ['Monday', 'Tuesday', 'Wednesday', 'Thursday', 'Friday', 'Saturday', 'Sunday']\n",
    "train.groupby('day_of_week').agg({'click':'sum'}).reindex(cats).plot(figsize=(12,6))\n",
    "# ticks = list(range(0, 7, 1)) # points on the x axis where you want the label to appear\n",
    "# labels = \"Mon Tues Weds Thurs Fri Sat Sun\".split()\n",
    "# plt.xticks(ticks, labels)\n",
    "plt.title('click trends by day of week');"
   ]
  },
  {
   "cell_type": "code",
   "execution_count": 17,
   "metadata": {
    "ExecuteTime": {
     "end_time": "2019-06-10T02:20:05.761810Z",
     "start_time": "2019-06-10T02:20:05.524419Z"
    }
   },
   "outputs": [
    {
     "data": {
      "image/png": "[encoded data removed]",
      "text/plain": [
       "<Figure size 864x432 with 1 Axes>"
      ]
     },
     "metadata": {
      "needs_background": "light"
     },
     "output_type": "display_data"
    }
   ],
   "source": [
    "train.groupby(['day_of_week','click']).size().unstack().reindex(cats).plot(kind='bar', title=\"Day of the Week\", figsize=(12,6))\n",
    "# ticks = list(range(0, 7, 1)) # points on the x axis where you want the label to appear\n",
    "# labels = \"Mon Tues Weds Thurs Fri Sat Sun\".split()\n",
    "# plt.xticks(ticks, labels)\n",
    "plt.title('Impressions vs. clicks by day of week');"
   ]
  },
  {
   "cell_type": "code",
   "execution_count": 18,
   "metadata": {
    "ExecuteTime": {
     "end_time": "2019-06-10T02:20:09.169671Z",
     "start_time": "2019-06-10T02:20:08.975189Z"
    }
   },
   "outputs": [
    {
     "data": {
      "text/plain": [
       "<matplotlib.axes._subplots.AxesSubplot at 0x1ecc31d1eb8>"
      ]
     },
     "execution_count": 18,
     "metadata": {},
     "output_type": "execute_result"
    },
    {
     "data": {
      "image/png": "[encoded data removed]",
      "text/plain": [
       "<Figure size 432x288 with 1 Axes>"
      ]
     },
     "metadata": {
      "needs_background": "light"
     },
     "output_type": "display_data"
    }
   ],
   "source": [
    "df_t = train.groupby(['day_of_week','click']).size().unstack().reindex(cats)\n",
    "df_t.div(df_t.sum(axis=1),axis=0)[1].plot(kind='bar',stacked=True)"
   ]
  },
  {
   "cell_type": "markdown",
   "metadata": {},
   "source": [
    "Tuesdays have the most impressions and clicks, then Wednesdays, followed by Thursdays. Mondays and Fridays have the least number of impressions and clicks."
   ]
  },
  {
   "cell_type": "markdown",
   "metadata": {},
   "source": [
    "#### Day of week CTR"
   ]
  },
  {
   "cell_type": "code",
   "execution_count": 19,
   "metadata": {
    "ExecuteTime": {
     "end_time": "2019-06-10T02:20:15.704543Z",
     "start_time": "2019-06-10T02:20:15.689585Z"
    }
   },
   "outputs": [
    {
     "data": {
      "text/html": [
       "<div>\n",
       "<style scoped>\n",
       "    .dataframe tbody tr th:only-of-type {\n",
       "        vertical-align: middle;\n",
       "    }\n",
       "\n",
       "    .dataframe tbody tr th {\n",
       "        vertical-align: top;\n",
       "    }\n",
       "\n",
       "    .dataframe thead th {\n",
       "        text-align: right;\n",
       "    }\n",
       "</style>\n",
       "<table border=\"1\" class=\"dataframe\">\n",
       "  <thead>\n",
       "    <tr style=\"text-align: right;\">\n",
       "      <th></th>\n",
       "      <th>id</th>\n",
       "      <th>click</th>\n",
       "      <th>hour</th>\n",
       "      <th>C1</th>\n",
       "      <th>banner_pos</th>\n",
       "      <th>site_id</th>\n",
       "      <th>site_domain</th>\n",
       "      <th>site_category</th>\n",
       "      <th>app_id</th>\n",
       "      <th>app_domain</th>\n",
       "      <th>...</th>\n",
       "      <th>C14</th>\n",
       "      <th>C15</th>\n",
       "      <th>C16</th>\n",
       "      <th>C17</th>\n",
       "      <th>C18</th>\n",
       "      <th>C19</th>\n",
       "      <th>C20</th>\n",
       "      <th>C21</th>\n",
       "      <th>hour_of_day</th>\n",
       "      <th>day_of_week</th>\n",
       "    </tr>\n",
       "  </thead>\n",
       "  <tbody>\n",
       "    <tr>\n",
       "      <th>0</th>\n",
       "      <td>39259272</td>\n",
       "      <td>1</td>\n",
       "      <td>2014-10-21</td>\n",
       "      <td>1005</td>\n",
       "      <td>0</td>\n",
       "      <td>1fbe01fe</td>\n",
       "      <td>f3845767</td>\n",
       "      <td>28905ebd</td>\n",
       "      <td>ecad2386</td>\n",
       "      <td>7801e8d9</td>\n",
       "      <td>...</td>\n",
       "      <td>15708</td>\n",
       "      <td>320</td>\n",
       "      <td>50</td>\n",
       "      <td>1722</td>\n",
       "      <td>0</td>\n",
       "      <td>35</td>\n",
       "      <td>100084</td>\n",
       "      <td>79</td>\n",
       "      <td>0</td>\n",
       "      <td>Tuesday</td>\n",
       "    </tr>\n",
       "    <tr>\n",
       "      <th>1</th>\n",
       "      <td>1922594537</td>\n",
       "      <td>0</td>\n",
       "      <td>2014-10-21</td>\n",
       "      <td>1005</td>\n",
       "      <td>0</td>\n",
       "      <td>1fbe01fe</td>\n",
       "      <td>f3845767</td>\n",
       "      <td>28905ebd</td>\n",
       "      <td>ecad2386</td>\n",
       "      <td>7801e8d9</td>\n",
       "      <td>...</td>\n",
       "      <td>15701</td>\n",
       "      <td>320</td>\n",
       "      <td>50</td>\n",
       "      <td>1722</td>\n",
       "      <td>0</td>\n",
       "      <td>35</td>\n",
       "      <td>-1</td>\n",
       "      <td>79</td>\n",
       "      <td>0</td>\n",
       "      <td>Tuesday</td>\n",
       "    </tr>\n",
       "    <tr>\n",
       "      <th>2</th>\n",
       "      <td>886239130</td>\n",
       "      <td>0</td>\n",
       "      <td>2014-10-21</td>\n",
       "      <td>1005</td>\n",
       "      <td>1</td>\n",
       "      <td>e151e245</td>\n",
       "      <td>7e091613</td>\n",
       "      <td>f028772b</td>\n",
       "      <td>ecad2386</td>\n",
       "      <td>7801e8d9</td>\n",
       "      <td>...</td>\n",
       "      <td>17264</td>\n",
       "      <td>320</td>\n",
       "      <td>50</td>\n",
       "      <td>1872</td>\n",
       "      <td>3</td>\n",
       "      <td>39</td>\n",
       "      <td>-1</td>\n",
       "      <td>23</td>\n",
       "      <td>0</td>\n",
       "      <td>Tuesday</td>\n",
       "    </tr>\n",
       "  </tbody>\n",
       "</table>\n",
       "<p>3 rows × 26 columns</p>\n",
       "</div>"
      ],
      "text/plain": [
       "           id  click       hour    C1  banner_pos   site_id site_domain  \\\n",
       "0    39259272      1 2014-10-21  1005           0  1fbe01fe    f3845767   \n",
       "1  1922594537      0 2014-10-21  1005           0  1fbe01fe    f3845767   \n",
       "2   886239130      0 2014-10-21  1005           1  e151e245    7e091613   \n",
       "\n",
       "  site_category    app_id app_domain  ...    C14  C15 C16   C17  C18  C19  \\\n",
       "0      28905ebd  ecad2386   7801e8d9  ...  15708  320  50  1722    0   35   \n",
       "1      28905ebd  ecad2386   7801e8d9  ...  15701  320  50  1722    0   35   \n",
       "2      f028772b  ecad2386   7801e8d9  ...  17264  320  50  1872    3   39   \n",
       "\n",
       "      C20  C21  hour_of_day  day_of_week  \n",
       "0  100084   79            0      Tuesday  \n",
       "1      -1   79            0      Tuesday  \n",
       "2      -1   23            0      Tuesday  \n",
       "\n",
       "[3 rows x 26 columns]"
      ]
     },
     "execution_count": 19,
     "metadata": {},
     "output_type": "execute_result"
    }
   ],
   "source": [
    "train.head(3)"
   ]
  },
  {
   "cell_type": "code",
   "execution_count": 20,
   "metadata": {
    "ExecuteTime": {
     "end_time": "2019-06-10T02:20:19.231110Z",
     "start_time": "2019-06-10T02:20:18.972802Z"
    }
   },
   "outputs": [
    {
     "data": {
      "image/png": "[encoded data removed]",
      "text/plain": [
       "<Figure size 864x432 with 1 Axes>"
      ]
     },
     "metadata": {
      "needs_background": "light"
     },
     "output_type": "display_data"
    }
   ],
   "source": [
    "df_click = train[train['click'] == 1]\n",
    "df_dayofweek = train[['day_of_week','click']].groupby(['day_of_week']).count().reset_index()\n",
    "df_dayofweek = df_dayofweek.rename(columns={'click': 'impressions'})\n",
    "df_dayofweek['clicks'] = df_click[['day_of_week','click']].groupby(['day_of_week']).count().reset_index()['click']\n",
    "df_dayofweek['CTR'] = df_dayofweek['clicks']/df_dayofweek['impressions']*100\n",
    "\n",
    "plt.figure(figsize=(12,6))\n",
    "sns.barplot(y='CTR', x='day_of_week', data=df_dayofweek, order=['Monday', 'Tuesday', 'Wednesday', 'Thursday', 'Friday', 'Saturday', 'Sunday'])\n",
    "plt.title('Day of week CTR');"
   ]
  },
  {
   "cell_type": "markdown",
   "metadata": {},
   "source": [
    "While Tuesdays and Wednesdays have the highest number of impressions and clicks, their CTR are among the lowest. Saturdays and Sundays enjoy the highest CTR. Apparently, people have more time to click over the weekend."
   ]
  },
  {
   "cell_type": "code",
   "execution_count": 21,
   "metadata": {
    "ExecuteTime": {
     "end_time": "2019-06-10T02:20:22.765280Z",
     "start_time": "2019-06-10T02:20:22.750320Z"
    }
   },
   "outputs": [
    {
     "data": {
      "text/html": [
       "<div>\n",
       "<style scoped>\n",
       "    .dataframe tbody tr th:only-of-type {\n",
       "        vertical-align: middle;\n",
       "    }\n",
       "\n",
       "    .dataframe tbody tr th {\n",
       "        vertical-align: top;\n",
       "    }\n",
       "\n",
       "    .dataframe thead th {\n",
       "        text-align: right;\n",
       "    }\n",
       "</style>\n",
       "<table border=\"1\" class=\"dataframe\">\n",
       "  <thead>\n",
       "    <tr style=\"text-align: right;\">\n",
       "      <th></th>\n",
       "      <th>id</th>\n",
       "      <th>click</th>\n",
       "      <th>hour</th>\n",
       "      <th>C1</th>\n",
       "      <th>banner_pos</th>\n",
       "      <th>site_id</th>\n",
       "      <th>site_domain</th>\n",
       "      <th>site_category</th>\n",
       "      <th>app_id</th>\n",
       "      <th>app_domain</th>\n",
       "      <th>...</th>\n",
       "      <th>C14</th>\n",
       "      <th>C15</th>\n",
       "      <th>C16</th>\n",
       "      <th>C17</th>\n",
       "      <th>C18</th>\n",
       "      <th>C19</th>\n",
       "      <th>C20</th>\n",
       "      <th>C21</th>\n",
       "      <th>hour_of_day</th>\n",
       "      <th>day_of_week</th>\n",
       "    </tr>\n",
       "  </thead>\n",
       "  <tbody>\n",
       "    <tr>\n",
       "      <th>0</th>\n",
       "      <td>39259272</td>\n",
       "      <td>1</td>\n",
       "      <td>2014-10-21</td>\n",
       "      <td>1005</td>\n",
       "      <td>0</td>\n",
       "      <td>1fbe01fe</td>\n",
       "      <td>f3845767</td>\n",
       "      <td>28905ebd</td>\n",
       "      <td>ecad2386</td>\n",
       "      <td>7801e8d9</td>\n",
       "      <td>...</td>\n",
       "      <td>15708</td>\n",
       "      <td>320</td>\n",
       "      <td>50</td>\n",
       "      <td>1722</td>\n",
       "      <td>0</td>\n",
       "      <td>35</td>\n",
       "      <td>100084</td>\n",
       "      <td>79</td>\n",
       "      <td>0</td>\n",
       "      <td>Tuesday</td>\n",
       "    </tr>\n",
       "    <tr>\n",
       "      <th>1</th>\n",
       "      <td>1922594537</td>\n",
       "      <td>0</td>\n",
       "      <td>2014-10-21</td>\n",
       "      <td>1005</td>\n",
       "      <td>0</td>\n",
       "      <td>1fbe01fe</td>\n",
       "      <td>f3845767</td>\n",
       "      <td>28905ebd</td>\n",
       "      <td>ecad2386</td>\n",
       "      <td>7801e8d9</td>\n",
       "      <td>...</td>\n",
       "      <td>15701</td>\n",
       "      <td>320</td>\n",
       "      <td>50</td>\n",
       "      <td>1722</td>\n",
       "      <td>0</td>\n",
       "      <td>35</td>\n",
       "      <td>-1</td>\n",
       "      <td>79</td>\n",
       "      <td>0</td>\n",
       "      <td>Tuesday</td>\n",
       "    </tr>\n",
       "    <tr>\n",
       "      <th>2</th>\n",
       "      <td>886239130</td>\n",
       "      <td>0</td>\n",
       "      <td>2014-10-21</td>\n",
       "      <td>1005</td>\n",
       "      <td>1</td>\n",
       "      <td>e151e245</td>\n",
       "      <td>7e091613</td>\n",
       "      <td>f028772b</td>\n",
       "      <td>ecad2386</td>\n",
       "      <td>7801e8d9</td>\n",
       "      <td>...</td>\n",
       "      <td>17264</td>\n",
       "      <td>320</td>\n",
       "      <td>50</td>\n",
       "      <td>1872</td>\n",
       "      <td>3</td>\n",
       "      <td>39</td>\n",
       "      <td>-1</td>\n",
       "      <td>23</td>\n",
       "      <td>0</td>\n",
       "      <td>Tuesday</td>\n",
       "    </tr>\n",
       "  </tbody>\n",
       "</table>\n",
       "<p>3 rows × 26 columns</p>\n",
       "</div>"
      ],
      "text/plain": [
       "           id  click       hour    C1  banner_pos   site_id site_domain  \\\n",
       "0    39259272      1 2014-10-21  1005           0  1fbe01fe    f3845767   \n",
       "1  1922594537      0 2014-10-21  1005           0  1fbe01fe    f3845767   \n",
       "2   886239130      0 2014-10-21  1005           1  e151e245    7e091613   \n",
       "\n",
       "  site_category    app_id app_domain  ...    C14  C15 C16   C17  C18  C19  \\\n",
       "0      28905ebd  ecad2386   7801e8d9  ...  15708  320  50  1722    0   35   \n",
       "1      28905ebd  ecad2386   7801e8d9  ...  15701  320  50  1722    0   35   \n",
       "2      f028772b  ecad2386   7801e8d9  ...  17264  320  50  1872    3   39   \n",
       "\n",
       "      C20  C21  hour_of_day  day_of_week  \n",
       "0  100084   79            0      Tuesday  \n",
       "1      -1   79            0      Tuesday  \n",
       "2      -1   23            0      Tuesday  \n",
       "\n",
       "[3 rows x 26 columns]"
      ]
     },
     "execution_count": 21,
     "metadata": {},
     "output_type": "execute_result"
    }
   ],
   "source": [
    "train.head(3)"
   ]
  },
  {
   "cell_type": "markdown",
   "metadata": {},
   "source": [
    "### C1 feature\n",
    "\n",
    "C1 is one of the anonymized categorical features. Although we don't know its meaning, we still want to have a look its distribution."
   ]
  },
  {
   "cell_type": "code",
   "execution_count": 22,
   "metadata": {
    "ExecuteTime": {
     "end_time": "2019-06-10T02:20:26.394745Z",
     "start_time": "2019-06-10T02:20:26.376766Z"
    }
   },
   "outputs": [
    {
     "name": "stdout",
     "output_type": "stream",
     "text": [
      "1005    0.919049\n",
      "1002    0.054651\n",
      "1010    0.022324\n",
      "1012    0.002748\n",
      "1007    0.000873\n",
      "1001    0.000242\n",
      "1008    0.000113\n",
      "Name: C1, dtype: float64\n"
     ]
    }
   ],
   "source": [
    "print(train.C1.value_counts()/len(train))"
   ]
  },
  {
   "cell_type": "markdown",
   "metadata": {},
   "source": [
    "C1 value = 1005 has the most data, almost 92%. Let's see whether we can find value of C1 indicates something about CTR."
   ]
  },
  {
   "cell_type": "code",
   "execution_count": 23,
   "metadata": {
    "ExecuteTime": {
     "end_time": "2019-06-10T02:20:54.856126Z",
     "start_time": "2019-06-10T02:20:54.633746Z"
    }
   },
   "outputs": [
    {
     "name": "stdout",
     "output_type": "stream",
     "text": [
      "for C1 value: 1001,  click through rate: 0.03305785123966942\n",
      "for C1 value: 1002,  click through rate: 0.21108488408263343\n",
      "for C1 value: 1005,  click through rate: 0.16981140287405785\n",
      "for C1 value: 1007,  click through rate: 0.038946162657502864\n",
      "for C1 value: 1008,  click through rate: 0.09734513274336283\n",
      "for C1 value: 1010,  click through rate: 0.09630890521411933\n",
      "for C1 value: 1012,  click through rate: 0.1703056768558952\n"
     ]
    }
   ],
   "source": [
    "C1_values = train.C1.unique()\n",
    "C1_values.sort()\n",
    "ctr_avg_list=[]\n",
    "for i in C1_values:\n",
    "    ctr_avg=train.loc[np.where((train.C1 == i))].click.mean()\n",
    "    ctr_avg_list.append(ctr_avg)\n",
    "    print(\"for C1 value: {},  click through rate: {}\".format(i,ctr_avg))"
   ]
  },
  {
   "cell_type": "code",
   "execution_count": 24,
   "metadata": {
    "ExecuteTime": {
     "end_time": "2019-06-10T02:29:26.547146Z",
     "start_time": "2019-06-10T02:29:26.345659Z"
    }
   },
   "outputs": [
    {
     "data": {
      "image/png": "[encoded data removed]",
      "text/plain": [
       "<Figure size 864x432 with 1 Axes>"
      ]
     },
     "metadata": {
      "needs_background": "light"
     },
     "output_type": "display_data"
    }
   ],
   "source": [
    "train.groupby(['C1', 'click']).size().unstack().plot(kind='bar', figsize=(12,6), title='C1 histogram');"
   ]
  },
  {
   "cell_type": "code",
   "execution_count": 25,
   "metadata": {
    "ExecuteTime": {
     "end_time": "2019-06-10T02:29:37.970705Z",
     "start_time": "2019-06-10T02:29:37.801133Z"
    }
   },
   "outputs": [
    {
     "data": {
      "image/png": "[encoded data removed]",
      "text/plain": [
       "<Figure size 864x432 with 1 Axes>"
      ]
     },
     "metadata": {
      "needs_background": "light"
     },
     "output_type": "display_data"
    }
   ],
   "source": [
    "df_c1 = train[['C1','click']].groupby(['C1']).count().reset_index()\n",
    "df_c1 = df_c1.rename(columns={'click': 'impressions'})\n",
    "df_c1['clicks'] = df_click[['C1','click']].groupby(['C1']).count().reset_index()['click']\n",
    "df_c1['CTR'] = df_c1['clicks']/df_c1['impressions']*100\n",
    "\n",
    "plt.figure(figsize=(12,6))\n",
    "sns.barplot(y='CTR', x='C1', data=df_c1)\n",
    "plt.title('CTR by C1');"
   ]
  },
  {
   "cell_type": "code",
   "execution_count": 27,
   "metadata": {
    "ExecuteTime": {
     "end_time": "2019-06-10T02:30:10.475264Z",
     "start_time": "2019-06-10T02:30:10.466262Z"
    }
   },
   "outputs": [
    {
     "data": {
      "text/plain": [
       "0.170272"
      ]
     },
     "execution_count": 27,
     "metadata": {},
     "output_type": "execute_result"
    }
   ],
   "source": [
    "train['click'].mean()"
   ]
  },
  {
   "cell_type": "markdown",
   "metadata": {},
   "source": [
    "The average CTR in the data is 0.17."
   ]
  },
  {
   "cell_type": "code",
   "execution_count": 28,
   "metadata": {
    "ExecuteTime": {
     "end_time": "2019-06-10T02:30:14.985084Z",
     "start_time": "2019-06-10T02:30:14.978104Z"
    }
   },
   "outputs": [
    {
     "data": {
      "text/html": [
       "<div>\n",
       "<style scoped>\n",
       "    .dataframe tbody tr th:only-of-type {\n",
       "        vertical-align: middle;\n",
       "    }\n",
       "\n",
       "    .dataframe tbody tr th {\n",
       "        vertical-align: top;\n",
       "    }\n",
       "\n",
       "    .dataframe thead th {\n",
       "        text-align: right;\n",
       "    }\n",
       "</style>\n",
       "<table border=\"1\" class=\"dataframe\">\n",
       "  <thead>\n",
       "    <tr style=\"text-align: right;\">\n",
       "      <th></th>\n",
       "      <th>C1</th>\n",
       "      <th>impressions</th>\n",
       "      <th>clicks</th>\n",
       "      <th>CTR</th>\n",
       "    </tr>\n",
       "  </thead>\n",
       "  <tbody>\n",
       "    <tr>\n",
       "      <th>0</th>\n",
       "      <td>1001</td>\n",
       "      <td>242</td>\n",
       "      <td>8</td>\n",
       "      <td>3.305785</td>\n",
       "    </tr>\n",
       "    <tr>\n",
       "      <th>1</th>\n",
       "      <td>1002</td>\n",
       "      <td>54651</td>\n",
       "      <td>11536</td>\n",
       "      <td>21.108488</td>\n",
       "    </tr>\n",
       "    <tr>\n",
       "      <th>2</th>\n",
       "      <td>1005</td>\n",
       "      <td>919049</td>\n",
       "      <td>156065</td>\n",
       "      <td>16.981140</td>\n",
       "    </tr>\n",
       "    <tr>\n",
       "      <th>3</th>\n",
       "      <td>1007</td>\n",
       "      <td>873</td>\n",
       "      <td>34</td>\n",
       "      <td>3.894616</td>\n",
       "    </tr>\n",
       "    <tr>\n",
       "      <th>4</th>\n",
       "      <td>1008</td>\n",
       "      <td>113</td>\n",
       "      <td>11</td>\n",
       "      <td>9.734513</td>\n",
       "    </tr>\n",
       "    <tr>\n",
       "      <th>5</th>\n",
       "      <td>1010</td>\n",
       "      <td>22324</td>\n",
       "      <td>2150</td>\n",
       "      <td>9.630891</td>\n",
       "    </tr>\n",
       "    <tr>\n",
       "      <th>6</th>\n",
       "      <td>1012</td>\n",
       "      <td>2748</td>\n",
       "      <td>468</td>\n",
       "      <td>17.030568</td>\n",
       "    </tr>\n",
       "  </tbody>\n",
       "</table>\n",
       "</div>"
      ],
      "text/plain": [
       "     C1  impressions  clicks        CTR\n",
       "0  1001          242       8   3.305785\n",
       "1  1002        54651   11536  21.108488\n",
       "2  1005       919049  156065  16.981140\n",
       "3  1007          873      34   3.894616\n",
       "4  1008          113      11   9.734513\n",
       "5  1010        22324    2150   9.630891\n",
       "6  1012         2748     468  17.030568"
      ]
     },
     "execution_count": 28,
     "metadata": {},
     "output_type": "execute_result"
    }
   ],
   "source": [
    "df_c1"
   ]
  },
  {
   "cell_type": "code",
   "execution_count": 29,
   "metadata": {
    "ExecuteTime": {
     "end_time": "2019-06-10T02:30:37.953006Z",
     "start_time": "2019-06-10T02:30:37.947023Z"
    }
   },
   "outputs": [
    {
     "data": {
      "text/plain": [
       "count     7.000000\n",
       "mean     11.669429\n",
       "std       6.884157\n",
       "min       3.305785\n",
       "25%       6.762753\n",
       "50%       9.734513\n",
       "75%      17.005854\n",
       "max      21.108488\n",
       "Name: CTR, dtype: float64"
      ]
     },
     "execution_count": 29,
     "metadata": {},
     "output_type": "execute_result"
    }
   ],
   "source": [
    "df_c1.CTR.describe()"
   ]
  },
  {
   "cell_type": "markdown",
   "metadata": {},
   "source": [
    "The important C1 values and CTR pairs are:\n",
    "\n",
    "1005: 92% of the data and 0.17 CTR\n",
    "\n",
    "1002: 5.5% of the data and 0.21 CTR\n",
    "\n",
    "1010: 2.3% of the data and 0.096 CTR\n",
    "\n",
    "1002 has a much higher than average CTR, and 1010 has a much lower than average CTR, it seems these two C1 values are important for predicting CTR."
   ]
  },
  {
   "cell_type": "markdown",
   "metadata": {},
   "source": [
    "### Banner position\n",
    "\n",
    "I have heard that there are many factors that affect the performance of your banner ads, but the most influential one is the banner position. Let's see whether it is true."
   ]
  },
  {
   "cell_type": "code",
   "execution_count": 30,
   "metadata": {
    "ExecuteTime": {
     "end_time": "2019-06-10T02:31:32.026020Z",
     "start_time": "2019-06-10T02:31:32.009037Z"
    }
   },
   "outputs": [
    {
     "name": "stdout",
     "output_type": "stream",
     "text": [
      "0    0.719804\n",
      "1    0.278516\n",
      "7    0.001027\n",
      "2    0.000305\n",
      "4    0.000179\n",
      "5    0.000113\n",
      "3    0.000056\n",
      "Name: banner_pos, dtype: float64\n"
     ]
    }
   ],
   "source": [
    "print(train.banner_pos.value_counts()/len(train))"
   ]
  },
  {
   "cell_type": "code",
   "execution_count": 31,
   "metadata": {
    "ExecuteTime": {
     "end_time": "2019-06-10T02:34:31.277855Z",
     "start_time": "2019-06-10T02:34:31.057445Z"
    }
   },
   "outputs": [
    {
     "name": "stdout",
     "output_type": "stream",
     "text": [
      "for banner position: 0,  click through rate: 0.16456979955654594\n",
      "for banner position: 1,  click through rate: 0.18451363655947953\n",
      "for banner position: 2,  click through rate: 0.10819672131147541\n",
      "for banner position: 3,  click through rate: 0.17857142857142858\n",
      "for banner position: 4,  click through rate: 0.18994413407821228\n",
      "for banner position: 5,  click through rate: 0.09734513274336283\n",
      "for banner position: 7,  click through rate: 0.32716650438169426\n"
     ]
    }
   ],
   "source": [
    "banner_pos = train.banner_pos.unique()\n",
    "banner_pos.sort()\n",
    "ctr_avg_list=[]\n",
    "for i in banner_pos:\n",
    "    ctr_avg=train.loc[np.where((train.banner_pos == i))].click.mean()\n",
    "    ctr_avg_list.append(ctr_avg)\n",
    "    print(\"for banner position: {},  click through rate: {}\".format(i,ctr_avg))"
   ]
  },
  {
   "cell_type": "markdown",
   "metadata": {},
   "source": [
    "The important banner positions are:\n",
    "\n",
    "position 0: 72% of the data and 0.16 CTR\n",
    "\n",
    "position 1: 28% of the data and 0.18 CTR"
   ]
  },
  {
   "cell_type": "code",
   "execution_count": 32,
   "metadata": {
    "ExecuteTime": {
     "end_time": "2019-06-10T02:35:11.220263Z",
     "start_time": "2019-06-10T02:35:11.009800Z"
    }
   },
   "outputs": [
    {
     "data": {
      "image/png": "[encoded data removed]",
      "text/plain": [
       "<Figure size 864x432 with 1 Axes>"
      ]
     },
     "metadata": {
      "needs_background": "light"
     },
     "output_type": "display_data"
    }
   ],
   "source": [
    "train.groupby(['banner_pos', 'click']).size().unstack().plot(kind='bar', figsize=(12,6), title='banner position histogram');"
   ]
  },
  {
   "cell_type": "code",
   "execution_count": 33,
   "metadata": {
    "ExecuteTime": {
     "end_time": "2019-06-10T02:35:55.983779Z",
     "start_time": "2019-06-10T02:35:55.825175Z"
    }
   },
   "outputs": [
    {
     "data": {
      "image/png": "[encoded data removed]",
      "text/plain": [
       "<Figure size 864x432 with 1 Axes>"
      ]
     },
     "metadata": {
      "needs_background": "light"
     },
     "output_type": "display_data"
    }
   ],
   "source": [
    "df_banner = train[['banner_pos','click']].groupby(['banner_pos']).count().reset_index()\n",
    "df_banner = df_banner.rename(columns={'click': 'impressions'})\n",
    "df_banner['clicks'] = df_click[['banner_pos','click']].groupby(['banner_pos']).count().reset_index()['click']\n",
    "df_banner['CTR'] = df_banner['clicks']/df_banner['impressions']*100\n",
    "sort_banners = df_banner.sort_values(by='CTR',ascending=False)['banner_pos'].tolist()\n",
    "plt.figure(figsize=(12,6))\n",
    "sns.barplot(y='CTR', x='banner_pos', data=df_banner, order=sort_banners)\n",
    "plt.title('CTR by banner position');"
   ]
  },
  {
   "cell_type": "code",
   "execution_count": 34,
   "metadata": {
    "ExecuteTime": {
     "end_time": "2019-06-10T02:35:59.333817Z",
     "start_time": "2019-06-10T02:35:59.327805Z"
    }
   },
   "outputs": [
    {
     "data": {
      "text/plain": [
       "count     7.000000\n",
       "mean     17.861534\n",
       "std       7.526784\n",
       "min       9.734513\n",
       "25%      13.638326\n",
       "50%      17.857143\n",
       "75%      18.722889\n",
       "max      32.716650\n",
       "Name: CTR, dtype: float64"
      ]
     },
     "execution_count": 34,
     "metadata": {},
     "output_type": "execute_result"
    }
   ],
   "source": [
    "df_banner.CTR.describe()"
   ]
  },
  {
   "cell_type": "markdown",
   "metadata": {},
   "source": [
    "Although banner position 0 and 1 have the highest number of impressions and clicks, banner 7 enjoys the highest click through rate. Increasing the number of ads placed on banner position 7 seems to be a good idea."
   ]
  },
  {
   "cell_type": "markdown",
   "metadata": {},
   "source": [
    "### Site features\n",
    "\n",
    "#### site id"
   ]
  },
  {
   "cell_type": "code",
   "execution_count": 35,
   "metadata": {
    "ExecuteTime": {
     "end_time": "2019-06-10T02:36:34.227262Z",
     "start_time": "2019-06-10T02:36:34.186373Z"
    }
   },
   "outputs": [
    {
     "name": "stdout",
     "output_type": "stream",
     "text": [
      "There are 2629 sites in the data set\n"
     ]
    }
   ],
   "source": [
    "print(\"There are {} sites in the data set\".format(train.site_id.nunique()))"
   ]
  },
  {
   "cell_type": "code",
   "execution_count": 36,
   "metadata": {
    "ExecuteTime": {
     "end_time": "2019-06-10T02:36:43.039851Z",
     "start_time": "2019-06-10T02:36:42.953060Z"
    }
   },
   "outputs": [
    {
     "name": "stdout",
     "output_type": "stream",
     "text": [
      "The top 10 site ids that have the most impressions\n",
      "85f751fd    0.360827\n",
      "1fbe01fe    0.160684\n",
      "e151e245    0.065248\n",
      "d9750ee7    0.023974\n",
      "5b08c53b    0.022570\n",
      "5b4d2eda    0.019076\n",
      "856e6d3f    0.018934\n",
      "a7853007    0.011329\n",
      "b7e9786d    0.009172\n",
      "5ee41ff2    0.008681\n",
      "Name: site_id, dtype: float64\n"
     ]
    }
   ],
   "source": [
    "print('The top 10 site ids that have the most impressions')\n",
    "print((train.site_id.value_counts()/len(train))[0:10])"
   ]
  },
  {
   "cell_type": "code",
   "execution_count": 37,
   "metadata": {
    "ExecuteTime": {
     "end_time": "2019-06-10T02:39:04.534944Z",
     "start_time": "2019-06-10T02:39:03.673247Z"
    }
   },
   "outputs": [
    {
     "name": "stdout",
     "output_type": "stream",
     "text": [
      "for site id value: 85f751fd,  click through rate: 0.11854434396539061\n",
      "for site id value: 1fbe01fe,  click through rate: 0.20624330985038958\n",
      "for site id value: e151e245,  click through rate: 0.29792484060814123\n",
      "for site id value: d9750ee7,  click through rate: 0.2816801534996246\n",
      "for site id value: 5b08c53b,  click through rate: 0.4689853788214444\n",
      "for site id value: 5b4d2eda,  click through rate: 0.1301111344097295\n",
      "for site id value: 856e6d3f,  click through rate: 0.042991443963240734\n",
      "for site id value: a7853007,  click through rate: 0.09815517697943331\n",
      "for site id value: b7e9786d,  click through rate: 0.0759921500218055\n",
      "for site id value: 5ee41ff2,  click through rate: 0.33498444879622163\n"
     ]
    }
   ],
   "source": [
    "top10_ids = (train.site_id.value_counts()/len(train))[0:10].index\n",
    "click_avg_list=[]\n",
    "\n",
    "for i in top10_ids:\n",
    "    click_avg=train.loc[np.where((train.site_id == i))].click.mean()\n",
    "    click_avg_list.append(click_avg)\n",
    "    print(\"for site id value: {},  click through rate: {}\".format(i,click_avg))"
   ]
  },
  {
   "cell_type": "code",
   "execution_count": 38,
   "metadata": {
    "ExecuteTime": {
     "end_time": "2019-06-10T02:39:11.678921Z",
     "start_time": "2019-06-10T02:39:11.265030Z"
    }
   },
   "outputs": [
    {
     "data": {
      "image/png": "[encoded data removed]",
      "text/plain": [
       "<Figure size 864x432 with 1 Axes>"
      ]
     },
     "metadata": {
      "needs_background": "light"
     },
     "output_type": "display_data"
    }
   ],
   "source": [
    "top10_sites = train[(train.site_id.isin((train.site_id.value_counts()/len(train))[0:10].index))]\n",
    "top10_sites_click = top10_sites[top10_sites['click'] == 1]\n",
    "top10_sites.groupby(['site_id', 'click']).size().unstack().plot(kind='bar', figsize=(12,6), title='Top 10 site ids histogram');"
   ]
  },
  {
   "cell_type": "code",
   "execution_count": 39,
   "metadata": {
    "ExecuteTime": {
     "end_time": "2019-06-10T02:39:17.750593Z",
     "start_time": "2019-06-10T02:39:17.562072Z"
    }
   },
   "outputs": [
    {
     "data": {
      "image/png": "[encoded data removed]",
      "text/plain": [
       "<Figure size 864x432 with 1 Axes>"
      ]
     },
     "metadata": {
      "needs_background": "light"
     },
     "output_type": "display_data"
    }
   ],
   "source": [
    "df_site = top10_sites[['site_id','click']].groupby(['site_id']).count().reset_index()\n",
    "df_site = df_site.rename(columns={'click': 'impressions'})\n",
    "df_site['clicks'] = top10_sites_click[['site_id','click']].groupby(['site_id']).count().reset_index()['click']\n",
    "df_site['CTR'] = df_site['clicks']/df_site['impressions']*100\n",
    "sort_site = df_site.sort_values(by='CTR',ascending=False)['site_id'].tolist()\n",
    "plt.figure(figsize=(12,6))\n",
    "sns.barplot(y='CTR', x='site_id', data=df_site, order=sort_site)\n",
    "plt.title('CTR by top 10 site id');"
   ]
  },
  {
   "cell_type": "markdown",
   "metadata": {},
   "source": [
    "The site_id feature seems important because the CTR for the top 10 sites, some as high as 0.47, and some as low as 0.04, and they are significantly different from overall CTR 0.16."
   ]
  },
  {
   "cell_type": "markdown",
   "metadata": {},
   "source": [
    "#### site domain "
   ]
  },
  {
   "cell_type": "code",
   "execution_count": 40,
   "metadata": {
    "ExecuteTime": {
     "end_time": "2019-06-10T02:39:37.075237Z",
     "start_time": "2019-06-10T02:39:37.029361Z"
    }
   },
   "outputs": [
    {
     "name": "stdout",
     "output_type": "stream",
     "text": [
      "There are 2858 site domains in the data set\n"
     ]
    }
   ],
   "source": [
    "print(\"There are {} site domains in the data set\".format(train.site_domain.nunique()))"
   ]
  },
  {
   "cell_type": "code",
   "execution_count": 41,
   "metadata": {
    "ExecuteTime": {
     "end_time": "2019-06-10T02:40:47.330043Z",
     "start_time": "2019-06-10T02:40:47.257234Z"
    }
   },
   "outputs": [
    {
     "name": "stdout",
     "output_type": "stream",
     "text": [
      "The top 10 site domains that have the most impressions\n",
      "c4e18dd6    0.373875\n",
      "f3845767    0.160684\n",
      "7e091613    0.082076\n",
      "7687a86e    0.031983\n",
      "98572c79    0.024768\n",
      "16a36ef3    0.021226\n",
      "58a89a43    0.018934\n",
      "9d54950b    0.009315\n",
      "b12b9f85    0.009308\n",
      "17d996e6    0.008774\n",
      "Name: site_domain, dtype: float64\n"
     ]
    }
   ],
   "source": [
    "print('The top 10 site domains that have the most impressions')\n",
    "print((train.site_domain.value_counts()/len(train))[0:10])"
   ]
  },
  {
   "cell_type": "code",
   "execution_count": 42,
   "metadata": {
    "ExecuteTime": {
     "end_time": "2019-06-10T02:41:05.733402Z",
     "start_time": "2019-06-10T02:41:04.912597Z"
    }
   },
   "outputs": [
    {
     "name": "stdout",
     "output_type": "stream",
     "text": [
      "for site domain value: c4e18dd6,  click through rate: 0.12226813774657305\n",
      "for site domain value: f3845767,  click through rate: 0.20624330985038958\n",
      "for site domain value: 7e091613,  click through rate: 0.2592231590233442\n",
      "for site domain value: 7687a86e,  click through rate: 0.4599943720101304\n",
      "for site domain value: 98572c79,  click through rate: 0.2756782945736434\n",
      "for site domain value: 16a36ef3,  click through rate: 0.1417601055309526\n",
      "for site domain value: 58a89a43,  click through rate: 0.042991443963240734\n",
      "for site domain value: 9d54950b,  click through rate: 0.11121846484165325\n",
      "for site domain value: b12b9f85,  click through rate: 0.07681564245810056\n",
      "for site domain value: 17d996e6,  click through rate: 0.3326874857533622\n"
     ]
    }
   ],
   "source": [
    "top10_domains = (train.site_domain.value_counts()/len(train))[0:10].index\n",
    "click_avg_list=[]\n",
    "\n",
    "for i in top10_domains:\n",
    "    click_avg=train.loc[np.where((train.site_domain == i))].click.mean()\n",
    "    click_avg_list.append(click_avg)\n",
    "    print(\"for site domain value: {},  click through rate: {}\".format(i,click_avg))"
   ]
  },
  {
   "cell_type": "code",
   "execution_count": 43,
   "metadata": {
    "ExecuteTime": {
     "end_time": "2019-06-10T02:41:09.544324Z",
     "start_time": "2019-06-10T02:41:09.095520Z"
    }
   },
   "outputs": [
    {
     "data": {
      "image/png": "[encoded data removed]",
      "text/plain": [
       "<Figure size 864x432 with 1 Axes>"
      ]
     },
     "metadata": {
      "needs_background": "light"
     },
     "output_type": "display_data"
    }
   ],
   "source": [
    "top10_domain = train[(train.site_domain.isin((train.site_domain.value_counts()/len(train))[0:10].index))]\n",
    "top10_domain_click = top10_domain[top10_domain['click'] == 1]\n",
    "top10_domain.groupby(['site_domain', 'click']).size().unstack().plot(kind='bar', figsize=(12,6), title='Top 10 site domains histogram');"
   ]
  },
  {
   "cell_type": "code",
   "execution_count": 44,
   "metadata": {
    "ExecuteTime": {
     "end_time": "2019-06-10T02:41:13.299248Z",
     "start_time": "2019-06-10T02:41:13.101776Z"
    }
   },
   "outputs": [
    {
     "data": {
      "image/png": "[encoded data removed]",
      "text/plain": [
       "<Figure size 864x432 with 1 Axes>"
      ]
     },
     "metadata": {
      "needs_background": "light"
     },
     "output_type": "display_data"
    }
   ],
   "source": [
    "df_domain = top10_domain[['site_domain','click']].groupby(['site_domain']).count().reset_index()\n",
    "df_domain = df_domain.rename(columns={'click': 'impressions'})\n",
    "df_domain['clicks'] = top10_domain_click[['site_domain','click']].groupby(['site_domain']).count().reset_index()['click']\n",
    "df_domain['CTR'] = df_domain['clicks']/df_domain['impressions']*100\n",
    "sort_domain = df_domain.sort_values(by='CTR',ascending=False)['site_domain'].tolist()\n",
    "plt.figure(figsize=(12,6))\n",
    "sns.barplot(y='CTR', x='site_domain', data=df_domain, order=sort_domain)\n",
    "plt.title('CTR by top 10 site domain');"
   ]
  },
  {
   "cell_type": "markdown",
   "metadata": {},
   "source": [
    "Similar with the site_id feature, the site_domain feature seems important as well."
   ]
  },
  {
   "cell_type": "markdown",
   "metadata": {},
   "source": [
    "#### site category"
   ]
  },
  {
   "cell_type": "code",
   "execution_count": 45,
   "metadata": {
    "ExecuteTime": {
     "end_time": "2019-06-10T02:42:27.995007Z",
     "start_time": "2019-06-10T02:42:27.960130Z"
    }
   },
   "outputs": [
    {
     "name": "stdout",
     "output_type": "stream",
     "text": [
      "There are 20 site categories in the data set\n"
     ]
    }
   ],
   "source": [
    "print(\"There are {} site categories in the data set\".format(train.site_category.nunique()))"
   ]
  },
  {
   "cell_type": "code",
   "execution_count": 46,
   "metadata": {
    "ExecuteTime": {
     "end_time": "2019-06-10T02:42:31.580437Z",
     "start_time": "2019-06-10T02:42:31.514592Z"
    }
   },
   "outputs": [
    {
     "name": "stdout",
     "output_type": "stream",
     "text": [
      "The top 10 site categories that have the most impressions\n",
      "50e219e0    0.408706\n",
      "f028772b    0.313153\n",
      "28905ebd    0.182850\n",
      "3e814130    0.075372\n",
      "f66779e6    0.006167\n",
      "75fa27f6    0.004026\n",
      "335d28a8    0.003355\n",
      "76b2941d    0.002624\n",
      "c0dd3be3    0.001030\n",
      "72722551    0.000696\n",
      "Name: site_category, dtype: float64\n"
     ]
    }
   ],
   "source": [
    "print('The top 10 site categories that have the most impressions')\n",
    "print((train.site_category.value_counts()/len(train))[0:10])"
   ]
  },
  {
   "cell_type": "code",
   "execution_count": 47,
   "metadata": {
    "ExecuteTime": {
     "end_time": "2019-06-10T02:42:35.825089Z",
     "start_time": "2019-06-10T02:42:35.046145Z"
    }
   },
   "outputs": [
    {
     "name": "stdout",
     "output_type": "stream",
     "text": [
      "for site category value: 50e219e0,  click through rate: 0.1283440908623803\n",
      "for site category value: f028772b,  click through rate: 0.18088602057141398\n",
      "for site category value: 28905ebd,  click through rate: 0.2085206453377085\n",
      "for site category value: 3e814130,  click through rate: 0.2835535742716128\n",
      "for site category value: f66779e6,  click through rate: 0.037619588130371334\n",
      "for site category value: 75fa27f6,  click through rate: 0.107799304520616\n",
      "for site category value: 335d28a8,  click through rate: 0.09806259314456035\n",
      "for site category value: 76b2941d,  click through rate: 0.036966463414634144\n",
      "for site category value: c0dd3be3,  click through rate: 0.11359223300970873\n",
      "for site category value: 72722551,  click through rate: 0.0603448275862069\n"
     ]
    }
   ],
   "source": [
    "top10_categories = (train.site_category.value_counts()/len(train))[0:10].index\n",
    "click_avg_list=[]\n",
    "\n",
    "for i in top10_categories:\n",
    "    click_avg=train.loc[np.where((train.site_category == i))].click.mean()\n",
    "    click_avg_list.append(click_avg)\n",
    "    print(\"for site category value: {},  click through rate: {}\".format(i,click_avg))"
   ]
  },
  {
   "cell_type": "code",
   "execution_count": 48,
   "metadata": {
    "ExecuteTime": {
     "end_time": "2019-06-10T02:42:39.865283Z",
     "start_time": "2019-06-10T02:42:39.368583Z"
    }
   },
   "outputs": [
    {
     "data": {
      "image/png": "[encoded data removed]",
      "text/plain": [
       "<Figure size 864x432 with 1 Axes>"
      ]
     },
     "metadata": {
      "needs_background": "light"
     },
     "output_type": "display_data"
    }
   ],
   "source": [
    "top10_category = train[(train.site_category.isin((train.site_category.value_counts()/len(train))[0:10].index))]\n",
    "top10_category_click = top10_category[top10_category['click'] == 1]\n",
    "top10_category.groupby(['site_category', 'click']).size().unstack().plot(kind='bar', figsize=(12,6), title='Top 10 site categories histogram');"
   ]
  },
  {
   "cell_type": "code",
   "execution_count": 49,
   "metadata": {
    "ExecuteTime": {
     "end_time": "2019-06-10T02:42:43.832647Z",
     "start_time": "2019-06-10T02:42:43.616249Z"
    }
   },
   "outputs": [
    {
     "data": {
      "image/png": "[encoded data removed]",
      "text/plain": [
       "<Figure size 864x432 with 1 Axes>"
      ]
     },
     "metadata": {
      "needs_background": "light"
     },
     "output_type": "display_data"
    }
   ],
   "source": [
    "df_category = top10_category[['site_category','click']].groupby(['site_category']).count().reset_index()\n",
    "df_category = df_category.rename(columns={'click': 'impressions'})\n",
    "df_category['clicks'] = top10_category_click[['site_category','click']].groupby(['site_category']).count().reset_index()['click']\n",
    "df_category['CTR'] = df_category['clicks']/df_category['impressions']*100\n",
    "sort_category = df_category.sort_values(by='CTR',ascending=False)['site_category'].tolist()\n",
    "plt.figure(figsize=(12,6))\n",
    "sns.barplot(y='CTR', x='site_category', data=df_category, order=sort_category)\n",
    "plt.title('CTR by top 10 site category');"
   ]
  },
  {
   "cell_type": "markdown",
   "metadata": {},
   "source": [
    "### Device features\n",
    "\n",
    "#### device id"
   ]
  },
  {
   "cell_type": "code",
   "execution_count": 50,
   "metadata": {
    "ExecuteTime": {
     "end_time": "2019-06-10T02:42:59.562270Z",
     "start_time": "2019-06-10T02:42:59.504452Z"
    }
   },
   "outputs": [
    {
     "name": "stdout",
     "output_type": "stream",
     "text": [
      "There are 150505 devices in the data set\n"
     ]
    }
   ],
   "source": [
    "print(\"There are {} devices in the data set\".format(train.device_id.nunique()))"
   ]
  },
  {
   "cell_type": "code",
   "execution_count": 52,
   "metadata": {
    "ExecuteTime": {
     "end_time": "2019-06-10T02:43:25.327908Z",
     "start_time": "2019-06-10T02:43:25.170357Z"
    }
   },
   "outputs": [
    {
     "name": "stdout",
     "output_type": "stream",
     "text": [
      "The top 10 devices that have the most impressions\n",
      "a99f214a    0.825239\n",
      "0f7c61dc    0.000548\n",
      "c357dbff    0.000486\n",
      "936e92fb    0.000332\n",
      "afeffc18    0.000216\n",
      "28dc8687    0.000104\n",
      "987552d1    0.000098\n",
      "b09da1c4    0.000090\n",
      "d857ffbb    0.000090\n",
      "cef4c8cc    0.000084\n",
      "Name: device_id, dtype: float64\n"
     ]
    }
   ],
   "source": [
    "print('The top 10 devices that have the most impressions')\n",
    "print((train.device_id.value_counts()/len(train))[0:10])"
   ]
  },
  {
   "cell_type": "code",
   "execution_count": 53,
   "metadata": {
    "ExecuteTime": {
     "end_time": "2019-06-10T02:43:29.755095Z",
     "start_time": "2019-06-10T02:43:29.014048Z"
    }
   },
   "outputs": [
    {
     "name": "stdout",
     "output_type": "stream",
     "text": [
      "for device id value: a99f214a,  click through rate: 0.17480026998239298\n",
      "for device id value: 0f7c61dc,  click through rate: 0.7518248175182481\n",
      "for device id value: c357dbff,  click through rate: 0.6378600823045267\n",
      "for device id value: 936e92fb,  click through rate: 0.07530120481927711\n",
      "for device id value: afeffc18,  click through rate: 0.19907407407407407\n",
      "for device id value: 28dc8687,  click through rate: 0.0\n",
      "for device id value: 987552d1,  click through rate: 0.0\n",
      "for device id value: b09da1c4,  click through rate: 0.14444444444444443\n",
      "for device id value: d857ffbb,  click through rate: 0.23333333333333334\n",
      "for device id value: cef4c8cc,  click through rate: 0.2976190476190476\n"
     ]
    }
   ],
   "source": [
    "top10_devices = (train.device_id.value_counts()/len(train))[0:10].index\n",
    "click_avg_list=[]\n",
    "\n",
    "for i in top10_devices:\n",
    "    click_avg=train.loc[np.where((train.device_id == i))].click.mean()\n",
    "    click_avg_list.append(click_avg)\n",
    "    print(\"for device id value: {},  click through rate: {}\".format(i,click_avg))"
   ]
  },
  {
   "cell_type": "code",
   "execution_count": 54,
   "metadata": {
    "ExecuteTime": {
     "end_time": "2019-06-10T02:43:34.044592Z",
     "start_time": "2019-06-10T02:43:33.519996Z"
    }
   },
   "outputs": [
    {
     "data": {
      "image/png": "[encoded data removed]",
      "text/plain": [
       "<Figure size 864x432 with 1 Axes>"
      ]
     },
     "metadata": {
      "needs_background": "light"
     },
     "output_type": "display_data"
    }
   ],
   "source": [
    "top10_device = train[(train.device_id.isin((train.device_id.value_counts()/len(train))[0:10].index))]\n",
    "top10_device_click = top10_device[top10_device['click'] == 1]\n",
    "top10_device.groupby(['device_id', 'click']).size().unstack().plot(kind='bar', figsize=(12,6), title='Top 10 device ids histogram');"
   ]
  },
  {
   "cell_type": "markdown",
   "metadata": {},
   "source": [
    "You will see that most of device_id is a99f214a : Approx. 83% of the data, and the second major device_id is only 0.05% of the data. And there are some extremely high CTR here with device id at 0f7c61dc."
   ]
  },
  {
   "cell_type": "markdown",
   "metadata": {},
   "source": [
    "#### device ip\n",
    "\n",
    "Device ip is more of a users ip address, so, there are a lot of them."
   ]
  },
  {
   "cell_type": "code",
   "execution_count": 55,
   "metadata": {
    "ExecuteTime": {
     "end_time": "2019-06-10T02:47:23.242761Z",
     "start_time": "2019-06-10T02:47:23.040282Z"
    }
   },
   "outputs": [
    {
     "name": "stdout",
     "output_type": "stream",
     "text": [
      "There are 555401 device ips in the data set\n",
      "There are 4 device types in the data set\n",
      "There are 5172 device models in the data set\n",
      "There are 4 device cnn types in the data set\n"
     ]
    }
   ],
   "source": [
    "print(\"There are {} device ips in the data set\".format(train.device_ip.nunique()))\n",
    "print(\"There are {} device types in the data set\".format(train.device_type.nunique()))\n",
    "print(\"There are {} device models in the data set\".format(train.device_model.nunique()))\n",
    "print(\"There are {} device cnn types in the data set\".format(train.device_conn_type.nunique()))"
   ]
  },
  {
   "cell_type": "markdown",
   "metadata": {},
   "source": [
    "#### device type"
   ]
  },
  {
   "cell_type": "code",
   "execution_count": 56,
   "metadata": {
    "ExecuteTime": {
     "end_time": "2019-06-10T02:50:01.362644Z",
     "start_time": "2019-06-10T02:50:01.337712Z"
    }
   },
   "outputs": [
    {
     "name": "stdout",
     "output_type": "stream",
     "text": [
      "The impressions by device types\n",
      "1    0.923025\n",
      "0    0.054651\n",
      "4    0.019037\n",
      "5    0.003287\n",
      "Name: device_type, dtype: float64\n"
     ]
    }
   ],
   "source": [
    "print('The impressions by device types')\n",
    "print((train.device_type.value_counts()/len(train)))"
   ]
  },
  {
   "cell_type": "code",
   "execution_count": 57,
   "metadata": {
    "ExecuteTime": {
     "end_time": "2019-06-10T02:50:36.355196Z",
     "start_time": "2019-06-10T02:50:36.176674Z"
    }
   },
   "outputs": [
    {
     "data": {
      "image/png": "[encoded data removed]",
      "text/plain": [
       "<Figure size 432x288 with 1 Axes>"
      ]
     },
     "metadata": {
      "needs_background": "light"
     },
     "output_type": "display_data"
    }
   ],
   "source": [
    "train[['device_type','click']].groupby(['device_type','click']).size().unstack().plot(kind='bar', title='device types');"
   ]
  },
  {
   "cell_type": "markdown",
   "metadata": {},
   "source": [
    "Device type 1 gets the most impressions and clicks. And the other device types only get the minimum impressions and clicks. We may want to look in more details about device type 1. "
   ]
  },
  {
   "cell_type": "code",
   "execution_count": 58,
   "metadata": {
    "ExecuteTime": {
     "end_time": "2019-06-10T02:50:56.311820Z",
     "start_time": "2019-06-10T02:50:56.072461Z"
    },
    "scrolled": false
   },
   "outputs": [
    {
     "data": {
      "image/png": "[encoded data removed]",
      "text/plain": [
       "<Figure size 864x432 with 1 Axes>"
      ]
     },
     "metadata": {
      "needs_background": "light"
     },
     "output_type": "display_data"
    }
   ],
   "source": [
    "df_click[df_click['device_type']==1].groupby(['hour_of_day', 'click']).size().unstack().plot(kind='bar', title=\"Clicks from device type 1 by hour of day\", figsize=(12,6));"
   ]
  },
  {
   "cell_type": "markdown",
   "metadata": {},
   "source": [
    "As expected, most clicks happened during the business hours from device type 1. device type is definitely an important feature. "
   ]
  },
  {
   "cell_type": "code",
   "execution_count": 59,
   "metadata": {
    "ExecuteTime": {
     "end_time": "2019-06-10T02:56:33.187819Z",
     "start_time": "2019-06-10T02:56:33.120994Z"
    }
   },
   "outputs": [],
   "source": [
    "device_type_click = df_click.groupby('device_type').agg({'click':'sum'}).reset_index()\n",
    "device_type_impression = train.groupby('device_type').agg({'click':'count'}).reset_index().rename(columns={'click': 'impressions'})\n",
    "merged_device_type = pd.merge(left = device_type_click , right = device_type_impression, how = 'inner', on = 'device_type')"
   ]
  },
  {
   "cell_type": "code",
   "execution_count": 60,
   "metadata": {
    "ExecuteTime": {
     "end_time": "2019-06-10T02:56:37.146227Z",
     "start_time": "2019-06-10T02:56:37.141240Z"
    }
   },
   "outputs": [],
   "source": [
    "merged_device_type['CTR'] = merged_device_type['click'] / merged_device_type['impressions']*100"
   ]
  },
  {
   "cell_type": "code",
   "execution_count": 61,
   "metadata": {
    "ExecuteTime": {
     "end_time": "2019-06-10T02:56:41.083715Z",
     "start_time": "2019-06-10T02:56:41.076733Z"
    }
   },
   "outputs": [
    {
     "data": {
      "text/html": [
       "<div>\n",
       "<style scoped>\n",
       "    .dataframe tbody tr th:only-of-type {\n",
       "        vertical-align: middle;\n",
       "    }\n",
       "\n",
       "    .dataframe tbody tr th {\n",
       "        vertical-align: top;\n",
       "    }\n",
       "\n",
       "    .dataframe thead th {\n",
       "        text-align: right;\n",
       "    }\n",
       "</style>\n",
       "<table border=\"1\" class=\"dataframe\">\n",
       "  <thead>\n",
       "    <tr style=\"text-align: right;\">\n",
       "      <th></th>\n",
       "      <th>device_type</th>\n",
       "      <th>click</th>\n",
       "      <th>impressions</th>\n",
       "      <th>CTR</th>\n",
       "    </tr>\n",
       "  </thead>\n",
       "  <tbody>\n",
       "    <tr>\n",
       "      <th>0</th>\n",
       "      <td>0</td>\n",
       "      <td>11536</td>\n",
       "      <td>54651</td>\n",
       "      <td>21.108488</td>\n",
       "    </tr>\n",
       "    <tr>\n",
       "      <th>1</th>\n",
       "      <td>1</td>\n",
       "      <td>156586</td>\n",
       "      <td>923025</td>\n",
       "      <td>16.964438</td>\n",
       "    </tr>\n",
       "    <tr>\n",
       "      <th>2</th>\n",
       "      <td>4</td>\n",
       "      <td>1838</td>\n",
       "      <td>19037</td>\n",
       "      <td>9.654883</td>\n",
       "    </tr>\n",
       "    <tr>\n",
       "      <th>3</th>\n",
       "      <td>5</td>\n",
       "      <td>312</td>\n",
       "      <td>3287</td>\n",
       "      <td>9.491938</td>\n",
       "    </tr>\n",
       "  </tbody>\n",
       "</table>\n",
       "</div>"
      ],
      "text/plain": [
       "   device_type   click  impressions        CTR\n",
       "0            0   11536        54651  21.108488\n",
       "1            1  156586       923025  16.964438\n",
       "2            4    1838        19037   9.654883\n",
       "3            5     312         3287   9.491938"
      ]
     },
     "execution_count": 61,
     "metadata": {},
     "output_type": "execute_result"
    }
   ],
   "source": [
    "merged_device_type"
   ]
  },
  {
   "cell_type": "markdown",
   "metadata": {},
   "source": [
    "The highest CTR comes from device type 0."
   ]
  },
  {
   "cell_type": "markdown",
   "metadata": {},
   "source": [
    "#### app features"
   ]
  },
  {
   "cell_type": "code",
   "execution_count": 62,
   "metadata": {
    "ExecuteTime": {
     "end_time": "2019-06-10T02:56:48.826275Z",
     "start_time": "2019-06-10T02:56:48.720558Z"
    }
   },
   "outputs": [
    {
     "name": "stdout",
     "output_type": "stream",
     "text": [
      "There are 3182 apps in the data set\n",
      "There are 204 app domains in the data set\n",
      "There are 27 app categories in the data set\n"
     ]
    }
   ],
   "source": [
    "print(\"There are {} apps in the data set\".format(train.app_id.nunique()))\n",
    "print(\"There are {} app domains in the data set\".format(train.app_domain.nunique()))\n",
    "print(\"There are {} app categories in the data set\".format(train.app_category.nunique()))"
   ]
  },
  {
   "cell_type": "markdown",
   "metadata": {},
   "source": [
    "Looks like app category something worth to explore."
   ]
  },
  {
   "cell_type": "code",
   "execution_count": 63,
   "metadata": {
    "ExecuteTime": {
     "end_time": "2019-06-10T02:56:52.761778Z",
     "start_time": "2019-06-10T02:56:52.691937Z"
    }
   },
   "outputs": [
    {
     "name": "stdout",
     "output_type": "stream",
     "text": [
      "The impressions by app categories\n",
      "07d7df22    0.647214\n",
      "0f2161f8    0.236450\n",
      "cef3e649    0.043231\n",
      "8ded1f7a    0.036089\n",
      "f95efa07    0.028075\n",
      "d1327cf5    0.002962\n",
      "dc97ec06    0.001380\n",
      "09481d60    0.001369\n",
      "75d80bbe    0.000991\n",
      "fc6fa53d    0.000609\n",
      "4ce2e9fc    0.000489\n",
      "879c24eb    0.000326\n",
      "a3c42688    0.000261\n",
      "4681bb9d    0.000159\n",
      "0f9a328c    0.000148\n",
      "a86a3e89    0.000077\n",
      "2281a340    0.000064\n",
      "8df2e842    0.000048\n",
      "79f0b860    0.000018\n",
      "0bfbc358    0.000011\n",
      "a7fd01ec    0.000008\n",
      "18b1e0be    0.000007\n",
      "2fc4f2aa    0.000005\n",
      "5326cf99    0.000004\n",
      "7113d72a    0.000003\n",
      "0d82db25    0.000001\n",
      "4b7ade46    0.000001\n",
      "Name: app_category, dtype: float64\n"
     ]
    }
   ],
   "source": [
    "print('The impressions by app categories')\n",
    "print((train.app_category.value_counts()/len(train)))"
   ]
  },
  {
   "cell_type": "code",
   "execution_count": 64,
   "metadata": {
    "ExecuteTime": {
     "end_time": "2019-06-10T02:56:59.879656Z",
     "start_time": "2019-06-10T02:56:59.625338Z"
    }
   },
   "outputs": [
    {
     "data": {
      "text/plain": [
       "<matplotlib.axes._subplots.AxesSubplot at 0x1ecc40072e8>"
      ]
     },
     "execution_count": 64,
     "metadata": {},
     "output_type": "execute_result"
    },
    {
     "data": {
      "image/png": "[encoded data removed]",
      "text/plain": [
       "<Figure size 432x288 with 1 Axes>"
      ]
     },
     "metadata": {
      "needs_background": "light"
     },
     "output_type": "display_data"
    }
   ],
   "source": [
    "train['app_category'].value_counts().plot(kind='bar', title='App Category v/s Clicks')"
   ]
  },
  {
   "cell_type": "code",
   "execution_count": 65,
   "metadata": {
    "ExecuteTime": {
     "end_time": "2019-06-10T02:57:04.114355Z",
     "start_time": "2019-06-10T02:57:03.762271Z"
    }
   },
   "outputs": [
    {
     "data": {
      "image/png": "[encoded data removed]",
      "text/plain": [
       "<Figure size 432x288 with 1 Axes>"
      ]
     },
     "metadata": {
      "needs_background": "light"
     },
     "output_type": "display_data"
    }
   ],
   "source": [
    "train_app_category = train.groupby(['app_category', 'click']).size().unstack()\n",
    "train_app_category.div(train_app_category.sum(axis=1), axis=0).plot(kind='bar', stacked=True, title=\"Intra-category CTR\");"
   ]
  },
  {
   "cell_type": "markdown",
   "metadata": {},
   "source": [
    "#### C14 - C21 features"
   ]
  },
  {
   "cell_type": "code",
   "execution_count": 66,
   "metadata": {
    "ExecuteTime": {
     "end_time": "2019-06-10T02:57:08.089696Z",
     "start_time": "2019-06-10T02:57:08.028858Z"
    }
   },
   "outputs": [
    {
     "name": "stdout",
     "output_type": "stream",
     "text": [
      "There are 2243 C14 in the data set\n",
      "There are 8 C15 in the data set\n",
      "There are 9 C16 in the data set\n",
      "There are 422 C17 in the data set\n",
      "There are 4 C18 in the data set\n",
      "There are 66 C19 in the data set\n",
      "There are 163 C20 in the data set\n"
     ]
    }
   ],
   "source": [
    "print(\"There are {} C14 in the data set\".format(train.C14.nunique()))\n",
    "print(\"There are {} C15 in the data set\".format(train.C15.nunique()))\n",
    "print(\"There are {} C16 in the data set\".format(train.C16.nunique()))\n",
    "print(\"There are {} C17 in the data set\".format(train.C17.nunique()))\n",
    "print(\"There are {} C18 in the data set\".format(train.C18.nunique()))\n",
    "print(\"There are {} C19 in the data set\".format(train.C19.nunique()))\n",
    "print(\"There are {} C20 in the data set\".format(train.C20.nunique()))"
   ]
  },
  {
   "cell_type": "code",
   "execution_count": 67,
   "metadata": {
    "ExecuteTime": {
     "end_time": "2019-06-10T02:57:13.661207Z",
     "start_time": "2019-06-10T02:57:13.480690Z"
    }
   },
   "outputs": [
    {
     "data": {
      "image/png": "[encoded data removed]",
      "text/plain": [
       "<Figure size 432x288 with 1 Axes>"
      ]
     },
     "metadata": {
      "needs_background": "light"
     },
     "output_type": "display_data"
    }
   ],
   "source": [
    "train.groupby(['C15', 'click']).size().unstack().plot(kind='bar', stacked=True, title='C15 distribution');"
   ]
  },
  {
   "cell_type": "code",
   "execution_count": 68,
   "metadata": {
    "ExecuteTime": {
     "end_time": "2019-06-10T02:57:18.006202Z",
     "start_time": "2019-06-10T02:57:17.805738Z"
    }
   },
   "outputs": [
    {
     "data": {
      "image/png": "[encoded data removed]",
      "text/plain": [
       "<Figure size 432x288 with 1 Axes>"
      ]
     },
     "metadata": {
      "needs_background": "light"
     },
     "output_type": "display_data"
    }
   ],
   "source": [
    "train.groupby(['C16', 'click']).size().unstack().plot(kind='bar', stacked=True, title='C16 distribution');"
   ]
  },
  {
   "cell_type": "code",
   "execution_count": 69,
   "metadata": {
    "ExecuteTime": {
     "end_time": "2019-06-10T02:57:22.118204Z",
     "start_time": "2019-06-10T02:57:21.943699Z"
    }
   },
   "outputs": [
    {
     "data": {
      "image/png": "[encoded data removed]",
      "text/plain": [
       "<Figure size 432x288 with 1 Axes>"
      ]
     },
     "metadata": {
      "needs_background": "light"
     },
     "output_type": "display_data"
    }
   ],
   "source": [
    "train.groupby(['C18', 'click']).size().unstack().plot(kind='bar', stacked=True, title='C18 distribution');"
   ]
  },
  {
   "cell_type": "code",
   "execution_count": 70,
   "metadata": {
    "ExecuteTime": {
     "end_time": "2019-06-10T02:57:25.956935Z",
     "start_time": "2019-06-10T02:57:25.938984Z"
    }
   },
   "outputs": [
    {
     "data": {
      "text/html": [
       "<div>\n",
       "<style scoped>\n",
       "    .dataframe tbody tr th:only-of-type {\n",
       "        vertical-align: middle;\n",
       "    }\n",
       "\n",
       "    .dataframe tbody tr th {\n",
       "        vertical-align: top;\n",
       "    }\n",
       "\n",
       "    .dataframe thead th {\n",
       "        text-align: right;\n",
       "    }\n",
       "</style>\n",
       "<table border=\"1\" class=\"dataframe\">\n",
       "  <thead>\n",
       "    <tr style=\"text-align: right;\">\n",
       "      <th></th>\n",
       "      <th>id</th>\n",
       "      <th>click</th>\n",
       "      <th>hour</th>\n",
       "      <th>C1</th>\n",
       "      <th>banner_pos</th>\n",
       "      <th>site_id</th>\n",
       "      <th>site_domain</th>\n",
       "      <th>site_category</th>\n",
       "      <th>app_id</th>\n",
       "      <th>app_domain</th>\n",
       "      <th>...</th>\n",
       "      <th>C14</th>\n",
       "      <th>C15</th>\n",
       "      <th>C16</th>\n",
       "      <th>C17</th>\n",
       "      <th>C18</th>\n",
       "      <th>C19</th>\n",
       "      <th>C20</th>\n",
       "      <th>C21</th>\n",
       "      <th>hour_of_day</th>\n",
       "      <th>day_of_week</th>\n",
       "    </tr>\n",
       "  </thead>\n",
       "  <tbody>\n",
       "    <tr>\n",
       "      <th>0</th>\n",
       "      <td>39259272</td>\n",
       "      <td>1</td>\n",
       "      <td>2014-10-21</td>\n",
       "      <td>1005</td>\n",
       "      <td>0</td>\n",
       "      <td>1fbe01fe</td>\n",
       "      <td>f3845767</td>\n",
       "      <td>28905ebd</td>\n",
       "      <td>ecad2386</td>\n",
       "      <td>7801e8d9</td>\n",
       "      <td>...</td>\n",
       "      <td>15708</td>\n",
       "      <td>320</td>\n",
       "      <td>50</td>\n",
       "      <td>1722</td>\n",
       "      <td>0</td>\n",
       "      <td>35</td>\n",
       "      <td>100084</td>\n",
       "      <td>79</td>\n",
       "      <td>0</td>\n",
       "      <td>Tuesday</td>\n",
       "    </tr>\n",
       "    <tr>\n",
       "      <th>1</th>\n",
       "      <td>1922594537</td>\n",
       "      <td>0</td>\n",
       "      <td>2014-10-21</td>\n",
       "      <td>1005</td>\n",
       "      <td>0</td>\n",
       "      <td>1fbe01fe</td>\n",
       "      <td>f3845767</td>\n",
       "      <td>28905ebd</td>\n",
       "      <td>ecad2386</td>\n",
       "      <td>7801e8d9</td>\n",
       "      <td>...</td>\n",
       "      <td>15701</td>\n",
       "      <td>320</td>\n",
       "      <td>50</td>\n",
       "      <td>1722</td>\n",
       "      <td>0</td>\n",
       "      <td>35</td>\n",
       "      <td>-1</td>\n",
       "      <td>79</td>\n",
       "      <td>0</td>\n",
       "      <td>Tuesday</td>\n",
       "    </tr>\n",
       "    <tr>\n",
       "      <th>2</th>\n",
       "      <td>886239130</td>\n",
       "      <td>0</td>\n",
       "      <td>2014-10-21</td>\n",
       "      <td>1005</td>\n",
       "      <td>1</td>\n",
       "      <td>e151e245</td>\n",
       "      <td>7e091613</td>\n",
       "      <td>f028772b</td>\n",
       "      <td>ecad2386</td>\n",
       "      <td>7801e8d9</td>\n",
       "      <td>...</td>\n",
       "      <td>17264</td>\n",
       "      <td>320</td>\n",
       "      <td>50</td>\n",
       "      <td>1872</td>\n",
       "      <td>3</td>\n",
       "      <td>39</td>\n",
       "      <td>-1</td>\n",
       "      <td>23</td>\n",
       "      <td>0</td>\n",
       "      <td>Tuesday</td>\n",
       "    </tr>\n",
       "  </tbody>\n",
       "</table>\n",
       "<p>3 rows × 26 columns</p>\n",
       "</div>"
      ],
      "text/plain": [
       "           id  click       hour    C1  banner_pos   site_id site_domain  \\\n",
       "0    39259272      1 2014-10-21  1005           0  1fbe01fe    f3845767   \n",
       "1  1922594537      0 2014-10-21  1005           0  1fbe01fe    f3845767   \n",
       "2   886239130      0 2014-10-21  1005           1  e151e245    7e091613   \n",
       "\n",
       "  site_category    app_id app_domain  ...    C14  C15 C16   C17  C18  C19  \\\n",
       "0      28905ebd  ecad2386   7801e8d9  ...  15708  320  50  1722    0   35   \n",
       "1      28905ebd  ecad2386   7801e8d9  ...  15701  320  50  1722    0   35   \n",
       "2      f028772b  ecad2386   7801e8d9  ...  17264  320  50  1872    3   39   \n",
       "\n",
       "      C20  C21  hour_of_day  day_of_week  \n",
       "0  100084   79            0      Tuesday  \n",
       "1      -1   79            0      Tuesday  \n",
       "2      -1   23            0      Tuesday  \n",
       "\n",
       "[3 rows x 26 columns]"
      ]
     },
     "execution_count": 70,
     "metadata": {},
     "output_type": "execute_result"
    }
   ],
   "source": [
    "train.head(3)"
   ]
  },
  {
   "cell_type": "code",
   "execution_count": 73,
   "metadata": {
    "ExecuteTime": {
     "end_time": "2019-06-10T03:10:10.257338Z",
     "start_time": "2019-06-10T03:10:05.319549Z"
    }
   },
   "outputs": [],
   "source": [
    "def convert_obj_to_int(self):\n",
    "    \n",
    "    object_list_columns = self.columns\n",
    "    object_list_dtypes = self.dtypes\n",
    "    new_col_suffix = '_int'\n",
    "    for index in range(0,len(object_list_columns)):\n",
    "        if object_list_dtypes[index] == object :\n",
    "            self[object_list_columns[index]+new_col_suffix] = self[object_list_columns[index]].map( lambda  x: hash(x))\n",
    "            self.drop([object_list_columns[index]],inplace=True,axis=1)\n",
    "    return self\n",
    "train = convert_obj_to_int(train)"
   ]
  },
  {
   "cell_type": "code",
   "execution_count": 74,
   "metadata": {
    "ExecuteTime": {
     "end_time": "2019-06-10T03:10:14.086096Z",
     "start_time": "2019-06-10T03:10:14.073131Z"
    }
   },
   "outputs": [
    {
     "data": {
      "text/html": [
       "<div>\n",
       "<style scoped>\n",
       "    .dataframe tbody tr th:only-of-type {\n",
       "        vertical-align: middle;\n",
       "    }\n",
       "\n",
       "    .dataframe tbody tr th {\n",
       "        vertical-align: top;\n",
       "    }\n",
       "\n",
       "    .dataframe thead th {\n",
       "        text-align: right;\n",
       "    }\n",
       "</style>\n",
       "<table border=\"1\" class=\"dataframe\">\n",
       "  <thead>\n",
       "    <tr style=\"text-align: right;\">\n",
       "      <th></th>\n",
       "      <th>id</th>\n",
       "      <th>click</th>\n",
       "      <th>hour</th>\n",
       "      <th>C1</th>\n",
       "      <th>banner_pos</th>\n",
       "      <th>device_type</th>\n",
       "      <th>device_conn_type</th>\n",
       "      <th>C14</th>\n",
       "      <th>C15</th>\n",
       "      <th>C16</th>\n",
       "      <th>...</th>\n",
       "      <th>site_id_int</th>\n",
       "      <th>site_domain_int</th>\n",
       "      <th>site_category_int</th>\n",
       "      <th>app_id_int</th>\n",
       "      <th>app_domain_int</th>\n",
       "      <th>app_category_int</th>\n",
       "      <th>device_id_int</th>\n",
       "      <th>device_ip_int</th>\n",
       "      <th>device_model_int</th>\n",
       "      <th>day_of_week_int</th>\n",
       "    </tr>\n",
       "  </thead>\n",
       "  <tbody>\n",
       "    <tr>\n",
       "      <th>0</th>\n",
       "      <td>39259272</td>\n",
       "      <td>1</td>\n",
       "      <td>2014-10-21</td>\n",
       "      <td>1005</td>\n",
       "      <td>0</td>\n",
       "      <td>1</td>\n",
       "      <td>0</td>\n",
       "      <td>15708</td>\n",
       "      <td>320</td>\n",
       "      <td>50</td>\n",
       "      <td>...</td>\n",
       "      <td>7900982246123141860</td>\n",
       "      <td>6393939178260446907</td>\n",
       "      <td>6950287131457573774</td>\n",
       "      <td>-4129321510112147191</td>\n",
       "      <td>7390053170092303146</td>\n",
       "      <td>-7307295928600074995</td>\n",
       "      <td>7077558665466219939</td>\n",
       "      <td>6779741770598254032</td>\n",
       "      <td>4885804760683188016</td>\n",
       "      <td>1554143300035072433</td>\n",
       "    </tr>\n",
       "    <tr>\n",
       "      <th>1</th>\n",
       "      <td>1922594537</td>\n",
       "      <td>0</td>\n",
       "      <td>2014-10-21</td>\n",
       "      <td>1005</td>\n",
       "      <td>0</td>\n",
       "      <td>1</td>\n",
       "      <td>0</td>\n",
       "      <td>15701</td>\n",
       "      <td>320</td>\n",
       "      <td>50</td>\n",
       "      <td>...</td>\n",
       "      <td>7900982246123141860</td>\n",
       "      <td>6393939178260446907</td>\n",
       "      <td>6950287131457573774</td>\n",
       "      <td>-4129321510112147191</td>\n",
       "      <td>7390053170092303146</td>\n",
       "      <td>-7307295928600074995</td>\n",
       "      <td>7077558665466219939</td>\n",
       "      <td>4709304278848808813</td>\n",
       "      <td>7674111876357880999</td>\n",
       "      <td>1554143300035072433</td>\n",
       "    </tr>\n",
       "    <tr>\n",
       "      <th>2</th>\n",
       "      <td>886239130</td>\n",
       "      <td>0</td>\n",
       "      <td>2014-10-21</td>\n",
       "      <td>1005</td>\n",
       "      <td>1</td>\n",
       "      <td>1</td>\n",
       "      <td>0</td>\n",
       "      <td>17264</td>\n",
       "      <td>320</td>\n",
       "      <td>50</td>\n",
       "      <td>...</td>\n",
       "      <td>-2106679301317759406</td>\n",
       "      <td>2927157088311766339</td>\n",
       "      <td>3469020091645038403</td>\n",
       "      <td>-4129321510112147191</td>\n",
       "      <td>7390053170092303146</td>\n",
       "      <td>-7307295928600074995</td>\n",
       "      <td>7077558665466219939</td>\n",
       "      <td>-7024138835838488062</td>\n",
       "      <td>7191503395911040114</td>\n",
       "      <td>1554143300035072433</td>\n",
       "    </tr>\n",
       "  </tbody>\n",
       "</table>\n",
       "<p>3 rows × 26 columns</p>\n",
       "</div>"
      ],
      "text/plain": [
       "           id  click       hour    C1  banner_pos  device_type  \\\n",
       "0    39259272      1 2014-10-21  1005           0            1   \n",
       "1  1922594537      0 2014-10-21  1005           0            1   \n",
       "2   886239130      0 2014-10-21  1005           1            1   \n",
       "\n",
       "   device_conn_type    C14  C15  C16  ...          site_id_int  \\\n",
       "0                 0  15708  320   50  ...  7900982246123141860   \n",
       "1                 0  15701  320   50  ...  7900982246123141860   \n",
       "2                 0  17264  320   50  ... -2106679301317759406   \n",
       "\n",
       "       site_domain_int    site_category_int           app_id_int  \\\n",
       "0  6393939178260446907  6950287131457573774 -4129321510112147191   \n",
       "1  6393939178260446907  6950287131457573774 -4129321510112147191   \n",
       "2  2927157088311766339  3469020091645038403 -4129321510112147191   \n",
       "\n",
       "        app_domain_int     app_category_int        device_id_int  \\\n",
       "0  7390053170092303146 -7307295928600074995  7077558665466219939   \n",
       "1  7390053170092303146 -7307295928600074995  7077558665466219939   \n",
       "2  7390053170092303146 -7307295928600074995  7077558665466219939   \n",
       "\n",
       "         device_ip_int     device_model_int      day_of_week_int  \n",
       "0  6779741770598254032  4885804760683188016  1554143300035072433  \n",
       "1  4709304278848808813  7674111876357880999  1554143300035072433  \n",
       "2 -7024138835838488062  7191503395911040114  1554143300035072433  \n",
       "\n",
       "[3 rows x 26 columns]"
      ]
     },
     "execution_count": 74,
     "metadata": {},
     "output_type": "execute_result"
    }
   ],
   "source": [
    "train.head(3)"
   ]
  },
  {
   "cell_type": "code",
   "execution_count": 75,
   "metadata": {
    "ExecuteTime": {
     "end_time": "2019-06-10T03:10:24.698990Z",
     "start_time": "2019-06-10T03:10:24.406744Z"
    }
   },
   "outputs": [
    {
     "name": "stdout",
     "output_type": "stream",
     "text": [
      "<class 'pandas.core.frame.DataFrame'>\n",
      "RangeIndex: 1000000 entries, 0 to 999999\n",
      "Data columns (total 26 columns):\n",
      "id                   1000000 non-null int32\n",
      "click                1000000 non-null int32\n",
      "hour                 1000000 non-null datetime64[ns]\n",
      "C1                   1000000 non-null int32\n",
      "banner_pos           1000000 non-null int32\n",
      "device_type          1000000 non-null int32\n",
      "device_conn_type     1000000 non-null int32\n",
      "C14                  1000000 non-null int32\n",
      "C15                  1000000 non-null int32\n",
      "C16                  1000000 non-null int32\n",
      "C17                  1000000 non-null int32\n",
      "C18                  1000000 non-null int32\n",
      "C19                  1000000 non-null int32\n",
      "C20                  1000000 non-null int32\n",
      "C21                  1000000 non-null int32\n",
      "hour_of_day          1000000 non-null int64\n",
      "site_id_int          1000000 non-null int64\n",
      "site_domain_int      1000000 non-null int64\n",
      "site_category_int    1000000 non-null int64\n",
      "app_id_int           1000000 non-null int64\n",
      "app_domain_int       1000000 non-null int64\n",
      "app_category_int     1000000 non-null int64\n",
      "device_id_int        1000000 non-null int64\n",
      "device_ip_int        1000000 non-null int64\n",
      "device_model_int     1000000 non-null int64\n",
      "day_of_week_int      1000000 non-null int64\n",
      "dtypes: datetime64[ns](1), int32(14), int64(11)\n",
      "memory usage: 145.0 MB\n"
     ]
    }
   ],
   "source": [
    "train.info()"
   ]
  },
  {
   "cell_type": "code",
   "execution_count": 77,
   "metadata": {
    "ExecuteTime": {
     "end_time": "2019-06-10T03:12:15.667849Z",
     "start_time": "2019-06-10T03:12:15.608008Z"
    }
   },
   "outputs": [],
   "source": [
    "train.drop('hour', axis=1, inplace=True)"
   ]
  },
  {
   "cell_type": "code",
   "execution_count": 78,
   "metadata": {
    "ExecuteTime": {
     "end_time": "2019-06-10T03:12:19.600329Z",
     "start_time": "2019-06-10T03:12:19.535504Z"
    }
   },
   "outputs": [],
   "source": [
    "train.drop('id', axis=1, inplace=True)"
   ]
  },
  {
   "cell_type": "code",
   "execution_count": 87,
   "metadata": {
    "ExecuteTime": {
     "end_time": "2019-06-10T03:24:12.390044Z",
     "start_time": "2019-06-10T03:24:11.990163Z"
    }
   },
   "outputs": [],
   "source": [
    "import lightgbm as lgb\n",
    "X_train = train.loc[:, train.columns != 'click']\n",
    "y_target = train.click.values\n",
    "#create lightgbm dataset\n",
    "msk = np.random.rand(len(X_train)) < 0.8\n",
    "lgb_train = lgb.Dataset(X_train[msk], y_target[msk])\n",
    "lgb_eval = lgb.Dataset(X_train[~msk], y_target[~msk], reference=lgb_train)"
   ]
  },
  {
   "cell_type": "code",
   "execution_count": 88,
   "metadata": {
    "ExecuteTime": {
     "end_time": "2019-06-10T03:24:24.407573Z",
     "start_time": "2019-06-10T03:24:24.392614Z"
    }
   },
   "outputs": [
    {
     "data": {
      "text/html": [
       "<div>\n",
       "<style scoped>\n",
       "    .dataframe tbody tr th:only-of-type {\n",
       "        vertical-align: middle;\n",
       "    }\n",
       "\n",
       "    .dataframe tbody tr th {\n",
       "        vertical-align: top;\n",
       "    }\n",
       "\n",
       "    .dataframe thead th {\n",
       "        text-align: right;\n",
       "    }\n",
       "</style>\n",
       "<table border=\"1\" class=\"dataframe\">\n",
       "  <thead>\n",
       "    <tr style=\"text-align: right;\">\n",
       "      <th></th>\n",
       "      <th>C1</th>\n",
       "      <th>banner_pos</th>\n",
       "      <th>device_type</th>\n",
       "      <th>device_conn_type</th>\n",
       "      <th>C14</th>\n",
       "      <th>C15</th>\n",
       "      <th>C16</th>\n",
       "      <th>C17</th>\n",
       "      <th>C18</th>\n",
       "      <th>C19</th>\n",
       "      <th>...</th>\n",
       "      <th>site_id_int</th>\n",
       "      <th>site_domain_int</th>\n",
       "      <th>site_category_int</th>\n",
       "      <th>app_id_int</th>\n",
       "      <th>app_domain_int</th>\n",
       "      <th>app_category_int</th>\n",
       "      <th>device_id_int</th>\n",
       "      <th>device_ip_int</th>\n",
       "      <th>device_model_int</th>\n",
       "      <th>day_of_week_int</th>\n",
       "    </tr>\n",
       "  </thead>\n",
       "  <tbody>\n",
       "    <tr>\n",
       "      <th>0</th>\n",
       "      <td>1005</td>\n",
       "      <td>0</td>\n",
       "      <td>1</td>\n",
       "      <td>0</td>\n",
       "      <td>15708</td>\n",
       "      <td>320</td>\n",
       "      <td>50</td>\n",
       "      <td>1722</td>\n",
       "      <td>0</td>\n",
       "      <td>35</td>\n",
       "      <td>...</td>\n",
       "      <td>7900982246123141860</td>\n",
       "      <td>6393939178260446907</td>\n",
       "      <td>6950287131457573774</td>\n",
       "      <td>-4129321510112147191</td>\n",
       "      <td>7390053170092303146</td>\n",
       "      <td>-7307295928600074995</td>\n",
       "      <td>7077558665466219939</td>\n",
       "      <td>6779741770598254032</td>\n",
       "      <td>4885804760683188016</td>\n",
       "      <td>1554143300035072433</td>\n",
       "    </tr>\n",
       "    <tr>\n",
       "      <th>1</th>\n",
       "      <td>1005</td>\n",
       "      <td>0</td>\n",
       "      <td>1</td>\n",
       "      <td>0</td>\n",
       "      <td>15701</td>\n",
       "      <td>320</td>\n",
       "      <td>50</td>\n",
       "      <td>1722</td>\n",
       "      <td>0</td>\n",
       "      <td>35</td>\n",
       "      <td>...</td>\n",
       "      <td>7900982246123141860</td>\n",
       "      <td>6393939178260446907</td>\n",
       "      <td>6950287131457573774</td>\n",
       "      <td>-4129321510112147191</td>\n",
       "      <td>7390053170092303146</td>\n",
       "      <td>-7307295928600074995</td>\n",
       "      <td>7077558665466219939</td>\n",
       "      <td>4709304278848808813</td>\n",
       "      <td>7674111876357880999</td>\n",
       "      <td>1554143300035072433</td>\n",
       "    </tr>\n",
       "    <tr>\n",
       "      <th>2</th>\n",
       "      <td>1005</td>\n",
       "      <td>1</td>\n",
       "      <td>1</td>\n",
       "      <td>0</td>\n",
       "      <td>17264</td>\n",
       "      <td>320</td>\n",
       "      <td>50</td>\n",
       "      <td>1872</td>\n",
       "      <td>3</td>\n",
       "      <td>39</td>\n",
       "      <td>...</td>\n",
       "      <td>-2106679301317759406</td>\n",
       "      <td>2927157088311766339</td>\n",
       "      <td>3469020091645038403</td>\n",
       "      <td>-4129321510112147191</td>\n",
       "      <td>7390053170092303146</td>\n",
       "      <td>-7307295928600074995</td>\n",
       "      <td>7077558665466219939</td>\n",
       "      <td>-7024138835838488062</td>\n",
       "      <td>7191503395911040114</td>\n",
       "      <td>1554143300035072433</td>\n",
       "    </tr>\n",
       "  </tbody>\n",
       "</table>\n",
       "<p>3 rows × 23 columns</p>\n",
       "</div>"
      ],
      "text/plain": [
       "     C1  banner_pos  device_type  device_conn_type    C14  C15  C16   C17  \\\n",
       "0  1005           0            1                 0  15708  320   50  1722   \n",
       "1  1005           0            1                 0  15701  320   50  1722   \n",
       "2  1005           1            1                 0  17264  320   50  1872   \n",
       "\n",
       "   C18  C19  ...          site_id_int      site_domain_int  \\\n",
       "0    0   35  ...  7900982246123141860  6393939178260446907   \n",
       "1    0   35  ...  7900982246123141860  6393939178260446907   \n",
       "2    3   39  ... -2106679301317759406  2927157088311766339   \n",
       "\n",
       "     site_category_int           app_id_int       app_domain_int  \\\n",
       "0  6950287131457573774 -4129321510112147191  7390053170092303146   \n",
       "1  6950287131457573774 -4129321510112147191  7390053170092303146   \n",
       "2  3469020091645038403 -4129321510112147191  7390053170092303146   \n",
       "\n",
       "      app_category_int        device_id_int        device_ip_int  \\\n",
       "0 -7307295928600074995  7077558665466219939  6779741770598254032   \n",
       "1 -7307295928600074995  7077558665466219939  4709304278848808813   \n",
       "2 -7307295928600074995  7077558665466219939 -7024138835838488062   \n",
       "\n",
       "      device_model_int      day_of_week_int  \n",
       "0  4885804760683188016  1554143300035072433  \n",
       "1  7674111876357880999  1554143300035072433  \n",
       "2  7191503395911040114  1554143300035072433  \n",
       "\n",
       "[3 rows x 23 columns]"
      ]
     },
     "execution_count": 88,
     "metadata": {},
     "output_type": "execute_result"
    }
   ],
   "source": [
    "X_train[:3]"
   ]
  },
  {
   "cell_type": "code",
   "execution_count": 93,
   "metadata": {
    "ExecuteTime": {
     "end_time": "2019-06-10T03:57:43.027646Z",
     "start_time": "2019-06-10T03:57:13.789065Z"
    },
    "scrolled": true
   },
   "outputs": [
    {
     "name": "stdout",
     "output_type": "stream",
     "text": [
      "Start training...\n",
      "[1]\tvalid_0's binary_logloss: 0.452967\n",
      "Training until validation scores don't improve for 500 rounds.\n",
      "[2]\tvalid_0's binary_logloss: 0.448653\n",
      "[3]\tvalid_0's binary_logloss: 0.444891\n",
      "[4]\tvalid_0's binary_logloss: 0.441347\n",
      "[5]\tvalid_0's binary_logloss: 0.43854\n",
      "[6]\tvalid_0's binary_logloss: 0.436049\n",
      "[7]\tvalid_0's binary_logloss: 0.433838\n",
      "[8]\tvalid_0's binary_logloss: 0.431952\n",
      "[9]\tvalid_0's binary_logloss: 0.430271\n",
      "[10]\tvalid_0's binary_logloss: 0.428681\n",
      "[11]\tvalid_0's binary_logloss: 0.42729\n",
      "[12]\tvalid_0's binary_logloss: 0.426023\n",
      "[13]\tvalid_0's binary_logloss: 0.424954\n",
      "[14]\tvalid_0's binary_logloss: 0.423958\n",
      "[15]\tvalid_0's binary_logloss: 0.42305\n",
      "[16]\tvalid_0's binary_logloss: 0.422222\n",
      "[17]\tvalid_0's binary_logloss: 0.421321\n",
      "[18]\tvalid_0's binary_logloss: 0.420611\n",
      "[19]\tvalid_0's binary_logloss: 0.419989\n",
      "[20]\tvalid_0's binary_logloss: 0.419423\n",
      "[21]\tvalid_0's binary_logloss: 0.418892\n",
      "[22]\tvalid_0's binary_logloss: 0.418419\n",
      "[23]\tvalid_0's binary_logloss: 0.417869\n",
      "[24]\tvalid_0's binary_logloss: 0.417403\n",
      "[25]\tvalid_0's binary_logloss: 0.416959\n",
      "[26]\tvalid_0's binary_logloss: 0.416343\n",
      "[27]\tvalid_0's binary_logloss: 0.41609\n",
      "[28]\tvalid_0's binary_logloss: 0.41564\n",
      "[29]\tvalid_0's binary_logloss: 0.41532\n",
      "[30]\tvalid_0's binary_logloss: 0.415068\n",
      "[31]\tvalid_0's binary_logloss: 0.414844\n",
      "[32]\tvalid_0's binary_logloss: 0.414475\n",
      "[33]\tvalid_0's binary_logloss: 0.41427\n",
      "[34]\tvalid_0's binary_logloss: 0.414056\n",
      "[35]\tvalid_0's binary_logloss: 0.413747\n",
      "[36]\tvalid_0's binary_logloss: 0.413551\n",
      "[37]\tvalid_0's binary_logloss: 0.413373\n",
      "[38]\tvalid_0's binary_logloss: 0.413168\n",
      "[39]\tvalid_0's binary_logloss: 0.413004\n",
      "[40]\tvalid_0's binary_logloss: 0.412825\n",
      "[41]\tvalid_0's binary_logloss: 0.412539\n",
      "[42]\tvalid_0's binary_logloss: 0.41234\n",
      "[43]\tvalid_0's binary_logloss: 0.412168\n",
      "[44]\tvalid_0's binary_logloss: 0.412039\n",
      "[45]\tvalid_0's binary_logloss: 0.411954\n",
      "[46]\tvalid_0's binary_logloss: 0.411736\n",
      "[47]\tvalid_0's binary_logloss: 0.411656\n",
      "[48]\tvalid_0's binary_logloss: 0.411581\n",
      "[49]\tvalid_0's binary_logloss: 0.411474\n",
      "[50]\tvalid_0's binary_logloss: 0.411308\n",
      "[51]\tvalid_0's binary_logloss: 0.411209\n",
      "[52]\tvalid_0's binary_logloss: 0.411057\n",
      "[53]\tvalid_0's binary_logloss: 0.410967\n",
      "[54]\tvalid_0's binary_logloss: 0.410892\n",
      "[55]\tvalid_0's binary_logloss: 0.410797\n",
      "[56]\tvalid_0's binary_logloss: 0.410716\n",
      "[57]\tvalid_0's binary_logloss: 0.410528\n",
      "[58]\tvalid_0's binary_logloss: 0.410429\n",
      "[59]\tvalid_0's binary_logloss: 0.410274\n",
      "[60]\tvalid_0's binary_logloss: 0.41013\n",
      "[61]\tvalid_0's binary_logloss: 0.410001\n",
      "[62]\tvalid_0's binary_logloss: 0.409875\n",
      "[63]\tvalid_0's binary_logloss: 0.40981\n",
      "[64]\tvalid_0's binary_logloss: 0.409687\n",
      "[65]\tvalid_0's binary_logloss: 0.409616\n",
      "[66]\tvalid_0's binary_logloss: 0.409513\n",
      "[67]\tvalid_0's binary_logloss: 0.40941\n",
      "[68]\tvalid_0's binary_logloss: 0.409332\n",
      "[69]\tvalid_0's binary_logloss: 0.409247\n",
      "[70]\tvalid_0's binary_logloss: 0.409179\n",
      "[71]\tvalid_0's binary_logloss: 0.409087\n",
      "[72]\tvalid_0's binary_logloss: 0.409025\n",
      "[73]\tvalid_0's binary_logloss: 0.408924\n",
      "[74]\tvalid_0's binary_logloss: 0.408871\n",
      "[75]\tvalid_0's binary_logloss: 0.408821\n",
      "[76]\tvalid_0's binary_logloss: 0.408757\n",
      "[77]\tvalid_0's binary_logloss: 0.408657\n",
      "[78]\tvalid_0's binary_logloss: 0.408545\n",
      "[79]\tvalid_0's binary_logloss: 0.408486\n",
      "[80]\tvalid_0's binary_logloss: 0.408409\n",
      "[81]\tvalid_0's binary_logloss: 0.408345\n",
      "[82]\tvalid_0's binary_logloss: 0.408301\n",
      "[83]\tvalid_0's binary_logloss: 0.408218\n",
      "[84]\tvalid_0's binary_logloss: 0.408184\n",
      "[85]\tvalid_0's binary_logloss: 0.408155\n",
      "[86]\tvalid_0's binary_logloss: 0.408066\n",
      "[87]\tvalid_0's binary_logloss: 0.407988\n",
      "[88]\tvalid_0's binary_logloss: 0.407965\n",
      "[89]\tvalid_0's binary_logloss: 0.407898\n",
      "[90]\tvalid_0's binary_logloss: 0.407835\n",
      "[91]\tvalid_0's binary_logloss: 0.407764\n",
      "[92]\tvalid_0's binary_logloss: 0.407709\n",
      "[93]\tvalid_0's binary_logloss: 0.407699\n",
      "[94]\tvalid_0's binary_logloss: 0.407659\n",
      "[95]\tvalid_0's binary_logloss: 0.407618\n",
      "[96]\tvalid_0's binary_logloss: 0.407581\n",
      "[97]\tvalid_0's binary_logloss: 0.407533\n",
      "[98]\tvalid_0's binary_logloss: 0.4075\n",
      "[99]\tvalid_0's binary_logloss: 0.407478\n",
      "[100]\tvalid_0's binary_logloss: 0.407452\n",
      "[101]\tvalid_0's binary_logloss: 0.407318\n",
      "[102]\tvalid_0's binary_logloss: 0.407271\n",
      "[103]\tvalid_0's binary_logloss: 0.407175\n",
      "[104]\tvalid_0's binary_logloss: 0.407146\n",
      "[105]\tvalid_0's binary_logloss: 0.407055\n",
      "[106]\tvalid_0's binary_logloss: 0.407029\n",
      "[107]\tvalid_0's binary_logloss: 0.407018\n",
      "[108]\tvalid_0's binary_logloss: 0.406983\n",
      "[109]\tvalid_0's binary_logloss: 0.406974\n",
      "[110]\tvalid_0's binary_logloss: 0.406937\n",
      "[111]\tvalid_0's binary_logloss: 0.406904\n",
      "[112]\tvalid_0's binary_logloss: 0.406843\n",
      "[113]\tvalid_0's binary_logloss: 0.406811\n",
      "[114]\tvalid_0's binary_logloss: 0.406772\n",
      "[115]\tvalid_0's binary_logloss: 0.406711\n",
      "[116]\tvalid_0's binary_logloss: 0.40665\n",
      "[117]\tvalid_0's binary_logloss: 0.406586\n",
      "[118]\tvalid_0's binary_logloss: 0.406558\n",
      "[119]\tvalid_0's binary_logloss: 0.406534\n",
      "[120]\tvalid_0's binary_logloss: 0.406505\n",
      "[121]\tvalid_0's binary_logloss: 0.406477\n",
      "[122]\tvalid_0's binary_logloss: 0.406422\n",
      "[123]\tvalid_0's binary_logloss: 0.406389\n",
      "[124]\tvalid_0's binary_logloss: 0.406368\n",
      "[125]\tvalid_0's binary_logloss: 0.406348\n",
      "[126]\tvalid_0's binary_logloss: 0.406349\n",
      "[127]\tvalid_0's binary_logloss: 0.40631\n",
      "[128]\tvalid_0's binary_logloss: 0.406306\n",
      "[129]\tvalid_0's binary_logloss: 0.406286\n",
      "[130]\tvalid_0's binary_logloss: 0.406255\n",
      "[131]\tvalid_0's binary_logloss: 0.406232\n",
      "[132]\tvalid_0's binary_logloss: 0.406213\n",
      "[133]\tvalid_0's binary_logloss: 0.406177\n",
      "[134]\tvalid_0's binary_logloss: 0.406148\n",
      "[135]\tvalid_0's binary_logloss: 0.40612\n",
      "[136]\tvalid_0's binary_logloss: 0.406108\n",
      "[137]\tvalid_0's binary_logloss: 0.406093\n",
      "[138]\tvalid_0's binary_logloss: 0.40607\n",
      "[139]\tvalid_0's binary_logloss: 0.406052\n",
      "[140]\tvalid_0's binary_logloss: 0.406047\n",
      "[141]\tvalid_0's binary_logloss: 0.406041\n",
      "[142]\tvalid_0's binary_logloss: 0.406017\n",
      "[143]\tvalid_0's binary_logloss: 0.406017\n",
      "[144]\tvalid_0's binary_logloss: 0.405988\n",
      "[145]\tvalid_0's binary_logloss: 0.405987\n",
      "[146]\tvalid_0's binary_logloss: 0.405964\n",
      "[147]\tvalid_0's binary_logloss: 0.405945\n",
      "[148]\tvalid_0's binary_logloss: 0.405925\n",
      "[149]\tvalid_0's binary_logloss: 0.405906\n",
      "[150]\tvalid_0's binary_logloss: 0.405895\n",
      "[151]\tvalid_0's binary_logloss: 0.40589\n",
      "[152]\tvalid_0's binary_logloss: 0.405872\n",
      "[153]\tvalid_0's binary_logloss: 0.405864\n",
      "[154]\tvalid_0's binary_logloss: 0.405831\n",
      "[155]\tvalid_0's binary_logloss: 0.405841\n",
      "[156]\tvalid_0's binary_logloss: 0.405826\n",
      "[157]\tvalid_0's binary_logloss: 0.405796\n",
      "[158]\tvalid_0's binary_logloss: 0.405796\n",
      "[159]\tvalid_0's binary_logloss: 0.405776\n",
      "[160]\tvalid_0's binary_logloss: 0.405768\n",
      "[161]\tvalid_0's binary_logloss: 0.405772\n",
      "[162]\tvalid_0's binary_logloss: 0.405756\n",
      "[163]\tvalid_0's binary_logloss: 0.405753\n",
      "[164]\tvalid_0's binary_logloss: 0.405745\n",
      "[165]\tvalid_0's binary_logloss: 0.405728\n",
      "[166]\tvalid_0's binary_logloss: 0.405696\n",
      "[167]\tvalid_0's binary_logloss: 0.405683\n",
      "[168]\tvalid_0's binary_logloss: 0.405669\n",
      "[169]\tvalid_0's binary_logloss: 0.40566\n",
      "[170]\tvalid_0's binary_logloss: 0.405648\n",
      "[171]\tvalid_0's binary_logloss: 0.405572\n",
      "[172]\tvalid_0's binary_logloss: 0.405542\n",
      "[173]\tvalid_0's binary_logloss: 0.405514\n",
      "[174]\tvalid_0's binary_logloss: 0.405487\n",
      "[175]\tvalid_0's binary_logloss: 0.405431\n",
      "[176]\tvalid_0's binary_logloss: 0.405414\n",
      "[177]\tvalid_0's binary_logloss: 0.405409\n",
      "[178]\tvalid_0's binary_logloss: 0.40538\n",
      "[179]\tvalid_0's binary_logloss: 0.405352\n",
      "[180]\tvalid_0's binary_logloss: 0.405329\n",
      "[181]\tvalid_0's binary_logloss: 0.405312\n",
      "[182]\tvalid_0's binary_logloss: 0.405289\n",
      "[183]\tvalid_0's binary_logloss: 0.405283\n",
      "[184]\tvalid_0's binary_logloss: 0.405288\n",
      "[185]\tvalid_0's binary_logloss: 0.405289\n",
      "[186]\tvalid_0's binary_logloss: 0.405275\n",
      "[187]\tvalid_0's binary_logloss: 0.405268\n",
      "[188]\tvalid_0's binary_logloss: 0.405278\n",
      "[189]\tvalid_0's binary_logloss: 0.405272\n",
      "[190]\tvalid_0's binary_logloss: 0.405255\n",
      "[191]\tvalid_0's binary_logloss: 0.40523\n",
      "[192]\tvalid_0's binary_logloss: 0.405195\n",
      "[193]\tvalid_0's binary_logloss: 0.40515\n",
      "[194]\tvalid_0's binary_logloss: 0.405152\n",
      "[195]\tvalid_0's binary_logloss: 0.405152\n",
      "[196]\tvalid_0's binary_logloss: 0.405128\n",
      "[197]\tvalid_0's binary_logloss: 0.405105\n",
      "[198]\tvalid_0's binary_logloss: 0.405096\n",
      "[199]\tvalid_0's binary_logloss: 0.405057\n",
      "[200]\tvalid_0's binary_logloss: 0.405049\n",
      "[201]\tvalid_0's binary_logloss: 0.405026\n",
      "[202]\tvalid_0's binary_logloss: 0.404983\n",
      "[203]\tvalid_0's binary_logloss: 0.404974\n"
     ]
    },
    {
     "name": "stdout",
     "output_type": "stream",
     "text": [
      "[204]\tvalid_0's binary_logloss: 0.40497\n",
      "[205]\tvalid_0's binary_logloss: 0.404948\n",
      "[206]\tvalid_0's binary_logloss: 0.404929\n",
      "[207]\tvalid_0's binary_logloss: 0.404904\n",
      "[208]\tvalid_0's binary_logloss: 0.404894\n",
      "[209]\tvalid_0's binary_logloss: 0.404878\n",
      "[210]\tvalid_0's binary_logloss: 0.404868\n",
      "[211]\tvalid_0's binary_logloss: 0.40485\n",
      "[212]\tvalid_0's binary_logloss: 0.40483\n",
      "[213]\tvalid_0's binary_logloss: 0.40482\n",
      "[214]\tvalid_0's binary_logloss: 0.404787\n",
      "[215]\tvalid_0's binary_logloss: 0.404761\n",
      "[216]\tvalid_0's binary_logloss: 0.404759\n",
      "[217]\tvalid_0's binary_logloss: 0.404728\n",
      "[218]\tvalid_0's binary_logloss: 0.404708\n",
      "[219]\tvalid_0's binary_logloss: 0.404706\n",
      "[220]\tvalid_0's binary_logloss: 0.404703\n",
      "[221]\tvalid_0's binary_logloss: 0.40467\n",
      "[222]\tvalid_0's binary_logloss: 0.404652\n",
      "[223]\tvalid_0's binary_logloss: 0.404627\n",
      "[224]\tvalid_0's binary_logloss: 0.404592\n",
      "[225]\tvalid_0's binary_logloss: 0.404574\n",
      "[226]\tvalid_0's binary_logloss: 0.404541\n",
      "[227]\tvalid_0's binary_logloss: 0.404535\n",
      "[228]\tvalid_0's binary_logloss: 0.40453\n",
      "[229]\tvalid_0's binary_logloss: 0.404513\n",
      "[230]\tvalid_0's binary_logloss: 0.404505\n",
      "[231]\tvalid_0's binary_logloss: 0.404493\n",
      "[232]\tvalid_0's binary_logloss: 0.404479\n",
      "[233]\tvalid_0's binary_logloss: 0.404474\n",
      "[234]\tvalid_0's binary_logloss: 0.404457\n",
      "[235]\tvalid_0's binary_logloss: 0.40441\n",
      "[236]\tvalid_0's binary_logloss: 0.404368\n",
      "[237]\tvalid_0's binary_logloss: 0.404344\n",
      "[238]\tvalid_0's binary_logloss: 0.404302\n",
      "[239]\tvalid_0's binary_logloss: 0.404291\n",
      "[240]\tvalid_0's binary_logloss: 0.404271\n",
      "[241]\tvalid_0's binary_logloss: 0.404244\n",
      "[242]\tvalid_0's binary_logloss: 0.404201\n",
      "[243]\tvalid_0's binary_logloss: 0.404158\n",
      "[244]\tvalid_0's binary_logloss: 0.404144\n",
      "[245]\tvalid_0's binary_logloss: 0.40413\n",
      "[246]\tvalid_0's binary_logloss: 0.404121\n",
      "[247]\tvalid_0's binary_logloss: 0.40412\n",
      "[248]\tvalid_0's binary_logloss: 0.40412\n",
      "[249]\tvalid_0's binary_logloss: 0.404117\n",
      "[250]\tvalid_0's binary_logloss: 0.404121\n",
      "[251]\tvalid_0's binary_logloss: 0.404092\n",
      "[252]\tvalid_0's binary_logloss: 0.404076\n",
      "[253]\tvalid_0's binary_logloss: 0.404063\n",
      "[254]\tvalid_0's binary_logloss: 0.404051\n",
      "[255]\tvalid_0's binary_logloss: 0.404041\n",
      "[256]\tvalid_0's binary_logloss: 0.40403\n",
      "[257]\tvalid_0's binary_logloss: 0.404031\n",
      "[258]\tvalid_0's binary_logloss: 0.404033\n",
      "[259]\tvalid_0's binary_logloss: 0.404028\n",
      "[260]\tvalid_0's binary_logloss: 0.404016\n",
      "[261]\tvalid_0's binary_logloss: 0.40398\n",
      "[262]\tvalid_0's binary_logloss: 0.403974\n",
      "[263]\tvalid_0's binary_logloss: 0.403952\n",
      "[264]\tvalid_0's binary_logloss: 0.403946\n",
      "[265]\tvalid_0's binary_logloss: 0.403946\n",
      "[266]\tvalid_0's binary_logloss: 0.403941\n",
      "[267]\tvalid_0's binary_logloss: 0.403943\n",
      "[268]\tvalid_0's binary_logloss: 0.403906\n",
      "[269]\tvalid_0's binary_logloss: 0.403861\n",
      "[270]\tvalid_0's binary_logloss: 0.403858\n",
      "[271]\tvalid_0's binary_logloss: 0.403849\n",
      "[272]\tvalid_0's binary_logloss: 0.403837\n",
      "[273]\tvalid_0's binary_logloss: 0.403831\n",
      "[274]\tvalid_0's binary_logloss: 0.403825\n",
      "[275]\tvalid_0's binary_logloss: 0.403818\n",
      "[276]\tvalid_0's binary_logloss: 0.403814\n",
      "[277]\tvalid_0's binary_logloss: 0.403817\n",
      "[278]\tvalid_0's binary_logloss: 0.403802\n",
      "[279]\tvalid_0's binary_logloss: 0.403793\n",
      "[280]\tvalid_0's binary_logloss: 0.403778\n",
      "[281]\tvalid_0's binary_logloss: 0.403763\n",
      "[282]\tvalid_0's binary_logloss: 0.403758\n",
      "[283]\tvalid_0's binary_logloss: 0.403759\n",
      "[284]\tvalid_0's binary_logloss: 0.40376\n",
      "[285]\tvalid_0's binary_logloss: 0.403758\n",
      "[286]\tvalid_0's binary_logloss: 0.403751\n",
      "[287]\tvalid_0's binary_logloss: 0.403731\n",
      "[288]\tvalid_0's binary_logloss: 0.403733\n",
      "[289]\tvalid_0's binary_logloss: 0.403733\n",
      "[290]\tvalid_0's binary_logloss: 0.40373\n",
      "[291]\tvalid_0's binary_logloss: 0.403728\n",
      "[292]\tvalid_0's binary_logloss: 0.403723\n",
      "[293]\tvalid_0's binary_logloss: 0.403722\n",
      "[294]\tvalid_0's binary_logloss: 0.403723\n",
      "[295]\tvalid_0's binary_logloss: 0.403723\n",
      "[296]\tvalid_0's binary_logloss: 0.403708\n",
      "[297]\tvalid_0's binary_logloss: 0.403707\n",
      "[298]\tvalid_0's binary_logloss: 0.403696\n",
      "[299]\tvalid_0's binary_logloss: 0.403686\n",
      "[300]\tvalid_0's binary_logloss: 0.403673\n",
      "[301]\tvalid_0's binary_logloss: 0.403658\n",
      "[302]\tvalid_0's binary_logloss: 0.403635\n",
      "[303]\tvalid_0's binary_logloss: 0.403602\n",
      "[304]\tvalid_0's binary_logloss: 0.403601\n",
      "[305]\tvalid_0's binary_logloss: 0.403595\n",
      "[306]\tvalid_0's binary_logloss: 0.403573\n",
      "[307]\tvalid_0's binary_logloss: 0.403552\n",
      "[308]\tvalid_0's binary_logloss: 0.403533\n",
      "[309]\tvalid_0's binary_logloss: 0.403529\n",
      "[310]\tvalid_0's binary_logloss: 0.403529\n",
      "[311]\tvalid_0's binary_logloss: 0.403525\n",
      "[312]\tvalid_0's binary_logloss: 0.403523\n",
      "[313]\tvalid_0's binary_logloss: 0.403518\n",
      "[314]\tvalid_0's binary_logloss: 0.403512\n",
      "[315]\tvalid_0's binary_logloss: 0.403517\n",
      "[316]\tvalid_0's binary_logloss: 0.403508\n",
      "[317]\tvalid_0's binary_logloss: 0.403498\n",
      "[318]\tvalid_0's binary_logloss: 0.403482\n",
      "[319]\tvalid_0's binary_logloss: 0.403483\n",
      "[320]\tvalid_0's binary_logloss: 0.403472\n",
      "[321]\tvalid_0's binary_logloss: 0.403475\n",
      "[322]\tvalid_0's binary_logloss: 0.40348\n",
      "[323]\tvalid_0's binary_logloss: 0.403482\n",
      "[324]\tvalid_0's binary_logloss: 0.403483\n",
      "[325]\tvalid_0's binary_logloss: 0.403491\n",
      "[326]\tvalid_0's binary_logloss: 0.403482\n",
      "[327]\tvalid_0's binary_logloss: 0.403476\n",
      "[328]\tvalid_0's binary_logloss: 0.403474\n",
      "[329]\tvalid_0's binary_logloss: 0.403471\n",
      "[330]\tvalid_0's binary_logloss: 0.403472\n",
      "[331]\tvalid_0's binary_logloss: 0.403452\n",
      "[332]\tvalid_0's binary_logloss: 0.403441\n",
      "[333]\tvalid_0's binary_logloss: 0.40342\n",
      "[334]\tvalid_0's binary_logloss: 0.40341\n",
      "[335]\tvalid_0's binary_logloss: 0.403412\n",
      "[336]\tvalid_0's binary_logloss: 0.403409\n",
      "[337]\tvalid_0's binary_logloss: 0.403386\n",
      "[338]\tvalid_0's binary_logloss: 0.403387\n",
      "[339]\tvalid_0's binary_logloss: 0.403387\n",
      "[340]\tvalid_0's binary_logloss: 0.403381\n",
      "[341]\tvalid_0's binary_logloss: 0.403387\n",
      "[342]\tvalid_0's binary_logloss: 0.40337\n",
      "[343]\tvalid_0's binary_logloss: 0.403368\n",
      "[344]\tvalid_0's binary_logloss: 0.403365\n",
      "[345]\tvalid_0's binary_logloss: 0.403369\n",
      "[346]\tvalid_0's binary_logloss: 0.403346\n",
      "[347]\tvalid_0's binary_logloss: 0.40335\n",
      "[348]\tvalid_0's binary_logloss: 0.403346\n",
      "[349]\tvalid_0's binary_logloss: 0.403351\n",
      "[350]\tvalid_0's binary_logloss: 0.403326\n",
      "[351]\tvalid_0's binary_logloss: 0.403316\n",
      "[352]\tvalid_0's binary_logloss: 0.403314\n",
      "[353]\tvalid_0's binary_logloss: 0.403314\n",
      "[354]\tvalid_0's binary_logloss: 0.403314\n",
      "[355]\tvalid_0's binary_logloss: 0.403316\n",
      "[356]\tvalid_0's binary_logloss: 0.403313\n",
      "[357]\tvalid_0's binary_logloss: 0.40332\n",
      "[358]\tvalid_0's binary_logloss: 0.403303\n",
      "[359]\tvalid_0's binary_logloss: 0.403279\n",
      "[360]\tvalid_0's binary_logloss: 0.403273\n",
      "[361]\tvalid_0's binary_logloss: 0.403258\n",
      "[362]\tvalid_0's binary_logloss: 0.403248\n",
      "[363]\tvalid_0's binary_logloss: 0.403242\n",
      "[364]\tvalid_0's binary_logloss: 0.403238\n",
      "[365]\tvalid_0's binary_logloss: 0.403238\n",
      "[366]\tvalid_0's binary_logloss: 0.403224\n",
      "[367]\tvalid_0's binary_logloss: 0.403225\n",
      "[368]\tvalid_0's binary_logloss: 0.403212\n",
      "[369]\tvalid_0's binary_logloss: 0.403206\n",
      "[370]\tvalid_0's binary_logloss: 0.403188\n",
      "[371]\tvalid_0's binary_logloss: 0.403187\n",
      "[372]\tvalid_0's binary_logloss: 0.403184\n",
      "[373]\tvalid_0's binary_logloss: 0.40318\n",
      "[374]\tvalid_0's binary_logloss: 0.403177\n",
      "[375]\tvalid_0's binary_logloss: 0.403171\n",
      "[376]\tvalid_0's binary_logloss: 0.403157\n",
      "[377]\tvalid_0's binary_logloss: 0.403151\n",
      "[378]\tvalid_0's binary_logloss: 0.403156\n",
      "[379]\tvalid_0's binary_logloss: 0.403164\n",
      "[380]\tvalid_0's binary_logloss: 0.403153\n",
      "[381]\tvalid_0's binary_logloss: 0.403145\n",
      "[382]\tvalid_0's binary_logloss: 0.403135\n",
      "[383]\tvalid_0's binary_logloss: 0.403133\n",
      "[384]\tvalid_0's binary_logloss: 0.403141\n",
      "[385]\tvalid_0's binary_logloss: 0.403142\n",
      "[386]\tvalid_0's binary_logloss: 0.403138\n",
      "[387]\tvalid_0's binary_logloss: 0.403131\n",
      "[388]\tvalid_0's binary_logloss: 0.403129\n",
      "[389]\tvalid_0's binary_logloss: 0.403129\n",
      "[390]\tvalid_0's binary_logloss: 0.403122\n",
      "[391]\tvalid_0's binary_logloss: 0.403126\n",
      "[392]\tvalid_0's binary_logloss: 0.403119\n",
      "[393]\tvalid_0's binary_logloss: 0.403115\n",
      "[394]\tvalid_0's binary_logloss: 0.403116\n",
      "[395]\tvalid_0's binary_logloss: 0.403117\n",
      "[396]\tvalid_0's binary_logloss: 0.403126\n",
      "[397]\tvalid_0's binary_logloss: 0.403128\n",
      "[398]\tvalid_0's binary_logloss: 0.403135\n",
      "[399]\tvalid_0's binary_logloss: 0.403142\n",
      "[400]\tvalid_0's binary_logloss: 0.403136\n",
      "[401]\tvalid_0's binary_logloss: 0.403131\n",
      "[402]\tvalid_0's binary_logloss: 0.403119\n",
      "[403]\tvalid_0's binary_logloss: 0.403104\n"
     ]
    },
    {
     "name": "stdout",
     "output_type": "stream",
     "text": [
      "[404]\tvalid_0's binary_logloss: 0.403097\n",
      "[405]\tvalid_0's binary_logloss: 0.403089\n",
      "[406]\tvalid_0's binary_logloss: 0.403082\n",
      "[407]\tvalid_0's binary_logloss: 0.403082\n",
      "[408]\tvalid_0's binary_logloss: 0.403086\n",
      "[409]\tvalid_0's binary_logloss: 0.403084\n",
      "[410]\tvalid_0's binary_logloss: 0.403096\n",
      "[411]\tvalid_0's binary_logloss: 0.403091\n",
      "[412]\tvalid_0's binary_logloss: 0.403071\n",
      "[413]\tvalid_0's binary_logloss: 0.403055\n",
      "[414]\tvalid_0's binary_logloss: 0.403048\n",
      "[415]\tvalid_0's binary_logloss: 0.403037\n",
      "[416]\tvalid_0's binary_logloss: 0.403033\n",
      "[417]\tvalid_0's binary_logloss: 0.40303\n",
      "[418]\tvalid_0's binary_logloss: 0.403021\n",
      "[419]\tvalid_0's binary_logloss: 0.403014\n",
      "[420]\tvalid_0's binary_logloss: 0.403022\n",
      "[421]\tvalid_0's binary_logloss: 0.403021\n",
      "[422]\tvalid_0's binary_logloss: 0.40302\n",
      "[423]\tvalid_0's binary_logloss: 0.403024\n",
      "[424]\tvalid_0's binary_logloss: 0.403026\n",
      "[425]\tvalid_0's binary_logloss: 0.403007\n",
      "[426]\tvalid_0's binary_logloss: 0.403008\n",
      "[427]\tvalid_0's binary_logloss: 0.403001\n",
      "[428]\tvalid_0's binary_logloss: 0.403009\n",
      "[429]\tvalid_0's binary_logloss: 0.403007\n",
      "[430]\tvalid_0's binary_logloss: 0.403016\n",
      "[431]\tvalid_0's binary_logloss: 0.403027\n",
      "[432]\tvalid_0's binary_logloss: 0.403014\n",
      "[433]\tvalid_0's binary_logloss: 0.403014\n",
      "[434]\tvalid_0's binary_logloss: 0.403015\n",
      "[435]\tvalid_0's binary_logloss: 0.403025\n",
      "[436]\tvalid_0's binary_logloss: 0.403008\n",
      "[437]\tvalid_0's binary_logloss: 0.40301\n",
      "[438]\tvalid_0's binary_logloss: 0.403008\n",
      "[439]\tvalid_0's binary_logloss: 0.403005\n",
      "[440]\tvalid_0's binary_logloss: 0.402999\n",
      "[441]\tvalid_0's binary_logloss: 0.402995\n",
      "[442]\tvalid_0's binary_logloss: 0.403\n",
      "[443]\tvalid_0's binary_logloss: 0.402999\n",
      "[444]\tvalid_0's binary_logloss: 0.402982\n",
      "[445]\tvalid_0's binary_logloss: 0.402982\n",
      "[446]\tvalid_0's binary_logloss: 0.40299\n",
      "[447]\tvalid_0's binary_logloss: 0.402995\n",
      "[448]\tvalid_0's binary_logloss: 0.402998\n",
      "[449]\tvalid_0's binary_logloss: 0.402998\n",
      "[450]\tvalid_0's binary_logloss: 0.402996\n",
      "[451]\tvalid_0's binary_logloss: 0.402989\n",
      "[452]\tvalid_0's binary_logloss: 0.402994\n",
      "[453]\tvalid_0's binary_logloss: 0.403001\n",
      "[454]\tvalid_0's binary_logloss: 0.403\n",
      "[455]\tvalid_0's binary_logloss: 0.403003\n",
      "[456]\tvalid_0's binary_logloss: 0.402986\n",
      "[457]\tvalid_0's binary_logloss: 0.402991\n",
      "[458]\tvalid_0's binary_logloss: 0.402998\n",
      "[459]\tvalid_0's binary_logloss: 0.403006\n",
      "[460]\tvalid_0's binary_logloss: 0.402993\n",
      "[461]\tvalid_0's binary_logloss: 0.402989\n",
      "[462]\tvalid_0's binary_logloss: 0.402986\n",
      "[463]\tvalid_0's binary_logloss: 0.402985\n",
      "[464]\tvalid_0's binary_logloss: 0.40298\n",
      "[465]\tvalid_0's binary_logloss: 0.402977\n",
      "[466]\tvalid_0's binary_logloss: 0.402986\n",
      "[467]\tvalid_0's binary_logloss: 0.402986\n",
      "[468]\tvalid_0's binary_logloss: 0.402983\n",
      "[469]\tvalid_0's binary_logloss: 0.402981\n",
      "[470]\tvalid_0's binary_logloss: 0.402983\n",
      "[471]\tvalid_0's binary_logloss: 0.402983\n",
      "[472]\tvalid_0's binary_logloss: 0.402978\n",
      "[473]\tvalid_0's binary_logloss: 0.402986\n",
      "[474]\tvalid_0's binary_logloss: 0.402996\n",
      "[475]\tvalid_0's binary_logloss: 0.403002\n",
      "[476]\tvalid_0's binary_logloss: 0.40301\n",
      "[477]\tvalid_0's binary_logloss: 0.403007\n",
      "[478]\tvalid_0's binary_logloss: 0.403001\n",
      "[479]\tvalid_0's binary_logloss: 0.403009\n",
      "[480]\tvalid_0's binary_logloss: 0.403003\n",
      "[481]\tvalid_0's binary_logloss: 0.402987\n",
      "[482]\tvalid_0's binary_logloss: 0.402974\n",
      "[483]\tvalid_0's binary_logloss: 0.40298\n",
      "[484]\tvalid_0's binary_logloss: 0.402977\n",
      "[485]\tvalid_0's binary_logloss: 0.402978\n",
      "[486]\tvalid_0's binary_logloss: 0.402985\n",
      "[487]\tvalid_0's binary_logloss: 0.402987\n",
      "[488]\tvalid_0's binary_logloss: 0.402982\n",
      "[489]\tvalid_0's binary_logloss: 0.40298\n",
      "[490]\tvalid_0's binary_logloss: 0.402984\n",
      "[491]\tvalid_0's binary_logloss: 0.402968\n",
      "[492]\tvalid_0's binary_logloss: 0.402947\n",
      "[493]\tvalid_0's binary_logloss: 0.402941\n",
      "[494]\tvalid_0's binary_logloss: 0.40295\n",
      "[495]\tvalid_0's binary_logloss: 0.402964\n",
      "[496]\tvalid_0's binary_logloss: 0.402964\n",
      "[497]\tvalid_0's binary_logloss: 0.402962\n",
      "[498]\tvalid_0's binary_logloss: 0.402966\n",
      "[499]\tvalid_0's binary_logloss: 0.402959\n",
      "[500]\tvalid_0's binary_logloss: 0.402958\n",
      "[501]\tvalid_0's binary_logloss: 0.402932\n",
      "[502]\tvalid_0's binary_logloss: 0.402922\n",
      "[503]\tvalid_0's binary_logloss: 0.402926\n",
      "[504]\tvalid_0's binary_logloss: 0.40292\n",
      "[505]\tvalid_0's binary_logloss: 0.402923\n",
      "[506]\tvalid_0's binary_logloss: 0.402925\n",
      "[507]\tvalid_0's binary_logloss: 0.402911\n",
      "[508]\tvalid_0's binary_logloss: 0.402903\n",
      "[509]\tvalid_0's binary_logloss: 0.402906\n",
      "[510]\tvalid_0's binary_logloss: 0.402909\n",
      "[511]\tvalid_0's binary_logloss: 0.402911\n",
      "[512]\tvalid_0's binary_logloss: 0.402909\n",
      "[513]\tvalid_0's binary_logloss: 0.402911\n",
      "[514]\tvalid_0's binary_logloss: 0.402907\n",
      "[515]\tvalid_0's binary_logloss: 0.40289\n",
      "[516]\tvalid_0's binary_logloss: 0.402884\n",
      "[517]\tvalid_0's binary_logloss: 0.402882\n",
      "[518]\tvalid_0's binary_logloss: 0.402886\n",
      "[519]\tvalid_0's binary_logloss: 0.402898\n",
      "[520]\tvalid_0's binary_logloss: 0.4029\n",
      "[521]\tvalid_0's binary_logloss: 0.402893\n",
      "[522]\tvalid_0's binary_logloss: 0.40289\n",
      "[523]\tvalid_0's binary_logloss: 0.402857\n",
      "[524]\tvalid_0's binary_logloss: 0.402857\n",
      "[525]\tvalid_0's binary_logloss: 0.402862\n",
      "[526]\tvalid_0's binary_logloss: 0.402867\n",
      "[527]\tvalid_0's binary_logloss: 0.402868\n",
      "[528]\tvalid_0's binary_logloss: 0.402869\n",
      "[529]\tvalid_0's binary_logloss: 0.402875\n",
      "[530]\tvalid_0's binary_logloss: 0.402877\n",
      "[531]\tvalid_0's binary_logloss: 0.402857\n",
      "[532]\tvalid_0's binary_logloss: 0.402856\n",
      "[533]\tvalid_0's binary_logloss: 0.402851\n",
      "[534]\tvalid_0's binary_logloss: 0.402843\n",
      "[535]\tvalid_0's binary_logloss: 0.402849\n",
      "[536]\tvalid_0's binary_logloss: 0.402847\n",
      "[537]\tvalid_0's binary_logloss: 0.402855\n",
      "[538]\tvalid_0's binary_logloss: 0.402856\n",
      "[539]\tvalid_0's binary_logloss: 0.402848\n",
      "[540]\tvalid_0's binary_logloss: 0.402852\n",
      "[541]\tvalid_0's binary_logloss: 0.402846\n",
      "[542]\tvalid_0's binary_logloss: 0.40283\n",
      "[543]\tvalid_0's binary_logloss: 0.402824\n",
      "[544]\tvalid_0's binary_logloss: 0.402823\n",
      "[545]\tvalid_0's binary_logloss: 0.402823\n",
      "[546]\tvalid_0's binary_logloss: 0.402815\n",
      "[547]\tvalid_0's binary_logloss: 0.402813\n",
      "[548]\tvalid_0's binary_logloss: 0.402813\n",
      "[549]\tvalid_0's binary_logloss: 0.402809\n",
      "[550]\tvalid_0's binary_logloss: 0.402803\n",
      "[551]\tvalid_0's binary_logloss: 0.402808\n",
      "[552]\tvalid_0's binary_logloss: 0.402803\n",
      "[553]\tvalid_0's binary_logloss: 0.402801\n",
      "[554]\tvalid_0's binary_logloss: 0.402796\n",
      "[555]\tvalid_0's binary_logloss: 0.40279\n",
      "[556]\tvalid_0's binary_logloss: 0.40277\n",
      "[557]\tvalid_0's binary_logloss: 0.402776\n",
      "[558]\tvalid_0's binary_logloss: 0.402763\n",
      "[559]\tvalid_0's binary_logloss: 0.402756\n",
      "[560]\tvalid_0's binary_logloss: 0.40274\n",
      "[561]\tvalid_0's binary_logloss: 0.402739\n",
      "[562]\tvalid_0's binary_logloss: 0.402749\n",
      "[563]\tvalid_0's binary_logloss: 0.402746\n",
      "[564]\tvalid_0's binary_logloss: 0.402743\n",
      "[565]\tvalid_0's binary_logloss: 0.402742\n",
      "[566]\tvalid_0's binary_logloss: 0.402747\n",
      "[567]\tvalid_0's binary_logloss: 0.402747\n",
      "[568]\tvalid_0's binary_logloss: 0.40275\n",
      "[569]\tvalid_0's binary_logloss: 0.402745\n",
      "[570]\tvalid_0's binary_logloss: 0.402745\n",
      "[571]\tvalid_0's binary_logloss: 0.40275\n",
      "[572]\tvalid_0's binary_logloss: 0.402752\n",
      "[573]\tvalid_0's binary_logloss: 0.402749\n",
      "[574]\tvalid_0's binary_logloss: 0.40275\n",
      "[575]\tvalid_0's binary_logloss: 0.402751\n",
      "[576]\tvalid_0's binary_logloss: 0.402735\n",
      "[577]\tvalid_0's binary_logloss: 0.402728\n",
      "[578]\tvalid_0's binary_logloss: 0.402711\n",
      "[579]\tvalid_0's binary_logloss: 0.402708\n",
      "[580]\tvalid_0's binary_logloss: 0.402703\n",
      "[581]\tvalid_0's binary_logloss: 0.402685\n",
      "[582]\tvalid_0's binary_logloss: 0.402686\n",
      "[583]\tvalid_0's binary_logloss: 0.402696\n",
      "[584]\tvalid_0's binary_logloss: 0.402697\n",
      "[585]\tvalid_0's binary_logloss: 0.40268\n",
      "[586]\tvalid_0's binary_logloss: 0.402671\n",
      "[587]\tvalid_0's binary_logloss: 0.402676\n",
      "[588]\tvalid_0's binary_logloss: 0.402675\n",
      "[589]\tvalid_0's binary_logloss: 0.402675\n",
      "[590]\tvalid_0's binary_logloss: 0.402684\n",
      "[591]\tvalid_0's binary_logloss: 0.402681\n",
      "[592]\tvalid_0's binary_logloss: 0.402677\n",
      "[593]\tvalid_0's binary_logloss: 0.40268\n",
      "[594]\tvalid_0's binary_logloss: 0.402669\n",
      "[595]\tvalid_0's binary_logloss: 0.402662\n",
      "[596]\tvalid_0's binary_logloss: 0.402655\n",
      "[597]\tvalid_0's binary_logloss: 0.402648\n",
      "[598]\tvalid_0's binary_logloss: 0.402652\n",
      "[599]\tvalid_0's binary_logloss: 0.402654\n",
      "[600]\tvalid_0's binary_logloss: 0.402655\n",
      "[601]\tvalid_0's binary_logloss: 0.402661\n",
      "[602]\tvalid_0's binary_logloss: 0.402661\n",
      "[603]\tvalid_0's binary_logloss: 0.402655\n",
      "[604]\tvalid_0's binary_logloss: 0.402653\n",
      "[605]\tvalid_0's binary_logloss: 0.40266\n",
      "[606]\tvalid_0's binary_logloss: 0.402659\n",
      "[607]\tvalid_0's binary_logloss: 0.402669\n",
      "[608]\tvalid_0's binary_logloss: 0.402669\n"
     ]
    },
    {
     "name": "stdout",
     "output_type": "stream",
     "text": [
      "[609]\tvalid_0's binary_logloss: 0.402683\n",
      "[610]\tvalid_0's binary_logloss: 0.402685\n",
      "[611]\tvalid_0's binary_logloss: 0.402687\n",
      "[612]\tvalid_0's binary_logloss: 0.402685\n",
      "[613]\tvalid_0's binary_logloss: 0.402684\n",
      "[614]\tvalid_0's binary_logloss: 0.402686\n",
      "[615]\tvalid_0's binary_logloss: 0.402692\n",
      "[616]\tvalid_0's binary_logloss: 0.402686\n",
      "[617]\tvalid_0's binary_logloss: 0.402675\n",
      "[618]\tvalid_0's binary_logloss: 0.402675\n",
      "[619]\tvalid_0's binary_logloss: 0.402659\n",
      "[620]\tvalid_0's binary_logloss: 0.402643\n",
      "[621]\tvalid_0's binary_logloss: 0.402637\n",
      "[622]\tvalid_0's binary_logloss: 0.402629\n",
      "[623]\tvalid_0's binary_logloss: 0.402628\n",
      "[624]\tvalid_0's binary_logloss: 0.40262\n",
      "[625]\tvalid_0's binary_logloss: 0.402627\n",
      "[626]\tvalid_0's binary_logloss: 0.402623\n",
      "[627]\tvalid_0's binary_logloss: 0.402619\n",
      "[628]\tvalid_0's binary_logloss: 0.402612\n",
      "[629]\tvalid_0's binary_logloss: 0.402611\n",
      "[630]\tvalid_0's binary_logloss: 0.402609\n",
      "[631]\tvalid_0's binary_logloss: 0.402614\n",
      "[632]\tvalid_0's binary_logloss: 0.402615\n",
      "[633]\tvalid_0's binary_logloss: 0.402615\n",
      "[634]\tvalid_0's binary_logloss: 0.402616\n",
      "[635]\tvalid_0's binary_logloss: 0.402613\n",
      "[636]\tvalid_0's binary_logloss: 0.402619\n",
      "[637]\tvalid_0's binary_logloss: 0.402626\n",
      "[638]\tvalid_0's binary_logloss: 0.402627\n",
      "[639]\tvalid_0's binary_logloss: 0.402624\n",
      "[640]\tvalid_0's binary_logloss: 0.402624\n",
      "[641]\tvalid_0's binary_logloss: 0.402633\n",
      "[642]\tvalid_0's binary_logloss: 0.402637\n",
      "[643]\tvalid_0's binary_logloss: 0.40264\n",
      "[644]\tvalid_0's binary_logloss: 0.402642\n",
      "[645]\tvalid_0's binary_logloss: 0.402636\n",
      "[646]\tvalid_0's binary_logloss: 0.402641\n",
      "[647]\tvalid_0's binary_logloss: 0.40265\n",
      "[648]\tvalid_0's binary_logloss: 0.40265\n",
      "[649]\tvalid_0's binary_logloss: 0.40265\n",
      "[650]\tvalid_0's binary_logloss: 0.402658\n",
      "[651]\tvalid_0's binary_logloss: 0.40266\n",
      "[652]\tvalid_0's binary_logloss: 0.402656\n",
      "[653]\tvalid_0's binary_logloss: 0.402659\n",
      "[654]\tvalid_0's binary_logloss: 0.402663\n",
      "[655]\tvalid_0's binary_logloss: 0.402657\n",
      "[656]\tvalid_0's binary_logloss: 0.402657\n",
      "[657]\tvalid_0's binary_logloss: 0.402659\n",
      "[658]\tvalid_0's binary_logloss: 0.402658\n",
      "[659]\tvalid_0's binary_logloss: 0.402655\n",
      "[660]\tvalid_0's binary_logloss: 0.402658\n",
      "[661]\tvalid_0's binary_logloss: 0.402661\n",
      "[662]\tvalid_0's binary_logloss: 0.402653\n",
      "[663]\tvalid_0's binary_logloss: 0.402653\n",
      "[664]\tvalid_0's binary_logloss: 0.402648\n",
      "[665]\tvalid_0's binary_logloss: 0.402645\n",
      "[666]\tvalid_0's binary_logloss: 0.402636\n",
      "[667]\tvalid_0's binary_logloss: 0.402633\n",
      "[668]\tvalid_0's binary_logloss: 0.402635\n",
      "[669]\tvalid_0's binary_logloss: 0.402629\n",
      "[670]\tvalid_0's binary_logloss: 0.402622\n",
      "[671]\tvalid_0's binary_logloss: 0.402622\n",
      "[672]\tvalid_0's binary_logloss: 0.402626\n",
      "[673]\tvalid_0's binary_logloss: 0.402621\n",
      "[674]\tvalid_0's binary_logloss: 0.402626\n",
      "[675]\tvalid_0's binary_logloss: 0.402632\n",
      "[676]\tvalid_0's binary_logloss: 0.402624\n",
      "[677]\tvalid_0's binary_logloss: 0.402615\n",
      "[678]\tvalid_0's binary_logloss: 0.402609\n",
      "[679]\tvalid_0's binary_logloss: 0.402609\n",
      "[680]\tvalid_0's binary_logloss: 0.4026\n",
      "[681]\tvalid_0's binary_logloss: 0.402597\n",
      "[682]\tvalid_0's binary_logloss: 0.402602\n",
      "[683]\tvalid_0's binary_logloss: 0.402603\n",
      "[684]\tvalid_0's binary_logloss: 0.402595\n",
      "[685]\tvalid_0's binary_logloss: 0.402596\n",
      "[686]\tvalid_0's binary_logloss: 0.40259\n",
      "[687]\tvalid_0's binary_logloss: 0.402589\n",
      "[688]\tvalid_0's binary_logloss: 0.402583\n",
      "[689]\tvalid_0's binary_logloss: 0.402588\n",
      "[690]\tvalid_0's binary_logloss: 0.402581\n",
      "[691]\tvalid_0's binary_logloss: 0.40258\n",
      "[692]\tvalid_0's binary_logloss: 0.402572\n",
      "[693]\tvalid_0's binary_logloss: 0.402568\n",
      "[694]\tvalid_0's binary_logloss: 0.402569\n",
      "[695]\tvalid_0's binary_logloss: 0.402569\n",
      "[696]\tvalid_0's binary_logloss: 0.402568\n",
      "[697]\tvalid_0's binary_logloss: 0.402567\n",
      "[698]\tvalid_0's binary_logloss: 0.40257\n",
      "[699]\tvalid_0's binary_logloss: 0.402573\n",
      "[700]\tvalid_0's binary_logloss: 0.402574\n",
      "[701]\tvalid_0's binary_logloss: 0.402571\n",
      "[702]\tvalid_0's binary_logloss: 0.402579\n",
      "[703]\tvalid_0's binary_logloss: 0.40258\n",
      "[704]\tvalid_0's binary_logloss: 0.402581\n",
      "[705]\tvalid_0's binary_logloss: 0.402581\n",
      "[706]\tvalid_0's binary_logloss: 0.402578\n",
      "[707]\tvalid_0's binary_logloss: 0.402571\n",
      "[708]\tvalid_0's binary_logloss: 0.402566\n",
      "[709]\tvalid_0's binary_logloss: 0.402565\n",
      "[710]\tvalid_0's binary_logloss: 0.402568\n",
      "[711]\tvalid_0's binary_logloss: 0.402554\n",
      "[712]\tvalid_0's binary_logloss: 0.402551\n",
      "[713]\tvalid_0's binary_logloss: 0.402532\n",
      "[714]\tvalid_0's binary_logloss: 0.402515\n",
      "[715]\tvalid_0's binary_logloss: 0.402508\n",
      "[716]\tvalid_0's binary_logloss: 0.402526\n",
      "[717]\tvalid_0's binary_logloss: 0.402532\n",
      "[718]\tvalid_0's binary_logloss: 0.40253\n",
      "[719]\tvalid_0's binary_logloss: 0.402524\n",
      "[720]\tvalid_0's binary_logloss: 0.402527\n",
      "[721]\tvalid_0's binary_logloss: 0.402524\n",
      "[722]\tvalid_0's binary_logloss: 0.402519\n",
      "[723]\tvalid_0's binary_logloss: 0.402514\n",
      "[724]\tvalid_0's binary_logloss: 0.402521\n",
      "[725]\tvalid_0's binary_logloss: 0.402531\n",
      "[726]\tvalid_0's binary_logloss: 0.402527\n",
      "[727]\tvalid_0's binary_logloss: 0.402509\n",
      "[728]\tvalid_0's binary_logloss: 0.402508\n",
      "[729]\tvalid_0's binary_logloss: 0.402507\n",
      "[730]\tvalid_0's binary_logloss: 0.402508\n",
      "[731]\tvalid_0's binary_logloss: 0.402503\n",
      "[732]\tvalid_0's binary_logloss: 0.402486\n",
      "[733]\tvalid_0's binary_logloss: 0.402492\n",
      "[734]\tvalid_0's binary_logloss: 0.402489\n",
      "[735]\tvalid_0's binary_logloss: 0.402487\n",
      "[736]\tvalid_0's binary_logloss: 0.402493\n",
      "[737]\tvalid_0's binary_logloss: 0.402494\n",
      "[738]\tvalid_0's binary_logloss: 0.402493\n",
      "[739]\tvalid_0's binary_logloss: 0.402495\n",
      "[740]\tvalid_0's binary_logloss: 0.4025\n",
      "[741]\tvalid_0's binary_logloss: 0.402499\n",
      "[742]\tvalid_0's binary_logloss: 0.402498\n",
      "[743]\tvalid_0's binary_logloss: 0.402501\n",
      "[744]\tvalid_0's binary_logloss: 0.4025\n",
      "[745]\tvalid_0's binary_logloss: 0.402493\n",
      "[746]\tvalid_0's binary_logloss: 0.402478\n",
      "[747]\tvalid_0's binary_logloss: 0.402468\n",
      "[748]\tvalid_0's binary_logloss: 0.402456\n",
      "[749]\tvalid_0's binary_logloss: 0.402464\n",
      "[750]\tvalid_0's binary_logloss: 0.402454\n",
      "[751]\tvalid_0's binary_logloss: 0.402455\n",
      "[752]\tvalid_0's binary_logloss: 0.402468\n",
      "[753]\tvalid_0's binary_logloss: 0.402471\n",
      "[754]\tvalid_0's binary_logloss: 0.402469\n",
      "[755]\tvalid_0's binary_logloss: 0.402464\n",
      "[756]\tvalid_0's binary_logloss: 0.402474\n",
      "[757]\tvalid_0's binary_logloss: 0.402469\n",
      "[758]\tvalid_0's binary_logloss: 0.402465\n",
      "[759]\tvalid_0's binary_logloss: 0.402463\n",
      "[760]\tvalid_0's binary_logloss: 0.402459\n",
      "[761]\tvalid_0's binary_logloss: 0.402457\n",
      "[762]\tvalid_0's binary_logloss: 0.402458\n",
      "[763]\tvalid_0's binary_logloss: 0.402458\n",
      "[764]\tvalid_0's binary_logloss: 0.402461\n",
      "[765]\tvalid_0's binary_logloss: 0.40246\n",
      "[766]\tvalid_0's binary_logloss: 0.402455\n",
      "[767]\tvalid_0's binary_logloss: 0.402446\n",
      "[768]\tvalid_0's binary_logloss: 0.40243\n",
      "[769]\tvalid_0's binary_logloss: 0.402422\n",
      "[770]\tvalid_0's binary_logloss: 0.402416\n",
      "[771]\tvalid_0's binary_logloss: 0.402419\n",
      "[772]\tvalid_0's binary_logloss: 0.402429\n",
      "[773]\tvalid_0's binary_logloss: 0.402433\n",
      "[774]\tvalid_0's binary_logloss: 0.402431\n",
      "[775]\tvalid_0's binary_logloss: 0.402432\n",
      "[776]\tvalid_0's binary_logloss: 0.402429\n",
      "[777]\tvalid_0's binary_logloss: 0.402424\n",
      "[778]\tvalid_0's binary_logloss: 0.402417\n",
      "[779]\tvalid_0's binary_logloss: 0.402418\n",
      "[780]\tvalid_0's binary_logloss: 0.402412\n",
      "[781]\tvalid_0's binary_logloss: 0.402411\n",
      "[782]\tvalid_0's binary_logloss: 0.402422\n",
      "[783]\tvalid_0's binary_logloss: 0.402419\n",
      "[784]\tvalid_0's binary_logloss: 0.402409\n",
      "[785]\tvalid_0's binary_logloss: 0.402416\n",
      "[786]\tvalid_0's binary_logloss: 0.402408\n",
      "[787]\tvalid_0's binary_logloss: 0.402405\n",
      "[788]\tvalid_0's binary_logloss: 0.402408\n",
      "[789]\tvalid_0's binary_logloss: 0.402409\n",
      "[790]\tvalid_0's binary_logloss: 0.402409\n",
      "[791]\tvalid_0's binary_logloss: 0.402403\n",
      "[792]\tvalid_0's binary_logloss: 0.402405\n",
      "[793]\tvalid_0's binary_logloss: 0.402407\n",
      "[794]\tvalid_0's binary_logloss: 0.402415\n",
      "[795]\tvalid_0's binary_logloss: 0.402416\n",
      "[796]\tvalid_0's binary_logloss: 0.402423\n",
      "[797]\tvalid_0's binary_logloss: 0.402422\n",
      "[798]\tvalid_0's binary_logloss: 0.402419\n",
      "[799]\tvalid_0's binary_logloss: 0.402419\n",
      "[800]\tvalid_0's binary_logloss: 0.402414\n",
      "[801]\tvalid_0's binary_logloss: 0.402414\n",
      "[802]\tvalid_0's binary_logloss: 0.402412\n",
      "[803]\tvalid_0's binary_logloss: 0.402417\n",
      "[804]\tvalid_0's binary_logloss: 0.402415\n",
      "[805]\tvalid_0's binary_logloss: 0.402416\n",
      "[806]\tvalid_0's binary_logloss: 0.402413\n",
      "[807]\tvalid_0's binary_logloss: 0.402413\n",
      "[808]\tvalid_0's binary_logloss: 0.402407\n",
      "[809]\tvalid_0's binary_logloss: 0.402411\n",
      "[810]\tvalid_0's binary_logloss: 0.40241\n"
     ]
    },
    {
     "name": "stdout",
     "output_type": "stream",
     "text": [
      "[811]\tvalid_0's binary_logloss: 0.40241\n",
      "[812]\tvalid_0's binary_logloss: 0.402413\n",
      "[813]\tvalid_0's binary_logloss: 0.402417\n",
      "[814]\tvalid_0's binary_logloss: 0.402427\n",
      "[815]\tvalid_0's binary_logloss: 0.402432\n",
      "[816]\tvalid_0's binary_logloss: 0.402436\n",
      "[817]\tvalid_0's binary_logloss: 0.40244\n",
      "[818]\tvalid_0's binary_logloss: 0.402448\n",
      "[819]\tvalid_0's binary_logloss: 0.402454\n",
      "[820]\tvalid_0's binary_logloss: 0.40246\n",
      "[821]\tvalid_0's binary_logloss: 0.402469\n",
      "[822]\tvalid_0's binary_logloss: 0.402456\n",
      "[823]\tvalid_0's binary_logloss: 0.402455\n",
      "[824]\tvalid_0's binary_logloss: 0.402451\n",
      "[825]\tvalid_0's binary_logloss: 0.402458\n",
      "[826]\tvalid_0's binary_logloss: 0.402454\n",
      "[827]\tvalid_0's binary_logloss: 0.402459\n",
      "[828]\tvalid_0's binary_logloss: 0.402454\n",
      "[829]\tvalid_0's binary_logloss: 0.402455\n",
      "[830]\tvalid_0's binary_logloss: 0.402461\n",
      "[831]\tvalid_0's binary_logloss: 0.40247\n",
      "[832]\tvalid_0's binary_logloss: 0.402468\n",
      "[833]\tvalid_0's binary_logloss: 0.402466\n",
      "[834]\tvalid_0's binary_logloss: 0.402465\n",
      "[835]\tvalid_0's binary_logloss: 0.402467\n",
      "[836]\tvalid_0's binary_logloss: 0.402469\n",
      "[837]\tvalid_0's binary_logloss: 0.402453\n",
      "[838]\tvalid_0's binary_logloss: 0.402446\n",
      "[839]\tvalid_0's binary_logloss: 0.402443\n",
      "[840]\tvalid_0's binary_logloss: 0.402447\n",
      "[841]\tvalid_0's binary_logloss: 0.402458\n",
      "[842]\tvalid_0's binary_logloss: 0.402461\n",
      "[843]\tvalid_0's binary_logloss: 0.40245\n",
      "[844]\tvalid_0's binary_logloss: 0.402456\n",
      "[845]\tvalid_0's binary_logloss: 0.402453\n",
      "[846]\tvalid_0's binary_logloss: 0.402453\n",
      "[847]\tvalid_0's binary_logloss: 0.402447\n",
      "[848]\tvalid_0's binary_logloss: 0.402439\n",
      "[849]\tvalid_0's binary_logloss: 0.402437\n",
      "[850]\tvalid_0's binary_logloss: 0.402438\n",
      "[851]\tvalid_0's binary_logloss: 0.402437\n",
      "[852]\tvalid_0's binary_logloss: 0.402437\n",
      "[853]\tvalid_0's binary_logloss: 0.402439\n",
      "[854]\tvalid_0's binary_logloss: 0.402437\n",
      "[855]\tvalid_0's binary_logloss: 0.402438\n",
      "[856]\tvalid_0's binary_logloss: 0.402436\n",
      "[857]\tvalid_0's binary_logloss: 0.402443\n",
      "[858]\tvalid_0's binary_logloss: 0.402436\n",
      "[859]\tvalid_0's binary_logloss: 0.402442\n",
      "[860]\tvalid_0's binary_logloss: 0.40245\n",
      "[861]\tvalid_0's binary_logloss: 0.402433\n",
      "[862]\tvalid_0's binary_logloss: 0.402432\n",
      "[863]\tvalid_0's binary_logloss: 0.402432\n",
      "[864]\tvalid_0's binary_logloss: 0.402434\n",
      "[865]\tvalid_0's binary_logloss: 0.402425\n",
      "[866]\tvalid_0's binary_logloss: 0.402421\n",
      "[867]\tvalid_0's binary_logloss: 0.402427\n",
      "[868]\tvalid_0's binary_logloss: 0.402428\n",
      "[869]\tvalid_0's binary_logloss: 0.402428\n",
      "[870]\tvalid_0's binary_logloss: 0.402425\n",
      "[871]\tvalid_0's binary_logloss: 0.402423\n",
      "[872]\tvalid_0's binary_logloss: 0.40242\n",
      "[873]\tvalid_0's binary_logloss: 0.402421\n",
      "[874]\tvalid_0's binary_logloss: 0.402419\n",
      "[875]\tvalid_0's binary_logloss: 0.402421\n",
      "[876]\tvalid_0's binary_logloss: 0.402413\n",
      "[877]\tvalid_0's binary_logloss: 0.402406\n",
      "[878]\tvalid_0's binary_logloss: 0.402404\n",
      "[879]\tvalid_0's binary_logloss: 0.402404\n",
      "[880]\tvalid_0's binary_logloss: 0.402408\n",
      "[881]\tvalid_0's binary_logloss: 0.402411\n",
      "[882]\tvalid_0's binary_logloss: 0.402417\n",
      "[883]\tvalid_0's binary_logloss: 0.40241\n",
      "[884]\tvalid_0's binary_logloss: 0.402415\n",
      "[885]\tvalid_0's binary_logloss: 0.402413\n",
      "[886]\tvalid_0's binary_logloss: 0.402413\n",
      "[887]\tvalid_0's binary_logloss: 0.402413\n",
      "[888]\tvalid_0's binary_logloss: 0.402409\n",
      "[889]\tvalid_0's binary_logloss: 0.402401\n",
      "[890]\tvalid_0's binary_logloss: 0.402403\n",
      "[891]\tvalid_0's binary_logloss: 0.402401\n",
      "[892]\tvalid_0's binary_logloss: 0.402397\n",
      "[893]\tvalid_0's binary_logloss: 0.402389\n",
      "[894]\tvalid_0's binary_logloss: 0.402384\n",
      "[895]\tvalid_0's binary_logloss: 0.402381\n",
      "[896]\tvalid_0's binary_logloss: 0.402366\n",
      "[897]\tvalid_0's binary_logloss: 0.402372\n",
      "[898]\tvalid_0's binary_logloss: 0.402371\n",
      "[899]\tvalid_0's binary_logloss: 0.402381\n",
      "[900]\tvalid_0's binary_logloss: 0.402383\n",
      "[901]\tvalid_0's binary_logloss: 0.402379\n",
      "[902]\tvalid_0's binary_logloss: 0.402379\n",
      "[903]\tvalid_0's binary_logloss: 0.402383\n",
      "[904]\tvalid_0's binary_logloss: 0.402381\n",
      "[905]\tvalid_0's binary_logloss: 0.402382\n",
      "[906]\tvalid_0's binary_logloss: 0.40238\n",
      "[907]\tvalid_0's binary_logloss: 0.40238\n",
      "[908]\tvalid_0's binary_logloss: 0.402391\n",
      "[909]\tvalid_0's binary_logloss: 0.402396\n",
      "[910]\tvalid_0's binary_logloss: 0.402397\n",
      "[911]\tvalid_0's binary_logloss: 0.402386\n",
      "[912]\tvalid_0's binary_logloss: 0.402378\n",
      "[913]\tvalid_0's binary_logloss: 0.402378\n",
      "[914]\tvalid_0's binary_logloss: 0.40236\n",
      "[915]\tvalid_0's binary_logloss: 0.402362\n",
      "[916]\tvalid_0's binary_logloss: 0.402364\n",
      "[917]\tvalid_0's binary_logloss: 0.40236\n",
      "[918]\tvalid_0's binary_logloss: 0.402354\n",
      "[919]\tvalid_0's binary_logloss: 0.402342\n",
      "[920]\tvalid_0's binary_logloss: 0.402348\n",
      "[921]\tvalid_0's binary_logloss: 0.402354\n",
      "[922]\tvalid_0's binary_logloss: 0.402349\n",
      "[923]\tvalid_0's binary_logloss: 0.402356\n",
      "[924]\tvalid_0's binary_logloss: 0.402367\n",
      "[925]\tvalid_0's binary_logloss: 0.402372\n",
      "[926]\tvalid_0's binary_logloss: 0.402363\n",
      "[927]\tvalid_0's binary_logloss: 0.402362\n",
      "[928]\tvalid_0's binary_logloss: 0.402358\n",
      "[929]\tvalid_0's binary_logloss: 0.402353\n",
      "[930]\tvalid_0's binary_logloss: 0.402352\n",
      "[931]\tvalid_0's binary_logloss: 0.402342\n",
      "[932]\tvalid_0's binary_logloss: 0.402322\n",
      "[933]\tvalid_0's binary_logloss: 0.402314\n",
      "[934]\tvalid_0's binary_logloss: 0.402316\n",
      "[935]\tvalid_0's binary_logloss: 0.40233\n",
      "[936]\tvalid_0's binary_logloss: 0.402329\n",
      "[937]\tvalid_0's binary_logloss: 0.402331\n",
      "[938]\tvalid_0's binary_logloss: 0.402336\n",
      "[939]\tvalid_0's binary_logloss: 0.402329\n",
      "[940]\tvalid_0's binary_logloss: 0.402341\n",
      "[941]\tvalid_0's binary_logloss: 0.402336\n",
      "[942]\tvalid_0's binary_logloss: 0.402335\n",
      "[943]\tvalid_0's binary_logloss: 0.40234\n",
      "[944]\tvalid_0's binary_logloss: 0.402338\n",
      "[945]\tvalid_0's binary_logloss: 0.402327\n",
      "[946]\tvalid_0's binary_logloss: 0.402336\n",
      "[947]\tvalid_0's binary_logloss: 0.402341\n",
      "[948]\tvalid_0's binary_logloss: 0.402335\n",
      "[949]\tvalid_0's binary_logloss: 0.402337\n",
      "[950]\tvalid_0's binary_logloss: 0.402338\n",
      "[951]\tvalid_0's binary_logloss: 0.402332\n",
      "[952]\tvalid_0's binary_logloss: 0.402338\n",
      "[953]\tvalid_0's binary_logloss: 0.402336\n",
      "[954]\tvalid_0's binary_logloss: 0.402335\n",
      "[955]\tvalid_0's binary_logloss: 0.402337\n",
      "[956]\tvalid_0's binary_logloss: 0.402334\n",
      "[957]\tvalid_0's binary_logloss: 0.40234\n",
      "[958]\tvalid_0's binary_logloss: 0.402336\n",
      "[959]\tvalid_0's binary_logloss: 0.402336\n",
      "[960]\tvalid_0's binary_logloss: 0.402347\n",
      "[961]\tvalid_0's binary_logloss: 0.402354\n",
      "[962]\tvalid_0's binary_logloss: 0.402359\n",
      "[963]\tvalid_0's binary_logloss: 0.402371\n",
      "[964]\tvalid_0's binary_logloss: 0.402373\n",
      "[965]\tvalid_0's binary_logloss: 0.402376\n",
      "[966]\tvalid_0's binary_logloss: 0.402379\n",
      "[967]\tvalid_0's binary_logloss: 0.40238\n",
      "[968]\tvalid_0's binary_logloss: 0.402377\n",
      "[969]\tvalid_0's binary_logloss: 0.402378\n",
      "[970]\tvalid_0's binary_logloss: 0.402379\n",
      "[971]\tvalid_0's binary_logloss: 0.40238\n",
      "[972]\tvalid_0's binary_logloss: 0.402381\n",
      "[973]\tvalid_0's binary_logloss: 0.402373\n",
      "[974]\tvalid_0's binary_logloss: 0.40238\n",
      "[975]\tvalid_0's binary_logloss: 0.402377\n",
      "[976]\tvalid_0's binary_logloss: 0.402371\n",
      "[977]\tvalid_0's binary_logloss: 0.402363\n",
      "[978]\tvalid_0's binary_logloss: 0.402363\n",
      "[979]\tvalid_0's binary_logloss: 0.40236\n",
      "[980]\tvalid_0's binary_logloss: 0.402348\n",
      "[981]\tvalid_0's binary_logloss: 0.402346\n",
      "[982]\tvalid_0's binary_logloss: 0.402337\n",
      "[983]\tvalid_0's binary_logloss: 0.402337\n",
      "[984]\tvalid_0's binary_logloss: 0.402334\n",
      "[985]\tvalid_0's binary_logloss: 0.402342\n",
      "[986]\tvalid_0's binary_logloss: 0.402332\n",
      "[987]\tvalid_0's binary_logloss: 0.402334\n",
      "[988]\tvalid_0's binary_logloss: 0.402337\n",
      "[989]\tvalid_0's binary_logloss: 0.402343\n",
      "[990]\tvalid_0's binary_logloss: 0.402347\n",
      "[991]\tvalid_0's binary_logloss: 0.402349\n",
      "[992]\tvalid_0's binary_logloss: 0.402339\n",
      "[993]\tvalid_0's binary_logloss: 0.402342\n",
      "[994]\tvalid_0's binary_logloss: 0.402332\n",
      "[995]\tvalid_0's binary_logloss: 0.402329\n",
      "[996]\tvalid_0's binary_logloss: 0.402326\n",
      "[997]\tvalid_0's binary_logloss: 0.402329\n",
      "[998]\tvalid_0's binary_logloss: 0.402323\n",
      "[999]\tvalid_0's binary_logloss: 0.402327\n",
      "[1000]\tvalid_0's binary_logloss: 0.40233\n",
      "[1001]\tvalid_0's binary_logloss: 0.402325\n",
      "[1002]\tvalid_0's binary_logloss: 0.402329\n",
      "[1003]\tvalid_0's binary_logloss: 0.402344\n",
      "[1004]\tvalid_0's binary_logloss: 0.402345\n",
      "[1005]\tvalid_0's binary_logloss: 0.402344\n",
      "[1006]\tvalid_0's binary_logloss: 0.402346\n",
      "[1007]\tvalid_0's binary_logloss: 0.402339\n",
      "[1008]\tvalid_0's binary_logloss: 0.402337\n",
      "[1009]\tvalid_0's binary_logloss: 0.40234\n",
      "[1010]\tvalid_0's binary_logloss: 0.40233\n",
      "[1011]\tvalid_0's binary_logloss: 0.402324\n",
      "[1012]\tvalid_0's binary_logloss: 0.402328\n",
      "[1013]\tvalid_0's binary_logloss: 0.402334\n",
      "[1014]\tvalid_0's binary_logloss: 0.402339\n",
      "[1015]\tvalid_0's binary_logloss: 0.402341\n",
      "[1016]\tvalid_0's binary_logloss: 0.402347\n",
      "[1017]\tvalid_0's binary_logloss: 0.402349\n",
      "[1018]\tvalid_0's binary_logloss: 0.40235\n",
      "[1019]\tvalid_0's binary_logloss: 0.402346\n",
      "[1020]\tvalid_0's binary_logloss: 0.402345\n"
     ]
    },
    {
     "name": "stdout",
     "output_type": "stream",
     "text": [
      "[1021]\tvalid_0's binary_logloss: 0.402337\n",
      "[1022]\tvalid_0's binary_logloss: 0.402335\n",
      "[1023]\tvalid_0's binary_logloss: 0.402337\n",
      "[1024]\tvalid_0's binary_logloss: 0.402328\n",
      "[1025]\tvalid_0's binary_logloss: 0.402327\n",
      "[1026]\tvalid_0's binary_logloss: 0.402329\n",
      "[1027]\tvalid_0's binary_logloss: 0.402325\n",
      "[1028]\tvalid_0's binary_logloss: 0.402333\n",
      "[1029]\tvalid_0's binary_logloss: 0.402327\n",
      "[1030]\tvalid_0's binary_logloss: 0.402334\n",
      "[1031]\tvalid_0's binary_logloss: 0.402337\n",
      "[1032]\tvalid_0's binary_logloss: 0.402327\n",
      "[1033]\tvalid_0's binary_logloss: 0.402329\n",
      "[1034]\tvalid_0's binary_logloss: 0.402329\n",
      "[1035]\tvalid_0's binary_logloss: 0.402327\n",
      "[1036]\tvalid_0's binary_logloss: 0.402332\n",
      "[1037]\tvalid_0's binary_logloss: 0.402327\n",
      "[1038]\tvalid_0's binary_logloss: 0.402322\n",
      "[1039]\tvalid_0's binary_logloss: 0.402325\n",
      "[1040]\tvalid_0's binary_logloss: 0.402321\n",
      "[1041]\tvalid_0's binary_logloss: 0.40232\n",
      "[1042]\tvalid_0's binary_logloss: 0.402327\n",
      "[1043]\tvalid_0's binary_logloss: 0.402324\n",
      "[1044]\tvalid_0's binary_logloss: 0.402318\n",
      "[1045]\tvalid_0's binary_logloss: 0.402317\n",
      "[1046]\tvalid_0's binary_logloss: 0.402318\n",
      "[1047]\tvalid_0's binary_logloss: 0.402324\n",
      "[1048]\tvalid_0's binary_logloss: 0.402329\n",
      "[1049]\tvalid_0's binary_logloss: 0.40233\n",
      "[1050]\tvalid_0's binary_logloss: 0.402327\n",
      "[1051]\tvalid_0's binary_logloss: 0.40232\n",
      "[1052]\tvalid_0's binary_logloss: 0.402318\n",
      "[1053]\tvalid_0's binary_logloss: 0.402312\n",
      "[1054]\tvalid_0's binary_logloss: 0.402318\n",
      "[1055]\tvalid_0's binary_logloss: 0.402325\n",
      "[1056]\tvalid_0's binary_logloss: 0.402322\n",
      "[1057]\tvalid_0's binary_logloss: 0.40232\n",
      "[1058]\tvalid_0's binary_logloss: 0.40232\n",
      "[1059]\tvalid_0's binary_logloss: 0.402322\n",
      "[1060]\tvalid_0's binary_logloss: 0.402326\n",
      "[1061]\tvalid_0's binary_logloss: 0.402333\n",
      "[1062]\tvalid_0's binary_logloss: 0.402329\n",
      "[1063]\tvalid_0's binary_logloss: 0.402335\n",
      "[1064]\tvalid_0's binary_logloss: 0.402344\n",
      "[1065]\tvalid_0's binary_logloss: 0.402345\n",
      "[1066]\tvalid_0's binary_logloss: 0.402341\n",
      "[1067]\tvalid_0's binary_logloss: 0.402344\n",
      "[1068]\tvalid_0's binary_logloss: 0.402348\n",
      "[1069]\tvalid_0's binary_logloss: 0.402355\n",
      "[1070]\tvalid_0's binary_logloss: 0.402355\n",
      "[1071]\tvalid_0's binary_logloss: 0.402345\n",
      "[1072]\tvalid_0's binary_logloss: 0.402346\n",
      "[1073]\tvalid_0's binary_logloss: 0.40235\n",
      "[1074]\tvalid_0's binary_logloss: 0.402339\n",
      "[1075]\tvalid_0's binary_logloss: 0.402336\n",
      "[1076]\tvalid_0's binary_logloss: 0.402328\n",
      "[1077]\tvalid_0's binary_logloss: 0.40232\n",
      "[1078]\tvalid_0's binary_logloss: 0.40231\n",
      "[1079]\tvalid_0's binary_logloss: 0.402308\n",
      "[1080]\tvalid_0's binary_logloss: 0.402306\n",
      "[1081]\tvalid_0's binary_logloss: 0.402305\n",
      "[1082]\tvalid_0's binary_logloss: 0.402307\n",
      "[1083]\tvalid_0's binary_logloss: 0.402305\n",
      "[1084]\tvalid_0's binary_logloss: 0.402304\n",
      "[1085]\tvalid_0's binary_logloss: 0.402303\n",
      "[1086]\tvalid_0's binary_logloss: 0.402313\n",
      "[1087]\tvalid_0's binary_logloss: 0.402326\n",
      "[1088]\tvalid_0's binary_logloss: 0.402339\n",
      "[1089]\tvalid_0's binary_logloss: 0.402342\n",
      "[1090]\tvalid_0's binary_logloss: 0.402341\n",
      "[1091]\tvalid_0's binary_logloss: 0.40234\n",
      "[1092]\tvalid_0's binary_logloss: 0.402341\n",
      "[1093]\tvalid_0's binary_logloss: 0.402348\n",
      "[1094]\tvalid_0's binary_logloss: 0.402354\n",
      "[1095]\tvalid_0's binary_logloss: 0.402359\n",
      "[1096]\tvalid_0's binary_logloss: 0.402356\n",
      "[1097]\tvalid_0's binary_logloss: 0.402357\n",
      "[1098]\tvalid_0's binary_logloss: 0.402355\n",
      "[1099]\tvalid_0's binary_logloss: 0.40234\n",
      "[1100]\tvalid_0's binary_logloss: 0.402335\n",
      "[1101]\tvalid_0's binary_logloss: 0.402334\n",
      "[1102]\tvalid_0's binary_logloss: 0.402336\n",
      "[1103]\tvalid_0's binary_logloss: 0.402333\n",
      "[1104]\tvalid_0's binary_logloss: 0.402342\n",
      "[1105]\tvalid_0's binary_logloss: 0.402341\n",
      "[1106]\tvalid_0's binary_logloss: 0.402341\n",
      "[1107]\tvalid_0's binary_logloss: 0.402334\n",
      "[1108]\tvalid_0's binary_logloss: 0.402344\n",
      "[1109]\tvalid_0's binary_logloss: 0.402348\n",
      "[1110]\tvalid_0's binary_logloss: 0.402353\n",
      "[1111]\tvalid_0's binary_logloss: 0.40236\n",
      "[1112]\tvalid_0's binary_logloss: 0.402354\n",
      "[1113]\tvalid_0's binary_logloss: 0.402353\n",
      "[1114]\tvalid_0's binary_logloss: 0.402348\n",
      "[1115]\tvalid_0's binary_logloss: 0.402358\n",
      "[1116]\tvalid_0's binary_logloss: 0.40236\n",
      "[1117]\tvalid_0's binary_logloss: 0.402369\n",
      "[1118]\tvalid_0's binary_logloss: 0.402371\n",
      "[1119]\tvalid_0's binary_logloss: 0.402363\n",
      "[1120]\tvalid_0's binary_logloss: 0.402357\n",
      "[1121]\tvalid_0's binary_logloss: 0.402351\n",
      "[1122]\tvalid_0's binary_logloss: 0.402348\n",
      "[1123]\tvalid_0's binary_logloss: 0.402345\n",
      "[1124]\tvalid_0's binary_logloss: 0.402342\n",
      "[1125]\tvalid_0's binary_logloss: 0.402336\n",
      "[1126]\tvalid_0's binary_logloss: 0.402334\n",
      "[1127]\tvalid_0's binary_logloss: 0.40233\n",
      "[1128]\tvalid_0's binary_logloss: 0.40233\n",
      "[1129]\tvalid_0's binary_logloss: 0.402323\n",
      "[1130]\tvalid_0's binary_logloss: 0.402324\n",
      "[1131]\tvalid_0's binary_logloss: 0.402329\n",
      "[1132]\tvalid_0's binary_logloss: 0.402339\n",
      "[1133]\tvalid_0's binary_logloss: 0.402347\n",
      "[1134]\tvalid_0's binary_logloss: 0.402357\n",
      "[1135]\tvalid_0's binary_logloss: 0.402368\n",
      "[1136]\tvalid_0's binary_logloss: 0.402375\n",
      "[1137]\tvalid_0's binary_logloss: 0.402386\n",
      "[1138]\tvalid_0's binary_logloss: 0.402392\n",
      "[1139]\tvalid_0's binary_logloss: 0.402398\n",
      "[1140]\tvalid_0's binary_logloss: 0.402404\n",
      "[1141]\tvalid_0's binary_logloss: 0.40241\n",
      "[1142]\tvalid_0's binary_logloss: 0.402409\n",
      "[1143]\tvalid_0's binary_logloss: 0.402415\n",
      "[1144]\tvalid_0's binary_logloss: 0.402418\n",
      "[1145]\tvalid_0's binary_logloss: 0.402419\n",
      "[1146]\tvalid_0's binary_logloss: 0.402425\n",
      "[1147]\tvalid_0's binary_logloss: 0.402423\n",
      "[1148]\tvalid_0's binary_logloss: 0.402426\n",
      "[1149]\tvalid_0's binary_logloss: 0.402426\n",
      "[1150]\tvalid_0's binary_logloss: 0.402429\n",
      "[1151]\tvalid_0's binary_logloss: 0.402432\n",
      "[1152]\tvalid_0's binary_logloss: 0.402432\n",
      "[1153]\tvalid_0's binary_logloss: 0.402432\n",
      "[1154]\tvalid_0's binary_logloss: 0.402433\n",
      "[1155]\tvalid_0's binary_logloss: 0.402431\n",
      "[1156]\tvalid_0's binary_logloss: 0.40243\n",
      "[1157]\tvalid_0's binary_logloss: 0.402437\n",
      "[1158]\tvalid_0's binary_logloss: 0.402443\n",
      "[1159]\tvalid_0's binary_logloss: 0.402448\n",
      "[1160]\tvalid_0's binary_logloss: 0.402444\n",
      "[1161]\tvalid_0's binary_logloss: 0.402441\n",
      "[1162]\tvalid_0's binary_logloss: 0.402438\n",
      "[1163]\tvalid_0's binary_logloss: 0.402447\n",
      "[1164]\tvalid_0's binary_logloss: 0.402452\n",
      "[1165]\tvalid_0's binary_logloss: 0.40245\n",
      "[1166]\tvalid_0's binary_logloss: 0.402457\n",
      "[1167]\tvalid_0's binary_logloss: 0.402462\n",
      "[1168]\tvalid_0's binary_logloss: 0.402458\n",
      "[1169]\tvalid_0's binary_logloss: 0.402454\n",
      "[1170]\tvalid_0's binary_logloss: 0.40246\n",
      "[1171]\tvalid_0's binary_logloss: 0.402457\n",
      "[1172]\tvalid_0's binary_logloss: 0.40246\n",
      "[1173]\tvalid_0's binary_logloss: 0.402464\n",
      "[1174]\tvalid_0's binary_logloss: 0.402465\n",
      "[1175]\tvalid_0's binary_logloss: 0.402463\n",
      "[1176]\tvalid_0's binary_logloss: 0.402468\n",
      "[1177]\tvalid_0's binary_logloss: 0.402467\n",
      "[1178]\tvalid_0's binary_logloss: 0.402474\n",
      "[1179]\tvalid_0's binary_logloss: 0.402478\n",
      "[1180]\tvalid_0's binary_logloss: 0.40248\n",
      "[1181]\tvalid_0's binary_logloss: 0.402479\n",
      "[1182]\tvalid_0's binary_logloss: 0.402483\n",
      "[1183]\tvalid_0's binary_logloss: 0.402485\n",
      "[1184]\tvalid_0's binary_logloss: 0.402486\n",
      "[1185]\tvalid_0's binary_logloss: 0.402487\n",
      "[1186]\tvalid_0's binary_logloss: 0.402495\n",
      "[1187]\tvalid_0's binary_logloss: 0.402493\n",
      "[1188]\tvalid_0's binary_logloss: 0.4025\n",
      "[1189]\tvalid_0's binary_logloss: 0.402502\n",
      "[1190]\tvalid_0's binary_logloss: 0.402503\n",
      "[1191]\tvalid_0's binary_logloss: 0.402517\n",
      "[1192]\tvalid_0's binary_logloss: 0.402515\n",
      "[1193]\tvalid_0's binary_logloss: 0.402513\n",
      "[1194]\tvalid_0's binary_logloss: 0.402523\n",
      "[1195]\tvalid_0's binary_logloss: 0.402527\n",
      "[1196]\tvalid_0's binary_logloss: 0.402525\n",
      "[1197]\tvalid_0's binary_logloss: 0.402518\n",
      "[1198]\tvalid_0's binary_logloss: 0.402509\n",
      "[1199]\tvalid_0's binary_logloss: 0.402498\n",
      "[1200]\tvalid_0's binary_logloss: 0.4025\n",
      "[1201]\tvalid_0's binary_logloss: 0.402502\n",
      "[1202]\tvalid_0's binary_logloss: 0.402503\n",
      "[1203]\tvalid_0's binary_logloss: 0.402502\n",
      "[1204]\tvalid_0's binary_logloss: 0.402503\n",
      "[1205]\tvalid_0's binary_logloss: 0.402506\n",
      "[1206]\tvalid_0's binary_logloss: 0.40249\n",
      "[1207]\tvalid_0's binary_logloss: 0.402492\n",
      "[1208]\tvalid_0's binary_logloss: 0.402485\n",
      "[1209]\tvalid_0's binary_logloss: 0.402475\n",
      "[1210]\tvalid_0's binary_logloss: 0.402471\n",
      "[1211]\tvalid_0's binary_logloss: 0.402476\n",
      "[1212]\tvalid_0's binary_logloss: 0.402475\n",
      "[1213]\tvalid_0's binary_logloss: 0.402477\n",
      "[1214]\tvalid_0's binary_logloss: 0.402486\n",
      "[1215]\tvalid_0's binary_logloss: 0.402487\n",
      "[1216]\tvalid_0's binary_logloss: 0.402486\n",
      "[1217]\tvalid_0's binary_logloss: 0.402487\n",
      "[1218]\tvalid_0's binary_logloss: 0.402501\n",
      "[1219]\tvalid_0's binary_logloss: 0.402498\n",
      "[1220]\tvalid_0's binary_logloss: 0.402505\n",
      "[1221]\tvalid_0's binary_logloss: 0.402508\n"
     ]
    },
    {
     "name": "stdout",
     "output_type": "stream",
     "text": [
      "[1222]\tvalid_0's binary_logloss: 0.402502\n",
      "[1223]\tvalid_0's binary_logloss: 0.402502\n",
      "[1224]\tvalid_0's binary_logloss: 0.402503\n",
      "[1225]\tvalid_0's binary_logloss: 0.402504\n",
      "[1226]\tvalid_0's binary_logloss: 0.402494\n",
      "[1227]\tvalid_0's binary_logloss: 0.402482\n",
      "[1228]\tvalid_0's binary_logloss: 0.402486\n",
      "[1229]\tvalid_0's binary_logloss: 0.402475\n",
      "[1230]\tvalid_0's binary_logloss: 0.402475\n",
      "[1231]\tvalid_0's binary_logloss: 0.402484\n",
      "[1232]\tvalid_0's binary_logloss: 0.402488\n",
      "[1233]\tvalid_0's binary_logloss: 0.402486\n",
      "[1234]\tvalid_0's binary_logloss: 0.402496\n",
      "[1235]\tvalid_0's binary_logloss: 0.402506\n",
      "[1236]\tvalid_0's binary_logloss: 0.402497\n",
      "[1237]\tvalid_0's binary_logloss: 0.402496\n",
      "[1238]\tvalid_0's binary_logloss: 0.402498\n",
      "[1239]\tvalid_0's binary_logloss: 0.402497\n",
      "[1240]\tvalid_0's binary_logloss: 0.402501\n",
      "[1241]\tvalid_0's binary_logloss: 0.402495\n",
      "[1242]\tvalid_0's binary_logloss: 0.402498\n",
      "[1243]\tvalid_0's binary_logloss: 0.40249\n",
      "[1244]\tvalid_0's binary_logloss: 0.402492\n",
      "[1245]\tvalid_0's binary_logloss: 0.40249\n",
      "[1246]\tvalid_0's binary_logloss: 0.402488\n",
      "[1247]\tvalid_0's binary_logloss: 0.402497\n",
      "[1248]\tvalid_0's binary_logloss: 0.402496\n",
      "[1249]\tvalid_0's binary_logloss: 0.402497\n",
      "[1250]\tvalid_0's binary_logloss: 0.402506\n",
      "[1251]\tvalid_0's binary_logloss: 0.402507\n",
      "[1252]\tvalid_0's binary_logloss: 0.402511\n",
      "[1253]\tvalid_0's binary_logloss: 0.402505\n",
      "[1254]\tvalid_0's binary_logloss: 0.402505\n",
      "[1255]\tvalid_0's binary_logloss: 0.40251\n",
      "[1256]\tvalid_0's binary_logloss: 0.402511\n",
      "[1257]\tvalid_0's binary_logloss: 0.402515\n",
      "[1258]\tvalid_0's binary_logloss: 0.402531\n",
      "[1259]\tvalid_0's binary_logloss: 0.402531\n",
      "[1260]\tvalid_0's binary_logloss: 0.402532\n",
      "[1261]\tvalid_0's binary_logloss: 0.402525\n",
      "[1262]\tvalid_0's binary_logloss: 0.402526\n",
      "[1263]\tvalid_0's binary_logloss: 0.402525\n",
      "[1264]\tvalid_0's binary_logloss: 0.402518\n",
      "[1265]\tvalid_0's binary_logloss: 0.402513\n",
      "[1266]\tvalid_0's binary_logloss: 0.402517\n",
      "[1267]\tvalid_0's binary_logloss: 0.402522\n",
      "[1268]\tvalid_0's binary_logloss: 0.402515\n",
      "[1269]\tvalid_0's binary_logloss: 0.402508\n",
      "[1270]\tvalid_0's binary_logloss: 0.402514\n",
      "[1271]\tvalid_0's binary_logloss: 0.402517\n",
      "[1272]\tvalid_0's binary_logloss: 0.402525\n",
      "[1273]\tvalid_0's binary_logloss: 0.402528\n",
      "[1274]\tvalid_0's binary_logloss: 0.40253\n",
      "[1275]\tvalid_0's binary_logloss: 0.402536\n",
      "[1276]\tvalid_0's binary_logloss: 0.40253\n",
      "[1277]\tvalid_0's binary_logloss: 0.402524\n",
      "[1278]\tvalid_0's binary_logloss: 0.402523\n",
      "[1279]\tvalid_0's binary_logloss: 0.402515\n",
      "[1280]\tvalid_0's binary_logloss: 0.40252\n",
      "[1281]\tvalid_0's binary_logloss: 0.402517\n",
      "[1282]\tvalid_0's binary_logloss: 0.40252\n",
      "[1283]\tvalid_0's binary_logloss: 0.402521\n",
      "[1284]\tvalid_0's binary_logloss: 0.402525\n",
      "[1285]\tvalid_0's binary_logloss: 0.402527\n",
      "[1286]\tvalid_0's binary_logloss: 0.402536\n",
      "[1287]\tvalid_0's binary_logloss: 0.402537\n",
      "[1288]\tvalid_0's binary_logloss: 0.402541\n",
      "[1289]\tvalid_0's binary_logloss: 0.402537\n",
      "[1290]\tvalid_0's binary_logloss: 0.402541\n",
      "[1291]\tvalid_0's binary_logloss: 0.402532\n",
      "[1292]\tvalid_0's binary_logloss: 0.402539\n",
      "[1293]\tvalid_0's binary_logloss: 0.402539\n",
      "[1294]\tvalid_0's binary_logloss: 0.402525\n",
      "[1295]\tvalid_0's binary_logloss: 0.402527\n",
      "[1296]\tvalid_0's binary_logloss: 0.402528\n",
      "[1297]\tvalid_0's binary_logloss: 0.402529\n",
      "[1298]\tvalid_0's binary_logloss: 0.402532\n",
      "[1299]\tvalid_0's binary_logloss: 0.402533\n",
      "[1300]\tvalid_0's binary_logloss: 0.402526\n",
      "[1301]\tvalid_0's binary_logloss: 0.402534\n",
      "[1302]\tvalid_0's binary_logloss: 0.402539\n",
      "[1303]\tvalid_0's binary_logloss: 0.402543\n",
      "[1304]\tvalid_0's binary_logloss: 0.402554\n",
      "[1305]\tvalid_0's binary_logloss: 0.402554\n",
      "[1306]\tvalid_0's binary_logloss: 0.402565\n",
      "[1307]\tvalid_0's binary_logloss: 0.402567\n",
      "[1308]\tvalid_0's binary_logloss: 0.40258\n",
      "[1309]\tvalid_0's binary_logloss: 0.402579\n",
      "[1310]\tvalid_0's binary_logloss: 0.402579\n",
      "[1311]\tvalid_0's binary_logloss: 0.40258\n",
      "[1312]\tvalid_0's binary_logloss: 0.402576\n",
      "[1313]\tvalid_0's binary_logloss: 0.402572\n",
      "[1314]\tvalid_0's binary_logloss: 0.402573\n",
      "[1315]\tvalid_0's binary_logloss: 0.402588\n",
      "[1316]\tvalid_0's binary_logloss: 0.402589\n",
      "[1317]\tvalid_0's binary_logloss: 0.402598\n",
      "[1318]\tvalid_0's binary_logloss: 0.402591\n",
      "[1319]\tvalid_0's binary_logloss: 0.402592\n",
      "[1320]\tvalid_0's binary_logloss: 0.402597\n",
      "[1321]\tvalid_0's binary_logloss: 0.402599\n",
      "[1322]\tvalid_0's binary_logloss: 0.402605\n",
      "[1323]\tvalid_0's binary_logloss: 0.402606\n",
      "[1324]\tvalid_0's binary_logloss: 0.402613\n",
      "[1325]\tvalid_0's binary_logloss: 0.402612\n",
      "[1326]\tvalid_0's binary_logloss: 0.402614\n",
      "[1327]\tvalid_0's binary_logloss: 0.402619\n",
      "[1328]\tvalid_0's binary_logloss: 0.402618\n",
      "[1329]\tvalid_0's binary_logloss: 0.40262\n",
      "[1330]\tvalid_0's binary_logloss: 0.402633\n",
      "[1331]\tvalid_0's binary_logloss: 0.402641\n",
      "[1332]\tvalid_0's binary_logloss: 0.402644\n",
      "[1333]\tvalid_0's binary_logloss: 0.402633\n",
      "[1334]\tvalid_0's binary_logloss: 0.40264\n",
      "[1335]\tvalid_0's binary_logloss: 0.402629\n",
      "[1336]\tvalid_0's binary_logloss: 0.402631\n",
      "[1337]\tvalid_0's binary_logloss: 0.402638\n",
      "[1338]\tvalid_0's binary_logloss: 0.402631\n",
      "[1339]\tvalid_0's binary_logloss: 0.40263\n",
      "[1340]\tvalid_0's binary_logloss: 0.402632\n",
      "[1341]\tvalid_0's binary_logloss: 0.402626\n",
      "[1342]\tvalid_0's binary_logloss: 0.402633\n",
      "[1343]\tvalid_0's binary_logloss: 0.402634\n",
      "[1344]\tvalid_0's binary_logloss: 0.402636\n",
      "[1345]\tvalid_0's binary_logloss: 0.402635\n",
      "[1346]\tvalid_0's binary_logloss: 0.402643\n",
      "[1347]\tvalid_0's binary_logloss: 0.402647\n",
      "[1348]\tvalid_0's binary_logloss: 0.402648\n",
      "[1349]\tvalid_0's binary_logloss: 0.402652\n",
      "[1350]\tvalid_0's binary_logloss: 0.40267\n",
      "[1351]\tvalid_0's binary_logloss: 0.402669\n",
      "[1352]\tvalid_0's binary_logloss: 0.402663\n",
      "[1353]\tvalid_0's binary_logloss: 0.402665\n",
      "[1354]\tvalid_0's binary_logloss: 0.402671\n",
      "[1355]\tvalid_0's binary_logloss: 0.402669\n",
      "[1356]\tvalid_0's binary_logloss: 0.40266\n",
      "[1357]\tvalid_0's binary_logloss: 0.402668\n",
      "[1358]\tvalid_0's binary_logloss: 0.402664\n",
      "[1359]\tvalid_0's binary_logloss: 0.402672\n",
      "[1360]\tvalid_0's binary_logloss: 0.402678\n",
      "[1361]\tvalid_0's binary_logloss: 0.402676\n",
      "[1362]\tvalid_0's binary_logloss: 0.402686\n",
      "[1363]\tvalid_0's binary_logloss: 0.402693\n",
      "[1364]\tvalid_0's binary_logloss: 0.402695\n",
      "[1365]\tvalid_0's binary_logloss: 0.402702\n",
      "[1366]\tvalid_0's binary_logloss: 0.402702\n",
      "[1367]\tvalid_0's binary_logloss: 0.402699\n",
      "[1368]\tvalid_0's binary_logloss: 0.402703\n",
      "[1369]\tvalid_0's binary_logloss: 0.402711\n",
      "[1370]\tvalid_0's binary_logloss: 0.402715\n",
      "[1371]\tvalid_0's binary_logloss: 0.40272\n",
      "[1372]\tvalid_0's binary_logloss: 0.40271\n",
      "[1373]\tvalid_0's binary_logloss: 0.402703\n",
      "[1374]\tvalid_0's binary_logloss: 0.402705\n",
      "[1375]\tvalid_0's binary_logloss: 0.402705\n",
      "[1376]\tvalid_0's binary_logloss: 0.40271\n",
      "[1377]\tvalid_0's binary_logloss: 0.402712\n",
      "[1378]\tvalid_0's binary_logloss: 0.402723\n",
      "[1379]\tvalid_0's binary_logloss: 0.402728\n",
      "[1380]\tvalid_0's binary_logloss: 0.402723\n",
      "[1381]\tvalid_0's binary_logloss: 0.402727\n",
      "[1382]\tvalid_0's binary_logloss: 0.402728\n",
      "[1383]\tvalid_0's binary_logloss: 0.402729\n",
      "[1384]\tvalid_0's binary_logloss: 0.402733\n",
      "[1385]\tvalid_0's binary_logloss: 0.402742\n",
      "[1386]\tvalid_0's binary_logloss: 0.402743\n",
      "[1387]\tvalid_0's binary_logloss: 0.402749\n",
      "[1388]\tvalid_0's binary_logloss: 0.402747\n",
      "[1389]\tvalid_0's binary_logloss: 0.402749\n",
      "[1390]\tvalid_0's binary_logloss: 0.402756\n",
      "[1391]\tvalid_0's binary_logloss: 0.402751\n",
      "[1392]\tvalid_0's binary_logloss: 0.402752\n",
      "[1393]\tvalid_0's binary_logloss: 0.402746\n",
      "[1394]\tvalid_0's binary_logloss: 0.40275\n",
      "[1395]\tvalid_0's binary_logloss: 0.402745\n",
      "[1396]\tvalid_0's binary_logloss: 0.402741\n",
      "[1397]\tvalid_0's binary_logloss: 0.402742\n",
      "[1398]\tvalid_0's binary_logloss: 0.402735\n",
      "[1399]\tvalid_0's binary_logloss: 0.402734\n",
      "[1400]\tvalid_0's binary_logloss: 0.402739\n",
      "[1401]\tvalid_0's binary_logloss: 0.402737\n",
      "[1402]\tvalid_0's binary_logloss: 0.402737\n",
      "[1403]\tvalid_0's binary_logloss: 0.402741\n",
      "[1404]\tvalid_0's binary_logloss: 0.402744\n",
      "[1405]\tvalid_0's binary_logloss: 0.402752\n",
      "[1406]\tvalid_0's binary_logloss: 0.402758\n",
      "[1407]\tvalid_0's binary_logloss: 0.402764\n",
      "[1408]\tvalid_0's binary_logloss: 0.402775\n",
      "[1409]\tvalid_0's binary_logloss: 0.402771\n",
      "[1410]\tvalid_0's binary_logloss: 0.402771\n",
      "[1411]\tvalid_0's binary_logloss: 0.402783\n",
      "[1412]\tvalid_0's binary_logloss: 0.402783\n",
      "[1413]\tvalid_0's binary_logloss: 0.402791\n",
      "[1414]\tvalid_0's binary_logloss: 0.402795\n",
      "[1415]\tvalid_0's binary_logloss: 0.402796\n",
      "[1416]\tvalid_0's binary_logloss: 0.402789\n",
      "[1417]\tvalid_0's binary_logloss: 0.402791\n",
      "[1418]\tvalid_0's binary_logloss: 0.402796\n",
      "[1419]\tvalid_0's binary_logloss: 0.402803\n"
     ]
    },
    {
     "name": "stdout",
     "output_type": "stream",
     "text": [
      "[1420]\tvalid_0's binary_logloss: 0.402797\n",
      "[1421]\tvalid_0's binary_logloss: 0.402799\n",
      "[1422]\tvalid_0's binary_logloss: 0.402803\n",
      "[1423]\tvalid_0's binary_logloss: 0.402804\n",
      "[1424]\tvalid_0's binary_logloss: 0.402812\n",
      "[1425]\tvalid_0's binary_logloss: 0.402803\n",
      "[1426]\tvalid_0's binary_logloss: 0.402805\n",
      "[1427]\tvalid_0's binary_logloss: 0.402805\n",
      "[1428]\tvalid_0's binary_logloss: 0.402812\n",
      "[1429]\tvalid_0's binary_logloss: 0.402813\n",
      "[1430]\tvalid_0's binary_logloss: 0.402818\n",
      "[1431]\tvalid_0's binary_logloss: 0.402816\n",
      "[1432]\tvalid_0's binary_logloss: 0.402818\n",
      "[1433]\tvalid_0's binary_logloss: 0.402823\n",
      "[1434]\tvalid_0's binary_logloss: 0.402825\n",
      "[1435]\tvalid_0's binary_logloss: 0.402836\n",
      "[1436]\tvalid_0's binary_logloss: 0.402838\n",
      "[1437]\tvalid_0's binary_logloss: 0.402843\n",
      "[1438]\tvalid_0's binary_logloss: 0.402853\n",
      "[1439]\tvalid_0's binary_logloss: 0.402851\n",
      "[1440]\tvalid_0's binary_logloss: 0.402856\n",
      "[1441]\tvalid_0's binary_logloss: 0.402859\n",
      "[1442]\tvalid_0's binary_logloss: 0.402853\n",
      "[1443]\tvalid_0's binary_logloss: 0.402862\n",
      "[1444]\tvalid_0's binary_logloss: 0.40286\n",
      "[1445]\tvalid_0's binary_logloss: 0.402861\n",
      "[1446]\tvalid_0's binary_logloss: 0.402861\n",
      "[1447]\tvalid_0's binary_logloss: 0.402859\n",
      "[1448]\tvalid_0's binary_logloss: 0.402856\n",
      "[1449]\tvalid_0's binary_logloss: 0.402857\n",
      "[1450]\tvalid_0's binary_logloss: 0.402861\n",
      "[1451]\tvalid_0's binary_logloss: 0.402858\n",
      "[1452]\tvalid_0's binary_logloss: 0.402858\n",
      "[1453]\tvalid_0's binary_logloss: 0.402864\n",
      "[1454]\tvalid_0's binary_logloss: 0.402865\n",
      "[1455]\tvalid_0's binary_logloss: 0.402865\n",
      "[1456]\tvalid_0's binary_logloss: 0.402864\n",
      "[1457]\tvalid_0's binary_logloss: 0.402861\n",
      "[1458]\tvalid_0's binary_logloss: 0.402863\n",
      "[1459]\tvalid_0's binary_logloss: 0.402861\n",
      "[1460]\tvalid_0's binary_logloss: 0.40287\n",
      "[1461]\tvalid_0's binary_logloss: 0.40288\n",
      "[1462]\tvalid_0's binary_logloss: 0.40288\n",
      "[1463]\tvalid_0's binary_logloss: 0.402884\n",
      "[1464]\tvalid_0's binary_logloss: 0.402892\n",
      "[1465]\tvalid_0's binary_logloss: 0.402893\n",
      "[1466]\tvalid_0's binary_logloss: 0.402897\n",
      "[1467]\tvalid_0's binary_logloss: 0.402892\n",
      "[1468]\tvalid_0's binary_logloss: 0.402886\n",
      "[1469]\tvalid_0's binary_logloss: 0.402887\n",
      "[1470]\tvalid_0's binary_logloss: 0.402886\n",
      "[1471]\tvalid_0's binary_logloss: 0.402887\n",
      "[1472]\tvalid_0's binary_logloss: 0.402898\n",
      "[1473]\tvalid_0's binary_logloss: 0.402907\n",
      "[1474]\tvalid_0's binary_logloss: 0.402917\n",
      "[1475]\tvalid_0's binary_logloss: 0.402922\n",
      "[1476]\tvalid_0's binary_logloss: 0.402926\n",
      "[1477]\tvalid_0's binary_logloss: 0.40293\n",
      "[1478]\tvalid_0's binary_logloss: 0.402932\n",
      "[1479]\tvalid_0's binary_logloss: 0.402932\n",
      "[1480]\tvalid_0's binary_logloss: 0.40294\n",
      "[1481]\tvalid_0's binary_logloss: 0.402942\n",
      "[1482]\tvalid_0's binary_logloss: 0.402944\n",
      "[1483]\tvalid_0's binary_logloss: 0.40294\n",
      "[1484]\tvalid_0's binary_logloss: 0.402943\n",
      "[1485]\tvalid_0's binary_logloss: 0.402941\n",
      "[1486]\tvalid_0's binary_logloss: 0.402948\n",
      "[1487]\tvalid_0's binary_logloss: 0.402957\n",
      "[1488]\tvalid_0's binary_logloss: 0.402962\n",
      "[1489]\tvalid_0's binary_logloss: 0.402962\n",
      "[1490]\tvalid_0's binary_logloss: 0.402952\n",
      "[1491]\tvalid_0's binary_logloss: 0.402939\n",
      "[1492]\tvalid_0's binary_logloss: 0.40293\n",
      "[1493]\tvalid_0's binary_logloss: 0.402931\n",
      "[1494]\tvalid_0's binary_logloss: 0.402935\n",
      "[1495]\tvalid_0's binary_logloss: 0.40294\n",
      "[1496]\tvalid_0's binary_logloss: 0.402935\n",
      "[1497]\tvalid_0's binary_logloss: 0.402938\n",
      "[1498]\tvalid_0's binary_logloss: 0.402931\n",
      "[1499]\tvalid_0's binary_logloss: 0.40294\n",
      "[1500]\tvalid_0's binary_logloss: 0.402947\n",
      "[1501]\tvalid_0's binary_logloss: 0.402951\n",
      "[1502]\tvalid_0's binary_logloss: 0.402949\n",
      "[1503]\tvalid_0's binary_logloss: 0.402955\n",
      "[1504]\tvalid_0's binary_logloss: 0.402952\n",
      "[1505]\tvalid_0's binary_logloss: 0.402949\n",
      "[1506]\tvalid_0's binary_logloss: 0.402954\n",
      "[1507]\tvalid_0's binary_logloss: 0.402949\n",
      "[1508]\tvalid_0's binary_logloss: 0.402956\n",
      "[1509]\tvalid_0's binary_logloss: 0.402962\n",
      "[1510]\tvalid_0's binary_logloss: 0.402965\n",
      "[1511]\tvalid_0's binary_logloss: 0.402966\n",
      "[1512]\tvalid_0's binary_logloss: 0.402967\n",
      "[1513]\tvalid_0's binary_logloss: 0.402962\n",
      "[1514]\tvalid_0's binary_logloss: 0.402964\n",
      "[1515]\tvalid_0's binary_logloss: 0.402965\n",
      "[1516]\tvalid_0's binary_logloss: 0.402963\n",
      "[1517]\tvalid_0's binary_logloss: 0.402955\n",
      "[1518]\tvalid_0's binary_logloss: 0.40295\n",
      "[1519]\tvalid_0's binary_logloss: 0.402956\n",
      "[1520]\tvalid_0's binary_logloss: 0.40296\n",
      "[1521]\tvalid_0's binary_logloss: 0.402956\n",
      "[1522]\tvalid_0's binary_logloss: 0.402957\n",
      "[1523]\tvalid_0's binary_logloss: 0.402946\n",
      "[1524]\tvalid_0's binary_logloss: 0.402941\n",
      "[1525]\tvalid_0's binary_logloss: 0.402937\n",
      "[1526]\tvalid_0's binary_logloss: 0.402937\n",
      "[1527]\tvalid_0's binary_logloss: 0.40295\n",
      "[1528]\tvalid_0's binary_logloss: 0.402955\n",
      "[1529]\tvalid_0's binary_logloss: 0.402955\n",
      "[1530]\tvalid_0's binary_logloss: 0.402959\n",
      "[1531]\tvalid_0's binary_logloss: 0.402963\n",
      "[1532]\tvalid_0's binary_logloss: 0.402962\n",
      "[1533]\tvalid_0's binary_logloss: 0.402962\n",
      "[1534]\tvalid_0's binary_logloss: 0.402958\n",
      "[1535]\tvalid_0's binary_logloss: 0.402959\n",
      "[1536]\tvalid_0's binary_logloss: 0.40296\n",
      "[1537]\tvalid_0's binary_logloss: 0.402958\n",
      "[1538]\tvalid_0's binary_logloss: 0.402959\n",
      "[1539]\tvalid_0's binary_logloss: 0.402967\n",
      "[1540]\tvalid_0's binary_logloss: 0.402967\n",
      "[1541]\tvalid_0's binary_logloss: 0.40297\n",
      "[1542]\tvalid_0's binary_logloss: 0.402971\n",
      "[1543]\tvalid_0's binary_logloss: 0.402975\n",
      "[1544]\tvalid_0's binary_logloss: 0.402974\n",
      "[1545]\tvalid_0's binary_logloss: 0.402977\n",
      "[1546]\tvalid_0's binary_logloss: 0.402979\n",
      "[1547]\tvalid_0's binary_logloss: 0.402967\n",
      "[1548]\tvalid_0's binary_logloss: 0.402976\n",
      "[1549]\tvalid_0's binary_logloss: 0.402967\n",
      "[1550]\tvalid_0's binary_logloss: 0.402964\n",
      "[1551]\tvalid_0's binary_logloss: 0.402954\n",
      "[1552]\tvalid_0's binary_logloss: 0.402961\n",
      "[1553]\tvalid_0's binary_logloss: 0.402954\n",
      "[1554]\tvalid_0's binary_logloss: 0.402954\n",
      "[1555]\tvalid_0's binary_logloss: 0.402959\n",
      "[1556]\tvalid_0's binary_logloss: 0.402948\n",
      "[1557]\tvalid_0's binary_logloss: 0.402946\n",
      "[1558]\tvalid_0's binary_logloss: 0.402944\n",
      "[1559]\tvalid_0's binary_logloss: 0.402943\n",
      "[1560]\tvalid_0's binary_logloss: 0.402943\n",
      "[1561]\tvalid_0's binary_logloss: 0.402939\n",
      "[1562]\tvalid_0's binary_logloss: 0.402942\n",
      "[1563]\tvalid_0's binary_logloss: 0.402949\n",
      "[1564]\tvalid_0's binary_logloss: 0.40295\n",
      "[1565]\tvalid_0's binary_logloss: 0.402952\n",
      "[1566]\tvalid_0's binary_logloss: 0.402954\n",
      "[1567]\tvalid_0's binary_logloss: 0.402952\n",
      "[1568]\tvalid_0's binary_logloss: 0.402948\n",
      "[1569]\tvalid_0's binary_logloss: 0.402947\n",
      "[1570]\tvalid_0's binary_logloss: 0.402938\n",
      "[1571]\tvalid_0's binary_logloss: 0.402942\n",
      "[1572]\tvalid_0's binary_logloss: 0.402948\n",
      "[1573]\tvalid_0's binary_logloss: 0.402937\n",
      "[1574]\tvalid_0's binary_logloss: 0.402935\n",
      "[1575]\tvalid_0's binary_logloss: 0.402929\n",
      "[1576]\tvalid_0's binary_logloss: 0.402936\n",
      "[1577]\tvalid_0's binary_logloss: 0.402935\n",
      "[1578]\tvalid_0's binary_logloss: 0.40294\n",
      "[1579]\tvalid_0's binary_logloss: 0.402948\n",
      "[1580]\tvalid_0's binary_logloss: 0.402954\n",
      "[1581]\tvalid_0's binary_logloss: 0.402953\n",
      "[1582]\tvalid_0's binary_logloss: 0.402954\n",
      "[1583]\tvalid_0's binary_logloss: 0.402946\n",
      "[1584]\tvalid_0's binary_logloss: 0.402948\n",
      "[1585]\tvalid_0's binary_logloss: 0.402947\n",
      "Early stopping, best iteration is:\n",
      "[1085]\tvalid_0's binary_logloss: 0.402303\n"
     ]
    }
   ],
   "source": [
    "# specify your configurations as a dict\n",
    "params = {\n",
    "    'task': 'train',\n",
    "    'boosting_type': 'gbdt',\n",
    "    'objective': 'binary',\n",
    "    'metric': { 'binary_logloss'},\n",
    "    'num_leaves': 31, # defauly leaves(31) amount for each tree\n",
    "    'learning_rate': 0.08,\n",
    "    'feature_fraction': 0.7, # will select 70% features before training each tree\n",
    "    'bagging_fraction': 0.3, #feature_fraction, but this will random select part of data\n",
    "    'bagging_freq': 5, #  perform bagging at every 5 iteration\n",
    "    'verbose': 1\n",
    "}\n",
    "\n",
    "print('Start training...')\n",
    "# train\n",
    "gbm = lgb.train(params,\n",
    "                lgb_train,\n",
    "                num_boost_round=4000,\n",
    "                valid_sets=lgb_eval,\n",
    "                early_stopping_rounds=500)"
   ]
  },
  {
   "cell_type": "code",
   "execution_count": 94,
   "metadata": {
    "ExecuteTime": {
     "end_time": "2019-06-10T03:57:47.608593Z",
     "start_time": "2019-06-10T03:57:47.604604Z"
    }
   },
   "outputs": [
    {
     "name": "stdout",
     "output_type": "stream",
     "text": [
      "defaultdict(<class 'dict'>, {'valid_0': {'binary_logloss': 0.40230250045617816}})\n",
      "1085\n"
     ]
    }
   ],
   "source": [
    "print(gbm.best_score)\n",
    "print(gbm.best_iteration)"
   ]
  },
  {
   "cell_type": "code",
   "execution_count": 108,
   "metadata": {
    "ExecuteTime": {
     "end_time": "2019-06-10T04:20:36.798946Z",
     "start_time": "2019-06-10T04:20:36.788984Z"
    }
   },
   "outputs": [],
   "source": [
    "from operator import itemgetter\n",
    "from sklearn.model_selection import train_test_split\n",
    "import xgboost as xgb\n",
    "from sklearn.metrics import roc_auc_score\n",
    "\n",
    "def run_default_test(train, features, target, random_state=0):\n",
    "    eta = 0.1\n",
    "    max_depth = 5\n",
    "    subsample = 0.8\n",
    "    colsample_bytree = 0.8\n",
    "    print('XGBoost params. ETA: {}, MAX_DEPTH: {}, SUBSAMPLE: {}, COLSAMPLE_BY_TREE: {}'.format(eta, max_depth, subsample, colsample_bytree))\n",
    "    params = {\n",
    "        \"objective\": \"binary:logistic\",\n",
    "        \"booster\" : \"gbtree\",\n",
    "        \"eval_metric\": \"logloss\",\n",
    "        \"eta\": eta,\n",
    "        \"max_depth\": max_depth,\n",
    "        \"subsample\": subsample,\n",
    "        \"colsample_bytree\": colsample_bytree,\n",
    "        \"silent\": 1,\n",
    "        \"seed\": random_state\n",
    "    }\n",
    "    num_boost_round = 260\n",
    "    early_stopping_rounds = 20\n",
    "    test_size = 0.2\n",
    "\n",
    "    X_train, X_valid = train_test_split(train, test_size=test_size, random_state=random_state)\n",
    "    y_train = X_train[target]\n",
    "    y_valid = X_valid[target]\n",
    "    dtrain = xgb.DMatrix(X_train[features], y_train)\n",
    "    dvalid = xgb.DMatrix(X_valid[features], y_valid)\n",
    "    watchlist = [(dtrain, 'train'), (dvalid, 'eval')]\n",
    "    gbm = xgb.train(params, dtrain, num_boost_round, evals=watchlist, early_stopping_rounds=early_stopping_rounds, verbose_eval=True)\n",
    "    print(gbm.best_score)\n",
    "    print(gbm.best_iteration)"
   ]
  },
  {
   "cell_type": "code",
   "execution_count": 109,
   "metadata": {
    "ExecuteTime": {
     "end_time": "2019-06-10T04:22:19.407470Z",
     "start_time": "2019-06-10T04:20:40.888987Z"
    },
    "scrolled": true
   },
   "outputs": [
    {
     "name": "stdout",
     "output_type": "stream",
     "text": [
      "XGBoost params. ETA: 0.1, MAX_DEPTH: 5, SUBSAMPLE: 0.8, COLSAMPLE_BY_TREE: 0.8\n"
     ]
    },
    {
     "name": "stderr",
     "output_type": "stream",
     "text": [
      "D:\\ProgramData\\Anaconda3\\envs\\normal\\lib\\site-packages\\xgboost\\core.py:587: FutureWarning: Series.base is deprecated and will be removed in a future version\n",
      "  if getattr(data, 'base', None) is not None and \\\n",
      "D:\\ProgramData\\Anaconda3\\envs\\normal\\lib\\site-packages\\xgboost\\core.py:588: FutureWarning: Series.base is deprecated and will be removed in a future version\n",
      "  data.base is not None and isinstance(data, np.ndarray) \\\n"
     ]
    },
    {
     "name": "stdout",
     "output_type": "stream",
     "text": [
      "[0]\ttrain-logloss:0.648603\teval-logloss:0.648551\n",
      "Multiple eval metrics have been passed: 'eval-logloss' will be used for early stopping.\n",
      "\n",
      "Will train until eval-logloss hasn't improved in 20 rounds.\n",
      "[1]\ttrain-logloss:0.61216\teval-logloss:0.612064\n",
      "[2]\ttrain-logloss:0.582141\teval-logloss:0.581998\n",
      "[3]\ttrain-logloss:0.55721\teval-logloss:0.55704\n",
      "[4]\ttrain-logloss:0.536332\teval-logloss:0.536146\n",
      "[5]\ttrain-logloss:0.518734\teval-logloss:0.51853\n",
      "[6]\ttrain-logloss:0.503746\teval-logloss:0.503533\n",
      "[7]\ttrain-logloss:0.49126\teval-logloss:0.491023\n",
      "[8]\ttrain-logloss:0.480528\teval-logloss:0.480293\n",
      "[9]\ttrain-logloss:0.47136\teval-logloss:0.471123\n",
      "[10]\ttrain-logloss:0.463472\teval-logloss:0.463252\n",
      "[11]\ttrain-logloss:0.456843\teval-logloss:0.456619\n",
      "[12]\ttrain-logloss:0.451203\teval-logloss:0.45099\n",
      "[13]\ttrain-logloss:0.446228\teval-logloss:0.446032\n",
      "[14]\ttrain-logloss:0.44211\teval-logloss:0.441933\n",
      "[15]\ttrain-logloss:0.438442\teval-logloss:0.438287\n",
      "[16]\ttrain-logloss:0.43544\teval-logloss:0.435294\n",
      "[17]\ttrain-logloss:0.432942\teval-logloss:0.432804\n",
      "[18]\ttrain-logloss:0.430718\teval-logloss:0.430582\n",
      "[19]\ttrain-logloss:0.428828\teval-logloss:0.428711\n",
      "[20]\ttrain-logloss:0.427037\teval-logloss:0.426938\n",
      "[21]\ttrain-logloss:0.425567\teval-logloss:0.425463\n",
      "[22]\ttrain-logloss:0.424199\teval-logloss:0.42412\n",
      "[23]\ttrain-logloss:0.423132\teval-logloss:0.423072\n",
      "[24]\ttrain-logloss:0.422286\teval-logloss:0.422241\n",
      "[25]\ttrain-logloss:0.421319\teval-logloss:0.421308\n",
      "[26]\ttrain-logloss:0.420557\teval-logloss:0.420566\n",
      "[27]\ttrain-logloss:0.41995\teval-logloss:0.41999\n",
      "[28]\ttrain-logloss:0.419359\teval-logloss:0.419415\n",
      "[29]\ttrain-logloss:0.418812\teval-logloss:0.41887\n",
      "[30]\ttrain-logloss:0.41838\teval-logloss:0.418453\n",
      "[31]\ttrain-logloss:0.417896\teval-logloss:0.417987\n",
      "[32]\ttrain-logloss:0.417355\teval-logloss:0.417445\n",
      "[33]\ttrain-logloss:0.416966\teval-logloss:0.41705\n",
      "[34]\ttrain-logloss:0.416709\teval-logloss:0.416811\n",
      "[35]\ttrain-logloss:0.416445\teval-logloss:0.416568\n",
      "[36]\ttrain-logloss:0.416058\teval-logloss:0.416199\n",
      "[37]\ttrain-logloss:0.41555\teval-logloss:0.415709\n",
      "[38]\ttrain-logloss:0.415205\teval-logloss:0.415378\n",
      "[39]\ttrain-logloss:0.415022\teval-logloss:0.41522\n",
      "[40]\ttrain-logloss:0.41472\teval-logloss:0.414933\n",
      "[41]\ttrain-logloss:0.414342\teval-logloss:0.414592\n",
      "[42]\ttrain-logloss:0.414019\teval-logloss:0.414297\n",
      "[43]\ttrain-logloss:0.413786\teval-logloss:0.414092\n",
      "[44]\ttrain-logloss:0.413535\teval-logloss:0.413855\n",
      "[45]\ttrain-logloss:0.413359\teval-logloss:0.413701\n",
      "[46]\ttrain-logloss:0.413223\teval-logloss:0.413574\n",
      "[47]\ttrain-logloss:0.413124\teval-logloss:0.413485\n",
      "[48]\ttrain-logloss:0.412974\teval-logloss:0.413352\n",
      "[49]\ttrain-logloss:0.412826\teval-logloss:0.413216\n",
      "[50]\ttrain-logloss:0.412671\teval-logloss:0.413086\n",
      "[51]\ttrain-logloss:0.412533\teval-logloss:0.412982\n",
      "[52]\ttrain-logloss:0.412268\teval-logloss:0.412764\n",
      "[53]\ttrain-logloss:0.412017\teval-logloss:0.412533\n",
      "[54]\ttrain-logloss:0.411821\teval-logloss:0.412359\n",
      "[55]\ttrain-logloss:0.411609\teval-logloss:0.412191\n",
      "[56]\ttrain-logloss:0.411416\teval-logloss:0.412024\n",
      "[57]\ttrain-logloss:0.411166\teval-logloss:0.411773\n",
      "[58]\ttrain-logloss:0.41106\teval-logloss:0.411677\n",
      "[59]\ttrain-logloss:0.410893\teval-logloss:0.411533\n",
      "[60]\ttrain-logloss:0.410719\teval-logloss:0.411384\n",
      "[61]\ttrain-logloss:0.410551\teval-logloss:0.411225\n",
      "[62]\ttrain-logloss:0.410384\teval-logloss:0.41108\n",
      "[63]\ttrain-logloss:0.410267\teval-logloss:0.410993\n",
      "[64]\ttrain-logloss:0.41012\teval-logloss:0.410858\n",
      "[65]\ttrain-logloss:0.410004\teval-logloss:0.410752\n",
      "[66]\ttrain-logloss:0.409922\teval-logloss:0.410684\n",
      "[67]\ttrain-logloss:0.409745\teval-logloss:0.410519\n",
      "[68]\ttrain-logloss:0.409598\teval-logloss:0.410392\n",
      "[69]\ttrain-logloss:0.409457\teval-logloss:0.410274\n",
      "[70]\ttrain-logloss:0.409393\teval-logloss:0.410223\n",
      "[71]\ttrain-logloss:0.409318\teval-logloss:0.410154\n",
      "[72]\ttrain-logloss:0.409093\teval-logloss:0.409924\n",
      "[73]\ttrain-logloss:0.408954\teval-logloss:0.409809\n",
      "[74]\ttrain-logloss:0.408838\teval-logloss:0.409711\n",
      "[75]\ttrain-logloss:0.408704\teval-logloss:0.409595\n",
      "[76]\ttrain-logloss:0.408673\teval-logloss:0.409576\n",
      "[77]\ttrain-logloss:0.408618\teval-logloss:0.409532\n",
      "[78]\ttrain-logloss:0.408534\teval-logloss:0.409467\n",
      "[79]\ttrain-logloss:0.40844\teval-logloss:0.409392\n",
      "[80]\ttrain-logloss:0.408352\teval-logloss:0.409304\n",
      "[81]\ttrain-logloss:0.408138\teval-logloss:0.409113\n",
      "[82]\ttrain-logloss:0.408039\teval-logloss:0.409023\n",
      "[83]\ttrain-logloss:0.407978\teval-logloss:0.40898\n",
      "[84]\ttrain-logloss:0.407895\teval-logloss:0.408904\n",
      "[85]\ttrain-logloss:0.40786\teval-logloss:0.408871\n",
      "[86]\ttrain-logloss:0.40773\teval-logloss:0.408751\n",
      "[87]\ttrain-logloss:0.407618\teval-logloss:0.408662\n",
      "[88]\ttrain-logloss:0.407496\teval-logloss:0.408576\n",
      "[89]\ttrain-logloss:0.407443\teval-logloss:0.408537\n",
      "[90]\ttrain-logloss:0.407364\teval-logloss:0.408475\n",
      "[91]\ttrain-logloss:0.407281\teval-logloss:0.408398\n",
      "[92]\ttrain-logloss:0.407155\teval-logloss:0.408279\n",
      "[93]\ttrain-logloss:0.40707\teval-logloss:0.408211\n",
      "[94]\ttrain-logloss:0.406918\teval-logloss:0.408058\n",
      "[95]\ttrain-logloss:0.406716\teval-logloss:0.407873\n",
      "[96]\ttrain-logloss:0.406676\teval-logloss:0.40784\n",
      "[97]\ttrain-logloss:0.406643\teval-logloss:0.407811\n",
      "[98]\ttrain-logloss:0.4066\teval-logloss:0.407788\n",
      "[99]\ttrain-logloss:0.40647\teval-logloss:0.407665\n",
      "[100]\ttrain-logloss:0.406424\teval-logloss:0.40764\n",
      "[101]\ttrain-logloss:0.406385\teval-logloss:0.407608\n",
      "[102]\ttrain-logloss:0.406334\teval-logloss:0.407583\n",
      "[103]\ttrain-logloss:0.406275\teval-logloss:0.407536\n",
      "[104]\ttrain-logloss:0.406197\teval-logloss:0.407468\n",
      "[105]\ttrain-logloss:0.406099\teval-logloss:0.407369\n",
      "[106]\ttrain-logloss:0.406004\teval-logloss:0.407306\n",
      "[107]\ttrain-logloss:0.405925\teval-logloss:0.407246\n",
      "[108]\ttrain-logloss:0.405885\teval-logloss:0.407214\n",
      "[109]\ttrain-logloss:0.40582\teval-logloss:0.40716\n",
      "[110]\ttrain-logloss:0.405748\teval-logloss:0.407094\n",
      "[111]\ttrain-logloss:0.405694\teval-logloss:0.407042\n",
      "[112]\ttrain-logloss:0.405628\teval-logloss:0.406996\n",
      "[113]\ttrain-logloss:0.405546\teval-logloss:0.406941\n",
      "[114]\ttrain-logloss:0.405387\teval-logloss:0.406792\n",
      "[115]\ttrain-logloss:0.405263\teval-logloss:0.406671\n",
      "[116]\ttrain-logloss:0.405179\teval-logloss:0.406598\n",
      "[117]\ttrain-logloss:0.405141\teval-logloss:0.406561\n",
      "[118]\ttrain-logloss:0.405113\teval-logloss:0.406541\n",
      "[119]\ttrain-logloss:0.405033\teval-logloss:0.406468\n",
      "[120]\ttrain-logloss:0.404948\teval-logloss:0.406386\n",
      "[121]\ttrain-logloss:0.404914\teval-logloss:0.406366\n",
      "[122]\ttrain-logloss:0.404885\teval-logloss:0.406349\n",
      "[123]\ttrain-logloss:0.404804\teval-logloss:0.406285\n",
      "[124]\ttrain-logloss:0.40476\teval-logloss:0.406251\n",
      "[125]\ttrain-logloss:0.404669\teval-logloss:0.406169\n",
      "[126]\ttrain-logloss:0.404658\teval-logloss:0.406161\n",
      "[127]\ttrain-logloss:0.404642\teval-logloss:0.406155\n",
      "[128]\ttrain-logloss:0.404585\teval-logloss:0.40611\n",
      "[129]\ttrain-logloss:0.404552\teval-logloss:0.406084\n",
      "[130]\ttrain-logloss:0.40445\teval-logloss:0.405993\n",
      "[131]\ttrain-logloss:0.404367\teval-logloss:0.405931\n",
      "[132]\ttrain-logloss:0.404317\teval-logloss:0.405898\n",
      "[133]\ttrain-logloss:0.404271\teval-logloss:0.405876\n",
      "[134]\ttrain-logloss:0.404162\teval-logloss:0.405787\n",
      "[135]\ttrain-logloss:0.404144\teval-logloss:0.405771\n",
      "[136]\ttrain-logloss:0.404089\teval-logloss:0.40574\n",
      "[137]\ttrain-logloss:0.404023\teval-logloss:0.405683\n",
      "[138]\ttrain-logloss:0.403991\teval-logloss:0.405662\n",
      "[139]\ttrain-logloss:0.403944\teval-logloss:0.405635\n",
      "[140]\ttrain-logloss:0.40391\teval-logloss:0.405609\n",
      "[141]\ttrain-logloss:0.403847\teval-logloss:0.405564\n",
      "[142]\ttrain-logloss:0.403805\teval-logloss:0.405535\n",
      "[143]\ttrain-logloss:0.403768\teval-logloss:0.405513\n",
      "[144]\ttrain-logloss:0.403758\teval-logloss:0.405509\n",
      "[145]\ttrain-logloss:0.403697\teval-logloss:0.405466\n",
      "[146]\ttrain-logloss:0.403632\teval-logloss:0.405428\n",
      "[147]\ttrain-logloss:0.403581\teval-logloss:0.405394\n",
      "[148]\ttrain-logloss:0.403506\teval-logloss:0.405336\n",
      "[149]\ttrain-logloss:0.403449\teval-logloss:0.405298\n",
      "[150]\ttrain-logloss:0.403411\teval-logloss:0.405274\n",
      "[151]\ttrain-logloss:0.403398\teval-logloss:0.405264\n",
      "[152]\ttrain-logloss:0.403295\teval-logloss:0.405183\n",
      "[153]\ttrain-logloss:0.403254\teval-logloss:0.405155\n",
      "[154]\ttrain-logloss:0.403223\teval-logloss:0.405143\n",
      "[155]\ttrain-logloss:0.403195\teval-logloss:0.40513\n",
      "[156]\ttrain-logloss:0.403185\teval-logloss:0.405128\n",
      "[157]\ttrain-logloss:0.403132\teval-logloss:0.405092\n",
      "[158]\ttrain-logloss:0.40309\teval-logloss:0.405067\n",
      "[159]\ttrain-logloss:0.403066\teval-logloss:0.405055\n",
      "[160]\ttrain-logloss:0.403042\teval-logloss:0.405041\n"
     ]
    },
    {
     "name": "stdout",
     "output_type": "stream",
     "text": [
      "[161]\ttrain-logloss:0.403017\teval-logloss:0.405026\n",
      "[162]\ttrain-logloss:0.402929\teval-logloss:0.404937\n",
      "[163]\ttrain-logloss:0.4029\teval-logloss:0.404912\n",
      "[164]\ttrain-logloss:0.402881\teval-logloss:0.404905\n",
      "[165]\ttrain-logloss:0.402836\teval-logloss:0.404879\n",
      "[166]\ttrain-logloss:0.402792\teval-logloss:0.404851\n",
      "[167]\ttrain-logloss:0.40272\teval-logloss:0.404791\n",
      "[168]\ttrain-logloss:0.402694\teval-logloss:0.404776\n",
      "[169]\ttrain-logloss:0.402679\teval-logloss:0.404769\n",
      "[170]\ttrain-logloss:0.402627\teval-logloss:0.40474\n",
      "[171]\ttrain-logloss:0.402556\teval-logloss:0.404687\n",
      "[172]\ttrain-logloss:0.40253\teval-logloss:0.404661\n",
      "[173]\ttrain-logloss:0.402488\teval-logloss:0.404645\n",
      "[174]\ttrain-logloss:0.402445\teval-logloss:0.404623\n",
      "[175]\ttrain-logloss:0.402371\teval-logloss:0.404566\n",
      "[176]\ttrain-logloss:0.402323\teval-logloss:0.404537\n",
      "[177]\ttrain-logloss:0.402305\teval-logloss:0.404539\n",
      "[178]\ttrain-logloss:0.402217\teval-logloss:0.40446\n",
      "[179]\ttrain-logloss:0.402189\teval-logloss:0.404442\n",
      "[180]\ttrain-logloss:0.402107\teval-logloss:0.404373\n",
      "[181]\ttrain-logloss:0.402054\teval-logloss:0.404332\n",
      "[182]\ttrain-logloss:0.402018\teval-logloss:0.404305\n",
      "[183]\ttrain-logloss:0.40198\teval-logloss:0.404286\n",
      "[184]\ttrain-logloss:0.401936\teval-logloss:0.404258\n",
      "[185]\ttrain-logloss:0.401922\teval-logloss:0.404247\n",
      "[186]\ttrain-logloss:0.401891\teval-logloss:0.404239\n",
      "[187]\ttrain-logloss:0.401879\teval-logloss:0.404229\n",
      "[188]\ttrain-logloss:0.401861\teval-logloss:0.404224\n",
      "[189]\ttrain-logloss:0.401845\teval-logloss:0.404223\n",
      "[190]\ttrain-logloss:0.401803\teval-logloss:0.404193\n",
      "[191]\ttrain-logloss:0.401792\teval-logloss:0.404192\n",
      "[192]\ttrain-logloss:0.40173\teval-logloss:0.404156\n",
      "[193]\ttrain-logloss:0.401705\teval-logloss:0.404137\n",
      "[194]\ttrain-logloss:0.40167\teval-logloss:0.404109\n",
      "[195]\ttrain-logloss:0.401645\teval-logloss:0.404093\n",
      "[196]\ttrain-logloss:0.401608\teval-logloss:0.404071\n",
      "[197]\ttrain-logloss:0.401585\teval-logloss:0.404056\n",
      "[198]\ttrain-logloss:0.401537\teval-logloss:0.404027\n",
      "[199]\ttrain-logloss:0.401518\teval-logloss:0.404018\n",
      "[200]\ttrain-logloss:0.40146\teval-logloss:0.40398\n",
      "[201]\ttrain-logloss:0.401413\teval-logloss:0.403939\n",
      "[202]\ttrain-logloss:0.401395\teval-logloss:0.403934\n",
      "[203]\ttrain-logloss:0.401327\teval-logloss:0.403874\n",
      "[204]\ttrain-logloss:0.401279\teval-logloss:0.40383\n",
      "[205]\ttrain-logloss:0.401265\teval-logloss:0.403823\n",
      "[206]\ttrain-logloss:0.401223\teval-logloss:0.403789\n",
      "[207]\ttrain-logloss:0.401179\teval-logloss:0.403773\n",
      "[208]\ttrain-logloss:0.401139\teval-logloss:0.403751\n",
      "[209]\ttrain-logloss:0.401119\teval-logloss:0.40374\n",
      "[210]\ttrain-logloss:0.4011\teval-logloss:0.403722\n",
      "[211]\ttrain-logloss:0.401051\teval-logloss:0.403695\n",
      "[212]\ttrain-logloss:0.401032\teval-logloss:0.403689\n",
      "[213]\ttrain-logloss:0.400983\teval-logloss:0.403652\n",
      "[214]\ttrain-logloss:0.400951\teval-logloss:0.403633\n",
      "[215]\ttrain-logloss:0.400916\teval-logloss:0.403621\n",
      "[216]\ttrain-logloss:0.400898\teval-logloss:0.403616\n",
      "[217]\ttrain-logloss:0.40087\teval-logloss:0.403597\n",
      "[218]\ttrain-logloss:0.400826\teval-logloss:0.40356\n",
      "[219]\ttrain-logloss:0.400813\teval-logloss:0.403557\n",
      "[220]\ttrain-logloss:0.400782\teval-logloss:0.403547\n",
      "[221]\ttrain-logloss:0.400764\teval-logloss:0.403541\n",
      "[222]\ttrain-logloss:0.400736\teval-logloss:0.403527\n",
      "[223]\ttrain-logloss:0.400708\teval-logloss:0.403504\n",
      "[224]\ttrain-logloss:0.400662\teval-logloss:0.403473\n",
      "[225]\ttrain-logloss:0.400606\teval-logloss:0.403438\n",
      "[226]\ttrain-logloss:0.400577\teval-logloss:0.403429\n",
      "[227]\ttrain-logloss:0.400553\teval-logloss:0.40341\n",
      "[228]\ttrain-logloss:0.400533\teval-logloss:0.403399\n",
      "[229]\ttrain-logloss:0.40052\teval-logloss:0.403397\n",
      "[230]\ttrain-logloss:0.400494\teval-logloss:0.403377\n",
      "[231]\ttrain-logloss:0.400465\teval-logloss:0.403359\n",
      "[232]\ttrain-logloss:0.400414\teval-logloss:0.40332\n",
      "[233]\ttrain-logloss:0.400377\teval-logloss:0.403298\n",
      "[234]\ttrain-logloss:0.400331\teval-logloss:0.403268\n",
      "[235]\ttrain-logloss:0.400303\teval-logloss:0.403244\n",
      "[236]\ttrain-logloss:0.400262\teval-logloss:0.403227\n",
      "[237]\ttrain-logloss:0.400215\teval-logloss:0.403191\n",
      "[238]\ttrain-logloss:0.400189\teval-logloss:0.403176\n",
      "[239]\ttrain-logloss:0.400171\teval-logloss:0.403169\n",
      "[240]\ttrain-logloss:0.400149\teval-logloss:0.403149\n",
      "[241]\ttrain-logloss:0.400128\teval-logloss:0.403141\n",
      "[242]\ttrain-logloss:0.400078\teval-logloss:0.403098\n",
      "[243]\ttrain-logloss:0.400036\teval-logloss:0.403079\n",
      "[244]\ttrain-logloss:0.400004\teval-logloss:0.403045\n",
      "[245]\ttrain-logloss:0.39999\teval-logloss:0.40304\n",
      "[246]\ttrain-logloss:0.399954\teval-logloss:0.403027\n",
      "[247]\ttrain-logloss:0.399934\teval-logloss:0.403014\n",
      "[248]\ttrain-logloss:0.399885\teval-logloss:0.402982\n",
      "[249]\ttrain-logloss:0.399875\teval-logloss:0.402975\n",
      "[250]\ttrain-logloss:0.399863\teval-logloss:0.40297\n",
      "[251]\ttrain-logloss:0.399817\teval-logloss:0.402954\n",
      "[252]\ttrain-logloss:0.399781\teval-logloss:0.40293\n",
      "[253]\ttrain-logloss:0.399736\teval-logloss:0.402896\n",
      "[254]\ttrain-logloss:0.3997\teval-logloss:0.40287\n",
      "[255]\ttrain-logloss:0.399662\teval-logloss:0.402849\n",
      "[256]\ttrain-logloss:0.399603\teval-logloss:0.402809\n",
      "[257]\ttrain-logloss:0.399557\teval-logloss:0.402782\n",
      "[258]\ttrain-logloss:0.399528\teval-logloss:0.402772\n",
      "[259]\ttrain-logloss:0.3995\teval-logloss:0.402758\n",
      "0.402758\n",
      "259\n"
     ]
    }
   ],
   "source": [
    "features = ['C1', 'banner_pos', 'device_type', 'device_conn_type', 'C14',\n",
    "       'C15', 'C16', 'C17', 'C18', 'C19', 'C20', 'C21', 'hour_of_day',\n",
    "       'site_id_int', 'site_domain_int', 'site_category_int', 'app_id_int',\n",
    "       'app_domain_int', 'app_category_int', 'device_id_int', 'device_ip_int',\n",
    "       'device_model_int', 'day_of_week_int']\n",
    "run_default_test(train, features, 'click')"
   ]
  },
  {
   "cell_type": "code",
   "execution_count": null,
   "metadata": {},
   "outputs": [],
   "source": []
  }
 ],
 "metadata": {
  "hide_input": false,
  "kernelspec": {
   "display_name": "Python 3",
   "language": "python",
   "name": "python3"
  },
  "language_info": {
   "codemirror_mode": {
    "name": "ipython",
    "version": 3
   },
   "file_extension": ".py",
   "mimetype": "text/x-python",
   "name": "python",
   "nbconvert_exporter": "python",
   "pygments_lexer": "ipython3",
   "version": "3.7.0"
  },
  "nbTranslate": {
   "displayLangs": [
    "*"
   ],
   "hotkey": "alt-t",
   "langInMainMenu": true,
   "sourceLang": "en",
   "targetLang": "fr",
   "useGoogleTranslate": true
  },
  "notify_time": "5",
  "toc": {
   "base_numbering": 1,
   "nav_menu": {},
   "number_sections": true,
   "sideBar": true,
   "skip_h1_title": false,
   "title_cell": "Table of Contents",
   "title_sidebar": "Contents",
   "toc_cell": false,
   "toc_position": {},
   "toc_section_display": true,
   "toc_window_display": false
  },
  "varInspector": {
   "cols": {
    "lenName": 16,
    "lenType": 16,
    "lenVar": 40
   },
   "kernels_config": {
    "python": {
     "delete_cmd_postfix": "",
     "delete_cmd_prefix": "del ",
     "library": "var_list.py",
     "varRefreshCmd": "print(var_dic_list())"
    },
    "r": {
     "delete_cmd_postfix": ") ",
     "delete_cmd_prefix": "rm(",
     "library": "var_list.r",
     "varRefreshCmd": "cat(var_dic_list()) "
    }
   },
   "types_to_exclude": [
    "module",
    "function",
    "builtin_function_or_method",
    "instance",
    "_Feature"
   ],
   "window_display": false
  }
 },
 "nbformat": 4,
 "nbformat_minor": 2
}
